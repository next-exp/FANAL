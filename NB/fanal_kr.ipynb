{
 "cells": [
  {
   "cell_type": "markdown",
   "metadata": {},
   "source": [
    "<p style=\"font-family: Arial; font-size:3.75em;color:purple; font-style:bold\">\n",
    "<br>FANAL KRYPTON ANALYSIS</p><br>"
   ]
  },
  {
   "cell_type": "code",
   "execution_count": null,
   "metadata": {},
   "outputs": [],
   "source": [
    "from IPython.core.display import HTML\n",
    "css = open('css/style-table.css').read() + open('css/style-notebook.css').read()\n",
    "HTML('<style>{}</style>'.format(css))"
   ]
  },
  {
   "cell_type": "code",
   "execution_count": null,
   "metadata": {},
   "outputs": [],
   "source": [
    "%load_ext autoreload\n",
    "%autoreload 2"
   ]
  },
  {
   "cell_type": "code",
   "execution_count": null,
   "metadata": {},
   "outputs": [],
   "source": [
    "%matplotlib inline"
   ]
  },
  {
   "cell_type": "code",
   "execution_count": null,
   "metadata": {},
   "outputs": [],
   "source": [
    "%load_ext memory_profiler\n",
    "%load_ext line_profiler\n",
    "\n",
    "import line_profiler\n",
    "profile = line_profiler.LineProfiler()"
   ]
  },
  {
   "cell_type": "code",
   "execution_count": null,
   "metadata": {},
   "outputs": [],
   "source": [
    "# General importings\n",
    "import glob\n",
    "import json\n",
    "\n",
    "import matplotlib.pyplot        as plt\n",
    "\n",
    "# Specific IC stuff\n",
    "import invisible_cities.core.system_of_units  as units\n",
    "\n",
    "# Specific FANAL stuff\n",
    "from fanal.fanal_setup       import Setup\n",
    "from fanal.core.fanal_types  import KrAnalysisParams"
   ]
  },
  {
   "cell_type": "code",
   "execution_count": null,
   "metadata": {},
   "outputs": [],
   "source": []
  },
  {
   "cell_type": "markdown",
   "metadata": {},
   "source": [
    "# Krypton analysis params"
   ]
  },
  {
   "cell_type": "code",
   "execution_count": null,
   "metadata": {},
   "outputs": [],
   "source": [
    "kr_ifname = \"/Users/Javi/Development/nexus-production/data/FLEX100F_M6_O6.EL8bar/kr83.ACTIVE.full/dst/*.h5\"\n",
    "det_name  = \"FLEX100F\"\n",
    "verbosity = \"WARNING\""
   ]
  },
  {
   "cell_type": "code",
   "execution_count": null,
   "metadata": {},
   "outputs": [],
   "source": [
    "kr_analysis_params = KrAnalysisParams(veto_width          = 20. * units.mm,\n",
    "                                      tracking_sns_pde    = 1.0,\n",
    "                                      tracking_mask_att   = 0.0,\n",
    "                                      tracking_charge_th  = 0.0,\n",
    "                                      correction_map_type = 'rad'\n",
    "                                     )"
   ]
  },
  {
   "cell_type": "markdown",
   "metadata": {},
   "source": [
    "# ANALYSIS functions"
   ]
  },
  {
   "cell_type": "code",
   "execution_count": null,
   "metadata": {},
   "outputs": [],
   "source": [
    "import pandas as pd\n",
    "import numpy  as np\n",
    "\n",
    "from typing import Tuple\n",
    "\n",
    "from invisible_cities.core.core_functions     import in_range\n",
    "\n",
    "from fanal.core.detectors      import Detector\n",
    "from fanal.core.detectors      import S1_WIDTH\n",
    "from fanal.core.sensors        import get_sensor_response\n",
    "from fanal.core.sensors        import get_energy_response\n",
    "from fanal.core.sensors        import get_tracking_response\n",
    "from fanal.containers.kryptons import Krypton\n",
    "from fanal.utils.types         import XYZ"
   ]
  },
  {
   "cell_type": "code",
   "execution_count": null,
   "metadata": {},
   "outputs": [],
   "source": [
    "from fanal.analysis.kr_analysis import analyze_kr_event"
   ]
  },
  {
   "cell_type": "markdown",
   "metadata": {},
   "source": [
    "# Krypton analysis"
   ]
  },
  {
   "cell_type": "code",
   "execution_count": null,
   "metadata": {},
   "outputs": [],
   "source": [
    "from invisible_cities.io.mcinfo_io  import load_mcsensor_response_df\n",
    "from invisible_cities.io.mcinfo_io  import load_mchits_df\n",
    "\n",
    "from fanal.containers.kryptons      import KryptonList\n",
    "from fanal.utils.mc_utils           import get_event_numbers_in_file\n",
    "from fanal.utils.logger             import get_logger\n",
    "from fanal.core.detectors           import get_detector"
   ]
  },
  {
   "cell_type": "code",
   "execution_count": null,
   "metadata": {},
   "outputs": [],
   "source": [
    "kr_fnames = sorted(glob.glob(kr_ifname))#[0:5]\n",
    "detector  = get_detector(det_name)\n",
    "logger    = get_logger('Fanal', verbosity)"
   ]
  },
  {
   "cell_type": "code",
   "execution_count": null,
   "metadata": {},
   "outputs": [],
   "source": [
    "detector\n",
    "#detector.get_sensor_types()"
   ]
  },
  {
   "cell_type": "code",
   "execution_count": null,
   "metadata": {},
   "outputs": [],
   "source": [
    "kr_analysis_params"
   ]
  },
  {
   "cell_type": "code",
   "execution_count": null,
   "metadata": {},
   "outputs": [],
   "source": [
    "all_kryptons = KryptonList()"
   ]
  },
  {
   "cell_type": "code",
   "execution_count": null,
   "metadata": {
    "scrolled": false
   },
   "outputs": [],
   "source": [
    "for ifname in kr_fnames:\n",
    "    event_ids = get_event_numbers_in_file(ifname)\n",
    "    print(f'\\n*** Processing {ifname}  ({len(event_ids)} events) ...\\n')\n",
    "    \n",
    "    sns_response = load_mcsensor_response_df(ifname)\n",
    "    mcHits       = load_mchits_df(ifname)\n",
    "    \n",
    "    # Looping through all the events in iFile\n",
    "    for event_id in event_ids:\n",
    "        logger.info(f\"Analyzing Kr event {event_id}\")\n",
    "        krypton_data = analyze_kr_event(detector,\n",
    "                                        kr_analysis_params,\n",
    "                                        event_id,\n",
    "                                        sns_response.loc[event_id, :],\n",
    "                                        mcHits      .loc[event_id, :])\n",
    "        all_kryptons.add(krypton_data)\n"
   ]
  },
  {
   "cell_type": "code",
   "execution_count": null,
   "metadata": {},
   "outputs": [],
   "source": [
    "all_kryptons_df = all_kryptons.df()"
   ]
  },
  {
   "cell_type": "code",
   "execution_count": null,
   "metadata": {
    "scrolled": true
   },
   "outputs": [],
   "source": [
    "all_kryptons_df.head()"
   ]
  },
  {
   "cell_type": "code",
   "execution_count": null,
   "metadata": {},
   "outputs": [],
   "source": [
    "from fanal.core.correction_maps import build_correction_map\n",
    "from fanal.core.correction_maps import correct_s2"
   ]
  },
  {
   "cell_type": "code",
   "execution_count": null,
   "metadata": {},
   "outputs": [],
   "source": [
    "fiduc_selection = ((all_kryptons_df.z_rec   >= detector.active_z_min + kr_analysis_params.veto_width) &\n",
    "                   (all_kryptons_df.z_rec   <= detector.active_z_max - kr_analysis_params.veto_width) &\n",
    "                   (all_kryptons_df.rad_rec <= detector.active_rad   - kr_analysis_params.veto_width))"
   ]
  },
  {
   "cell_type": "code",
   "execution_count": null,
   "metadata": {},
   "outputs": [],
   "source": [
    "fiduc_kryptons = all_kryptons_df[fiduc_selection].copy()"
   ]
  },
  {
   "cell_type": "code",
   "execution_count": null,
   "metadata": {},
   "outputs": [],
   "source": [
    "fiduc_kryptons.head()"
   ]
  },
  {
   "cell_type": "code",
   "execution_count": null,
   "metadata": {},
   "outputs": [],
   "source": [
    "corr_map = build_correction_map(fiduc_kryptons, kr_analysis_params.correction_map_type, num_bins=100)"
   ]
  },
  {
   "cell_type": "code",
   "execution_count": null,
   "metadata": {
    "scrolled": true
   },
   "outputs": [],
   "source": [
    "pes_corr = correct_s2(fiduc_kryptons, corr_map, kr_analysis_params.correction_map_type)"
   ]
  },
  {
   "cell_type": "code",
   "execution_count": null,
   "metadata": {},
   "outputs": [],
   "source": []
  },
  {
   "cell_type": "code",
   "execution_count": null,
   "metadata": {},
   "outputs": [],
   "source": [
    "pes_to_MeV = (kr_energy/units.MeV) / fiduc_kryptons.s2_pes_corr.mean()"
   ]
  },
  {
   "cell_type": "code",
   "execution_count": null,
   "metadata": {},
   "outputs": [],
   "source": [
    "fiduc_kryptons.energy_rec = fiduc_kryptons.s2_pes_corr * pes_to_MeV"
   ]
  },
  {
   "cell_type": "markdown",
   "metadata": {},
   "source": [
    "# Analysis results"
   ]
  },
  {
   "cell_type": "code",
   "execution_count": null,
   "metadata": {},
   "outputs": [],
   "source": [
    "from fanal.core.fanal_units import Qbb\n",
    "from fanal.core.fanal_units import kr_energy\n",
    "\n",
    "from fanal.utils.plot_utils import plot_vertices\n",
    "from fanal.utils.plot_utils import plot_and_fit"
   ]
  },
  {
   "cell_type": "code",
   "execution_count": null,
   "metadata": {},
   "outputs": [],
   "source": [
    "plt.rcParams[\"figure.figsize\"] = 8, 6\n",
    "plt.rcParams[\"font.size\"     ] = 14"
   ]
  },
  {
   "cell_type": "markdown",
   "metadata": {},
   "source": [
    "#### Vertices"
   ]
  },
  {
   "cell_type": "code",
   "execution_count": null,
   "metadata": {
    "scrolled": false
   },
   "outputs": [],
   "source": [
    "#plot_vertices(all_kryptons_df.rename(columns = {'x_true': 'x', 'y_true': 'y', 'z_true': 'z'}),\n",
    "#              num_bins=40, extra_size = 50)"
   ]
  },
  {
   "cell_type": "markdown",
   "metadata": {},
   "source": [
    "#### Positions"
   ]
  },
  {
   "cell_type": "code",
   "execution_count": null,
   "metadata": {},
   "outputs": [],
   "source": [
    "dist_x  = fiduc_kryptons.x_true - fiduc_kryptons.x_rec\n",
    "dist_y  = fiduc_kryptons.y_true - fiduc_kryptons.y_rec\n",
    "\n",
    "dist_xy = XYZ(fiduc_kryptons.x_true, fiduc_kryptons.y_true, 0.).distance( \\\n",
    "          XYZ(fiduc_kryptons.x_rec , fiduc_kryptons.y_rec , 0.))"
   ]
  },
  {
   "cell_type": "code",
   "execution_count": null,
   "metadata": {},
   "outputs": [],
   "source": [
    "fig, (ax1, ax2) = plt.subplots(1,2, figsize=(16,7))\n",
    "ax1.hist(dist_x, 50);\n",
    "ax1.set_title (\"Distance X\", size=16);\n",
    "ax1.set_xlabel(\"mm\", size=16);\n",
    "ax1.set_ylabel(\"entries\", size=16);\n",
    "\n",
    "energy_sns_pde = 0.4\n",
    "ax2.hist(dist_y, 50);\n",
    "ax2.set_title (f\"Distance Y\", size=16);\n",
    "ax2.set_xlabel(\"mm\", size=16);\n",
    "ax2.set_ylabel(\"entries\", size=16);\n",
    "\n",
    "print(\"Distance X description:\")\n",
    "print(dist_x.describe())\n",
    "print(\"Distance Y description:\")\n",
    "print(dist_y.describe())\n"
   ]
  },
  {
   "cell_type": "code",
   "execution_count": null,
   "metadata": {},
   "outputs": [],
   "source": [
    "plt.hist(dist_xy, bins = 100);\n",
    "print(\"Distance XY description:\")\n",
    "dist_xy.describe()"
   ]
  },
  {
   "cell_type": "markdown",
   "metadata": {},
   "source": [
    "#### Energy - S1"
   ]
  },
  {
   "cell_type": "code",
   "execution_count": null,
   "metadata": {},
   "outputs": [],
   "source": [
    "fiduc_kryptons.s1_pes.describe()"
   ]
  },
  {
   "cell_type": "code",
   "execution_count": null,
   "metadata": {},
   "outputs": [],
   "source": [
    "fig, (ax1, ax2) = plt.subplots(1,2, figsize=(16,7))\n",
    "ax1.hist(fiduc_kryptons.s1_pes, 50, range=[0, 150]);\n",
    "ax1.set_title (\"S1 (raw)\", size=16);\n",
    "ax1.set_xlabel(\"pes\"     , size=16);\n",
    "ax1.set_ylabel(\"entries\" , size=16);\n",
    "\n",
    "ax2.hist2d(fiduc_kryptons.rad_true, fiduc_kryptons.s1_pes, (50, 50), range=[[20, 470], [0, 150]]);\n",
    "ax2.set_title (\"S1 (raw)\"   , size=16);\n",
    "ax2.set_xlabel(\"Radius (mm)\", size=16);\n",
    "ax2.set_ylabel(\"pes\"        , size=16);"
   ]
  },
  {
   "cell_type": "markdown",
   "metadata": {},
   "source": [
    "#### Light Collection Efficiency"
   ]
  },
  {
   "cell_type": "code",
   "execution_count": null,
   "metadata": {},
   "outputs": [],
   "source": [
    "# The number of initial scintillation photons for kr is \n",
    "# the kr energy / Wsci del xenon\n",
    "xe_Wsci = 39.2 * units.eV\n",
    "num_kr_s1_photons = kr_energy / xe_Wsci\n",
    "\n",
    "# This collection efficiency has been computed asuming that the sesnors used to read it:\n",
    "# Have a pde = 100 %\n",
    "# Don't have background\n",
    "fiduc_kryptons['col_eff'] = fiduc_kryptons.s1_pes / num_kr_s1_photons / units.perCent"
   ]
  },
  {
   "cell_type": "code",
   "execution_count": null,
   "metadata": {},
   "outputs": [],
   "source": [
    "fig, (ax1, ax2) = plt.subplots(1,2, figsize=(16,7))\n",
    "ax1.hist(fiduc_kryptons.col_eff, 50, range=(0, 15));\n",
    "ax1.set_title (\"Light Collection Efficiency\", size=16);\n",
    "ax1.set_xlabel(\"Eff (%)\", size=16);\n",
    "ax1.set_ylabel(\"entries\", size=16);\n",
    "\n",
    "energy_sns_pde = 0.4\n",
    "ax2.hist(fiduc_kryptons.col_eff * energy_sns_pde, 50, range=(0, 6));\n",
    "ax2.set_title (f\"Light Collection Efficiency (sns pde = {energy_sns_pde})\", size=16);\n",
    "ax2.set_xlabel(\"Eff (%)\", size=16);\n",
    "ax2.set_ylabel(\"entries\", size=16);\n",
    "\n",
    "(fiduc_kryptons.col_eff * energy_sns_pde).describe()"
   ]
  },
  {
   "cell_type": "markdown",
   "metadata": {},
   "source": [
    "#### Energy - S2"
   ]
  },
  {
   "cell_type": "code",
   "execution_count": null,
   "metadata": {},
   "outputs": [],
   "source": [
    "fig, (ax1, ax2) = plt.subplots(1,2, figsize=(16,7))\n",
    "ax1.hist(fiduc_kryptons.s2_pes, 50, (60000, 100000))\n",
    "ax1.set_title (\"S2 (raw)\"   , size=16);\n",
    "ax1.set_xlabel(\"pes\"     , size=16);\n",
    "ax1.set_ylabel(\"entries\" , size=16);\n",
    "\n",
    "ax2.hist2d(fiduc_kryptons.rad_true, fiduc_kryptons.s2_pes, (50, 50), range=[[20, 470], [60000, 100000]])\n",
    "ax2.set_title (\"S2 (raw)\"   , size=16);\n",
    "ax2.set_xlabel(\"Radius (mm)\", size=16);\n",
    "ax2.set_ylabel(\"pes\"        , size=16);"
   ]
  },
  {
   "cell_type": "code",
   "execution_count": null,
   "metadata": {},
   "outputs": [],
   "source": [
    "mu, sigma, fwhm = plot_and_fit(fiduc_kryptons.s2_pes_corr, title=\"corrected S2\", num_bins=100);\n",
    "\n",
    "print(f\"fwhm at Qbb: {fwhm * (kr_energy / Qbb)**.5 / units.perCent:.3} %\")"
   ]
  },
  {
   "cell_type": "code",
   "execution_count": null,
   "metadata": {},
   "outputs": [],
   "source": [
    "mu, sigma, fwhm = plot_and_fit(fiduc_kryptons.energy_rec, title=\"Energy reconstructed\", num_bins=100);\n",
    "\n",
    "print(f\"fwhm at Qbb: {fwhm * (kr_energy / Qbb)**.5 / units.perCent:.3} %\")"
   ]
  },
  {
   "cell_type": "markdown",
   "metadata": {},
   "source": [
    "#### Charge"
   ]
  },
  {
   "cell_type": "code",
   "execution_count": null,
   "metadata": {},
   "outputs": [],
   "source": [
    "print(f\"REMEMBER ... Current detector:\\n {detector}\\n\")"
   ]
  },
  {
   "cell_type": "code",
   "execution_count": null,
   "metadata": {},
   "outputs": [],
   "source": [
    "fig, (ax1, ax2) = plt.subplots(1,2, figsize=(16,7))\n",
    "ax1.hist(fiduc_kryptons.q_tot, 50)\n",
    "#ax1.hist(fiduc_kryptons.q_tot, 50, range=[900, 1300])\n",
    "ax1.set_title (\"Q tot\"   , size=16);\n",
    "ax1.set_xlabel(\"pes\"     , size=16);\n",
    "ax1.set_ylabel(\"entries\" , size=16);\n",
    "\n",
    "ax2.hist(fiduc_kryptons.q_max, 50)\n",
    "ax2.set_title (\"Q max\"   , size=16);\n",
    "ax2.set_xlabel(\"pes\"     , size=16);\n",
    "ax2.set_ylabel(\"entries\" , size=16);"
   ]
  },
  {
   "cell_type": "code",
   "execution_count": null,
   "metadata": {},
   "outputs": [],
   "source": [
    "fig, (ax1, ax2) = plt.subplots(1,2, figsize=(16,7))\n",
    "ax1.hist2d(fiduc_kryptons.rad_true, fiduc_kryptons.q_tot, (50, 50))\n",
    "#ax1.hist2d(fiduc_kryptons.rad_true, fiduc_kryptons.q_tot, (50, 50), range=[[20, 470], [900, 1300]])\n",
    "ax1.set_title (\"Q tot\"      , size=16);\n",
    "ax1.set_xlabel(\"Radius (mm)\", size=16);\n",
    "ax1.set_ylabel(\"pes\"        , size=16);\n",
    "\n",
    "#ax2.hist2d(fiduc_kryptons.rad_true, fiduc_kryptons.q_max, (50, 50))\n",
    "ax2.hist2d(fiduc_kryptons.rad_true, fiduc_kryptons.q_max, (50, 50), range=[[20, 470], [0, 300]])\n",
    "ax2.set_title (\"Q max\"      , size=16);\n",
    "ax2.set_xlabel(\"Radius (mm)\", size=16);\n",
    "ax2.set_ylabel(\"pes\"        , size=16);"
   ]
  },
  {
   "cell_type": "code",
   "execution_count": null,
   "metadata": {},
   "outputs": [],
   "source": []
  }
 ],
 "metadata": {
  "kernelspec": {
   "display_name": "Python 3",
   "language": "python",
   "name": "python3"
  },
  "language_info": {
   "codemirror_mode": {
    "name": "ipython",
    "version": 3
   },
   "file_extension": ".py",
   "mimetype": "text/x-python",
   "name": "python",
   "nbconvert_exporter": "python",
   "pygments_lexer": "ipython3",
   "version": "3.7.9"
  }
 },
 "nbformat": 4,
 "nbformat_minor": 2
}
