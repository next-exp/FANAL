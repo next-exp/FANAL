{
 "cells": [
  {
   "cell_type": "markdown",
   "metadata": {},
   "source": [
    "<p style=\"font-family: Arial; font-size:3.75em;color:purple; font-style:bold\">\n",
    "<br>RUNNING FANAL KR ANALYSIS</p><br>"
   ]
  },
  {
   "cell_type": "markdown",
   "metadata": {},
   "source": [
    "This notebook illustrates how to run the FANAL \"kr\" analysys departing from NEXUS full-sim files."
   ]
  },
  {
   "cell_type": "markdown",
   "metadata": {},
   "source": [
    "#### Setting general stuff"
   ]
  },
  {
   "cell_type": "code",
   "execution_count": null,
   "metadata": {},
   "outputs": [],
   "source": [
    "from IPython.core.display import HTML\n",
    "css = open('css/style-table.css').read() + open('css/style-notebook.css').read()\n",
    "HTML('<style>{}</style>'.format(css))"
   ]
  },
  {
   "cell_type": "code",
   "execution_count": null,
   "metadata": {},
   "outputs": [],
   "source": [
    "%load_ext autoreload\n",
    "%autoreload 2"
   ]
  },
  {
   "cell_type": "code",
   "execution_count": null,
   "metadata": {},
   "outputs": [],
   "source": [
    "%matplotlib inline"
   ]
  },
  {
   "cell_type": "code",
   "execution_count": null,
   "metadata": {},
   "outputs": [],
   "source": [
    "%load_ext memory_profiler\n",
    "%load_ext line_profiler\n",
    "\n",
    "import line_profiler\n",
    "profile = line_profiler.LineProfiler()"
   ]
  },
  {
   "cell_type": "markdown",
   "metadata": {},
   "source": [
    "#### Importing"
   ]
  },
  {
   "cell_type": "code",
   "execution_count": null,
   "metadata": {},
   "outputs": [],
   "source": [
    "# General importings\n",
    "import glob\n",
    "import json\n",
    "\n",
    "import matplotlib.pyplot        as plt\n",
    "\n",
    "# Specific IC stuff\n",
    "import invisible_cities.core.system_of_units  as units\n",
    "\n",
    "# Specific FANAL stuff\n",
    "from fanal.fanal_setup       import Setup\n",
    "from fanal.core.fanal_types  import KrAnalysisParams"
   ]
  },
  {
   "cell_type": "code",
   "execution_count": null,
   "metadata": {},
   "outputs": [],
   "source": []
  },
  {
   "cell_type": "markdown",
   "metadata": {},
   "source": [
    "# RUNNING FANAL 'kr' analysis"
   ]
  },
  {
   "cell_type": "markdown",
   "metadata": {},
   "source": [
    "## from a given config file (json format) ..."
   ]
  },
  {
   "cell_type": "code",
   "execution_count": null,
   "metadata": {},
   "outputs": [],
   "source": [
    "config_fnames = glob.glob(\"../config/*.config\")\n",
    "print ('Available config files:\\n')\n",
    "for config_fname in config_fnames: print(config_fname) "
   ]
  },
  {
   "cell_type": "code",
   "execution_count": null,
   "metadata": {},
   "outputs": [],
   "source": [
    "config_fname = \"../config/fanal.flex100f.kr.config\"\n",
    "\n",
    "fanal_setup = Setup.from_config_file('kr', config_fname)"
   ]
  },
  {
   "cell_type": "code",
   "execution_count": null,
   "metadata": {},
   "outputs": [],
   "source": [
    "%%time\n",
    "\n",
    "krypton_df = fanal_setup.run_analysis('kr')"
   ]
  },
  {
   "cell_type": "code",
   "execution_count": null,
   "metadata": {},
   "outputs": [],
   "source": []
  },
  {
   "cell_type": "markdown",
   "metadata": {},
   "source": [
    "## from parameters ..."
   ]
  },
  {
   "cell_type": "code",
   "execution_count": null,
   "metadata": {},
   "outputs": [],
   "source": [
    "# General stuff\n",
    "det_name        = \"FLEX100F\"\n",
    "input_fname     = \"/Users/Javi/Development/nexus-production/data/FLEX100F_M6_O6.EL8bar/kr83.ACTIVE.full/dst/*.h5\"\n",
    "output_fname    = \"../data/flex100f/kr/fanal/fanal.flex100f.kr.h5\"\n",
    "verbosity_level = 'WARNING' # ('DEBUG', 'INFO', 'WARNING', 'ERROR', 'CRITICAL')\n",
    "\n",
    "kr_analysis_params = \\\n",
    "    KrAnalysisParams(veto_width          = 20. * units.mm,\n",
    "                     tracking_sns_pde    = 1.0,\n",
    "                     tracking_mask_att   = 0.0,\n",
    "                     tracking_charge_th  = 0.0,\n",
    "                     correction_map_type = 'rad'\n",
    "                    )\n",
    "\n",
    "# Executing FANAL\n",
    "fanal_setup = Setup(det_name           = det_name,\n",
    "                    input_fname        = input_fname,\n",
    "                    output_fname       = output_fname,\n",
    "                    kr_analysis_params = kr_analysis_params,\n",
    "                    verbosity          = verbosity_level)"
   ]
  },
  {
   "cell_type": "code",
   "execution_count": null,
   "metadata": {
    "scrolled": false
   },
   "outputs": [],
   "source": [
    "%%time\n",
    "\n",
    "krypton_df = fanal_setup.run_analysis('kr')"
   ]
  },
  {
   "cell_type": "code",
   "execution_count": null,
   "metadata": {},
   "outputs": [],
   "source": []
  },
  {
   "cell_type": "code",
   "execution_count": null,
   "metadata": {},
   "outputs": [],
   "source": [
    "krypton_df.head()"
   ]
  },
  {
   "cell_type": "code",
   "execution_count": null,
   "metadata": {},
   "outputs": [],
   "source": []
  }
 ],
 "metadata": {
  "kernelspec": {
   "display_name": "Python 3",
   "language": "python",
   "name": "python3"
  },
  "language_info": {
   "codemirror_mode": {
    "name": "ipython",
    "version": 3
   },
   "file_extension": ".py",
   "mimetype": "text/x-python",
   "name": "python",
   "nbconvert_exporter": "python",
   "pygments_lexer": "ipython3",
   "version": "3.7.9"
  }
 },
 "nbformat": 4,
 "nbformat_minor": 2
}
