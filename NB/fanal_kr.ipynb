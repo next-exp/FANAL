{
 "cells": [
  {
   "cell_type": "markdown",
   "metadata": {},
   "source": [
    "<p style=\"font-family: Arial; font-size:3.75em;color:purple; font-style:bold\">\n",
    "<br>FANAL KRYPTON ANALYSIS</p><br>"
   ]
  },
  {
   "cell_type": "code",
   "execution_count": 1,
   "metadata": {},
   "outputs": [
    {
     "data": {
      "text/html": [
       "<style>body {\n",
       "    margin: 0;\n",
       "    font-family: Helvetica;\n",
       "}\n",
       "table.dataframe {\n",
       "    border-collapse: collapse;\n",
       "    border: none;\n",
       "}\n",
       "table.dataframe tr {\n",
       "    border: none;\n",
       "}\n",
       "table.dataframe td, table.dataframe th {\n",
       "    margin: 0;\n",
       "    border: 1px solid white;\n",
       "    padding-left: 0.25em;\n",
       "    padding-right: 0.25em;\n",
       "}\n",
       "table.dataframe th:not(:empty) {\n",
       "    background-color: #fec;\n",
       "    text-align: left;\n",
       "    font-weight: normal;\n",
       "}\n",
       "table.dataframe tr:nth-child(2) th:empty {\n",
       "    border-left: none;\n",
       "    border-right: 1px dashed #888;\n",
       "}\n",
       "table.dataframe td {\n",
       "    border: 2px solid #ccf;\n",
       "    background-color: #f4f4ff;\n",
       "}\n",
       "h3 {\n",
       "    color: white;\n",
       "    background-color: black;\n",
       "    padding: 0.5em;\n",
       "}\n",
       "</style>"
      ],
      "text/plain": [
       "<IPython.core.display.HTML object>"
      ]
     },
     "execution_count": 1,
     "metadata": {},
     "output_type": "execute_result"
    }
   ],
   "source": [
    "from IPython.core.display import HTML\n",
    "css = open('css/style-table.css').read() + open('css/style-notebook.css').read()\n",
    "HTML('<style>{}</style>'.format(css))"
   ]
  },
  {
   "cell_type": "code",
   "execution_count": 2,
   "metadata": {},
   "outputs": [],
   "source": [
    "%load_ext autoreload\n",
    "%autoreload 2"
   ]
  },
  {
   "cell_type": "code",
   "execution_count": 3,
   "metadata": {},
   "outputs": [],
   "source": [
    "%matplotlib inline"
   ]
  },
  {
   "cell_type": "code",
   "execution_count": 4,
   "metadata": {},
   "outputs": [],
   "source": [
    "%load_ext memory_profiler\n",
    "%load_ext line_profiler\n",
    "\n",
    "import line_profiler\n",
    "profile = line_profiler.LineProfiler()"
   ]
  },
  {
   "cell_type": "code",
   "execution_count": 5,
   "metadata": {},
   "outputs": [],
   "source": [
    "# General importings\n",
    "import glob\n",
    "import json\n",
    "\n",
    "import matplotlib.pyplot        as plt\n",
    "\n",
    "# Specific IC stuff\n",
    "import invisible_cities.core.system_of_units  as units\n",
    "\n",
    "# Specific FANAL stuff\n",
    "from fanal.fanal_setup       import Setup\n",
    "from fanal.core.fanal_types  import KrAnalysisParams"
   ]
  },
  {
   "cell_type": "code",
   "execution_count": null,
   "metadata": {},
   "outputs": [],
   "source": []
  },
  {
   "cell_type": "markdown",
   "metadata": {},
   "source": [
    "# Krypton analysis params"
   ]
  },
  {
   "cell_type": "code",
   "execution_count": 6,
   "metadata": {},
   "outputs": [],
   "source": [
    "kr_ifname = \"/Users/Javi/Development/nexus-production/data/FLEX100F_M6_O6.EL8bar/kr83.ACTIVE.full/dst/*.h5\"\n",
    "det_name  = \"FLEX100F\"\n",
    "verbosity = \"WARNING\""
   ]
  },
  {
   "cell_type": "code",
   "execution_count": 7,
   "metadata": {},
   "outputs": [],
   "source": [
    "kr_analysis_params = KrAnalysisParams(veto_width          = 20. * units.mm,\n",
    "                                      tracking_sns_pde    = 1.0,\n",
    "                                      tracking_mask_att   = 0.0,\n",
    "                                      tracking_charge_th  = 0.0,\n",
    "                                      correction_map_type = 'rad'\n",
    "                                     )"
   ]
  },
  {
   "cell_type": "markdown",
   "metadata": {},
   "source": [
    "# ANALYSIS functions"
   ]
  },
  {
   "cell_type": "code",
   "execution_count": 8,
   "metadata": {},
   "outputs": [],
   "source": [
    "import pandas as pd\n",
    "import numpy  as np\n",
    "\n",
    "from typing import Tuple\n",
    "\n",
    "from invisible_cities.core.core_functions     import in_range\n",
    "\n",
    "from fanal.core.detectors      import Detector\n",
    "from fanal.core.detectors      import S1_WIDTH\n",
    "from fanal.core.sensors        import get_sensor_response\n",
    "from fanal.core.sensors        import get_energy_response\n",
    "from fanal.core.sensors        import get_tracking_response\n",
    "from fanal.containers.kryptons import Krypton\n",
    "from fanal.utils.types         import XYZ"
   ]
  },
  {
   "cell_type": "code",
   "execution_count": 9,
   "metadata": {},
   "outputs": [],
   "source": [
    "from fanal.analysis.kr_analysis import analyze_kr_event"
   ]
  },
  {
   "cell_type": "markdown",
   "metadata": {},
   "source": [
    "# Krypton analysis"
   ]
  },
  {
   "cell_type": "code",
   "execution_count": 10,
   "metadata": {},
   "outputs": [],
   "source": [
    "from invisible_cities.io.mcinfo_io  import load_mcsensor_response_df\n",
    "from invisible_cities.io.mcinfo_io  import load_mchits_df\n",
    "\n",
    "from fanal.containers.kryptons      import KryptonList\n",
    "from fanal.utils.mc_utils           import get_event_numbers_in_file\n",
    "from fanal.utils.logger             import get_logger\n",
    "from fanal.core.detectors           import get_detector"
   ]
  },
  {
   "cell_type": "code",
   "execution_count": 11,
   "metadata": {},
   "outputs": [],
   "source": [
    "kr_fnames = sorted(glob.glob(kr_ifname))#[0:5]\n",
    "detector  = get_detector(det_name)\n",
    "logger    = get_logger('Fanal', verbosity)"
   ]
  },
  {
   "cell_type": "code",
   "execution_count": 12,
   "metadata": {},
   "outputs": [
    {
     "data": {
      "text/plain": [
       "* Detector name: FLEX100F\n",
       "  ACTIVE dimensions (mm): Zmin = 0.00   Zmax = 1204.95   Rad = 492.00\n",
       "  Symmetric: False\n",
       "  Energy   Sensors  : ['F_SENSOR_L', 'F_SENSOR_R']\n",
       "  Tracking Sensors  : ['TP_SiPM']\n",
       "  Tracking map fname: FLEX100F.tracking_map.csv"
      ]
     },
     "execution_count": 12,
     "metadata": {},
     "output_type": "execute_result"
    }
   ],
   "source": [
    "detector\n",
    "#detector.get_sensor_types()"
   ]
  },
  {
   "cell_type": "code",
   "execution_count": 13,
   "metadata": {},
   "outputs": [
    {
     "data": {
      "text/plain": [
       "*** Veto width:            20.0 mm\n",
       "*** Tracking sensors pde:  1.000\n",
       "*** Tracking mask att:     0.000\n",
       "*** Tracking charge th:    0.000 pes\n",
       "*** Correction map type:   rad"
      ]
     },
     "execution_count": 13,
     "metadata": {},
     "output_type": "execute_result"
    }
   ],
   "source": [
    "kr_analysis_params"
   ]
  },
  {
   "cell_type": "code",
   "execution_count": 14,
   "metadata": {},
   "outputs": [],
   "source": [
    "all_kryptons = KryptonList()"
   ]
  },
  {
   "cell_type": "code",
   "execution_count": 15,
   "metadata": {
    "scrolled": false
   },
   "outputs": [
    {
     "name": "stdout",
     "output_type": "stream",
     "text": [
      "\n",
      "*** Processing /Users/Javi/Development/nexus-production/data/FLEX100F_M6_O6.EL8bar/kr83.ACTIVE.full/dst/FLEX100F_M6_O6.Kr83.ACTIVE.0.next.h5  (100 events) ...\n",
      "\n",
      "\n",
      "*** Processing /Users/Javi/Development/nexus-production/data/FLEX100F_M6_O6.EL8bar/kr83.ACTIVE.full/dst/FLEX100F_M6_O6.Kr83.ACTIVE.1.next.h5  (100 events) ...\n",
      "\n",
      "\n",
      "*** Processing /Users/Javi/Development/nexus-production/data/FLEX100F_M6_O6.EL8bar/kr83.ACTIVE.full/dst/FLEX100F_M6_O6.Kr83.ACTIVE.10.next.h5  (100 events) ...\n",
      "\n",
      "\n",
      "*** Processing /Users/Javi/Development/nexus-production/data/FLEX100F_M6_O6.EL8bar/kr83.ACTIVE.full/dst/FLEX100F_M6_O6.Kr83.ACTIVE.11.next.h5  (100 events) ...\n",
      "\n",
      "\n",
      "*** Processing /Users/Javi/Development/nexus-production/data/FLEX100F_M6_O6.EL8bar/kr83.ACTIVE.full/dst/FLEX100F_M6_O6.Kr83.ACTIVE.12.next.h5  (100 events) ...\n",
      "\n",
      "\n",
      "*** Processing /Users/Javi/Development/nexus-production/data/FLEX100F_M6_O6.EL8bar/kr83.ACTIVE.full/dst/FLEX100F_M6_O6.Kr83.ACTIVE.13.next.h5  (100 events) ...\n",
      "\n",
      "\n",
      "*** Processing /Users/Javi/Development/nexus-production/data/FLEX100F_M6_O6.EL8bar/kr83.ACTIVE.full/dst/FLEX100F_M6_O6.Kr83.ACTIVE.14.next.h5  (100 events) ...\n",
      "\n",
      "\n",
      "*** Processing /Users/Javi/Development/nexus-production/data/FLEX100F_M6_O6.EL8bar/kr83.ACTIVE.full/dst/FLEX100F_M6_O6.Kr83.ACTIVE.15.next.h5  (100 events) ...\n",
      "\n",
      "\n",
      "*** Processing /Users/Javi/Development/nexus-production/data/FLEX100F_M6_O6.EL8bar/kr83.ACTIVE.full/dst/FLEX100F_M6_O6.Kr83.ACTIVE.16.next.h5  (100 events) ...\n",
      "\n",
      "\n",
      "*** Processing /Users/Javi/Development/nexus-production/data/FLEX100F_M6_O6.EL8bar/kr83.ACTIVE.full/dst/FLEX100F_M6_O6.Kr83.ACTIVE.17.next.h5  (100 events) ...\n",
      "\n",
      "\n",
      "*** Processing /Users/Javi/Development/nexus-production/data/FLEX100F_M6_O6.EL8bar/kr83.ACTIVE.full/dst/FLEX100F_M6_O6.Kr83.ACTIVE.18.next.h5  (100 events) ...\n",
      "\n",
      "\n",
      "*** Processing /Users/Javi/Development/nexus-production/data/FLEX100F_M6_O6.EL8bar/kr83.ACTIVE.full/dst/FLEX100F_M6_O6.Kr83.ACTIVE.19.next.h5  (100 events) ...\n",
      "\n",
      "\n",
      "*** Processing /Users/Javi/Development/nexus-production/data/FLEX100F_M6_O6.EL8bar/kr83.ACTIVE.full/dst/FLEX100F_M6_O6.Kr83.ACTIVE.2.next.h5  (100 events) ...\n",
      "\n",
      "\n",
      "*** Processing /Users/Javi/Development/nexus-production/data/FLEX100F_M6_O6.EL8bar/kr83.ACTIVE.full/dst/FLEX100F_M6_O6.Kr83.ACTIVE.20.next.h5  (100 events) ...\n",
      "\n",
      "\n",
      "*** Processing /Users/Javi/Development/nexus-production/data/FLEX100F_M6_O6.EL8bar/kr83.ACTIVE.full/dst/FLEX100F_M6_O6.Kr83.ACTIVE.21.next.h5  (100 events) ...\n",
      "\n",
      "\n",
      "*** Processing /Users/Javi/Development/nexus-production/data/FLEX100F_M6_O6.EL8bar/kr83.ACTIVE.full/dst/FLEX100F_M6_O6.Kr83.ACTIVE.22.next.h5  (100 events) ...\n",
      "\n",
      "\n",
      "*** Processing /Users/Javi/Development/nexus-production/data/FLEX100F_M6_O6.EL8bar/kr83.ACTIVE.full/dst/FLEX100F_M6_O6.Kr83.ACTIVE.23.next.h5  (100 events) ...\n",
      "\n",
      "\n",
      "*** Processing /Users/Javi/Development/nexus-production/data/FLEX100F_M6_O6.EL8bar/kr83.ACTIVE.full/dst/FLEX100F_M6_O6.Kr83.ACTIVE.24.next.h5  (100 events) ...\n",
      "\n",
      "\n",
      "*** Processing /Users/Javi/Development/nexus-production/data/FLEX100F_M6_O6.EL8bar/kr83.ACTIVE.full/dst/FLEX100F_M6_O6.Kr83.ACTIVE.25.next.h5  (100 events) ...\n",
      "\n",
      "\n",
      "*** Processing /Users/Javi/Development/nexus-production/data/FLEX100F_M6_O6.EL8bar/kr83.ACTIVE.full/dst/FLEX100F_M6_O6.Kr83.ACTIVE.26.next.h5  (100 events) ...\n",
      "\n",
      "\n",
      "*** Processing /Users/Javi/Development/nexus-production/data/FLEX100F_M6_O6.EL8bar/kr83.ACTIVE.full/dst/FLEX100F_M6_O6.Kr83.ACTIVE.27.next.h5  (100 events) ...\n",
      "\n",
      "\n",
      "*** Processing /Users/Javi/Development/nexus-production/data/FLEX100F_M6_O6.EL8bar/kr83.ACTIVE.full/dst/FLEX100F_M6_O6.Kr83.ACTIVE.28.next.h5  (100 events) ...\n",
      "\n",
      "\n",
      "*** Processing /Users/Javi/Development/nexus-production/data/FLEX100F_M6_O6.EL8bar/kr83.ACTIVE.full/dst/FLEX100F_M6_O6.Kr83.ACTIVE.29.next.h5  (100 events) ...\n",
      "\n",
      "\n",
      "*** Processing /Users/Javi/Development/nexus-production/data/FLEX100F_M6_O6.EL8bar/kr83.ACTIVE.full/dst/FLEX100F_M6_O6.Kr83.ACTIVE.3.next.h5  (100 events) ...\n",
      "\n",
      "\n",
      "*** Processing /Users/Javi/Development/nexus-production/data/FLEX100F_M6_O6.EL8bar/kr83.ACTIVE.full/dst/FLEX100F_M6_O6.Kr83.ACTIVE.30.next.h5  (100 events) ...\n",
      "\n",
      "\n",
      "*** Processing /Users/Javi/Development/nexus-production/data/FLEX100F_M6_O6.EL8bar/kr83.ACTIVE.full/dst/FLEX100F_M6_O6.Kr83.ACTIVE.31.next.h5  (100 events) ...\n",
      "\n",
      "\n",
      "*** Processing /Users/Javi/Development/nexus-production/data/FLEX100F_M6_O6.EL8bar/kr83.ACTIVE.full/dst/FLEX100F_M6_O6.Kr83.ACTIVE.32.next.h5  (100 events) ...\n",
      "\n",
      "\n",
      "*** Processing /Users/Javi/Development/nexus-production/data/FLEX100F_M6_O6.EL8bar/kr83.ACTIVE.full/dst/FLEX100F_M6_O6.Kr83.ACTIVE.33.next.h5  (100 events) ...\n",
      "\n",
      "\n",
      "*** Processing /Users/Javi/Development/nexus-production/data/FLEX100F_M6_O6.EL8bar/kr83.ACTIVE.full/dst/FLEX100F_M6_O6.Kr83.ACTIVE.34.next.h5  (100 events) ...\n",
      "\n",
      "\n",
      "*** Processing /Users/Javi/Development/nexus-production/data/FLEX100F_M6_O6.EL8bar/kr83.ACTIVE.full/dst/FLEX100F_M6_O6.Kr83.ACTIVE.35.next.h5  (100 events) ...\n",
      "\n",
      "\n",
      "*** Processing /Users/Javi/Development/nexus-production/data/FLEX100F_M6_O6.EL8bar/kr83.ACTIVE.full/dst/FLEX100F_M6_O6.Kr83.ACTIVE.36.next.h5  (100 events) ...\n",
      "\n",
      "\n",
      "*** Processing /Users/Javi/Development/nexus-production/data/FLEX100F_M6_O6.EL8bar/kr83.ACTIVE.full/dst/FLEX100F_M6_O6.Kr83.ACTIVE.37.next.h5  (100 events) ...\n",
      "\n",
      "\n",
      "*** Processing /Users/Javi/Development/nexus-production/data/FLEX100F_M6_O6.EL8bar/kr83.ACTIVE.full/dst/FLEX100F_M6_O6.Kr83.ACTIVE.38.next.h5  (100 events) ...\n",
      "\n",
      "\n",
      "*** Processing /Users/Javi/Development/nexus-production/data/FLEX100F_M6_O6.EL8bar/kr83.ACTIVE.full/dst/FLEX100F_M6_O6.Kr83.ACTIVE.39.next.h5  (100 events) ...\n",
      "\n",
      "\n",
      "*** Processing /Users/Javi/Development/nexus-production/data/FLEX100F_M6_O6.EL8bar/kr83.ACTIVE.full/dst/FLEX100F_M6_O6.Kr83.ACTIVE.4.next.h5  (100 events) ...\n",
      "\n",
      "\n",
      "*** Processing /Users/Javi/Development/nexus-production/data/FLEX100F_M6_O6.EL8bar/kr83.ACTIVE.full/dst/FLEX100F_M6_O6.Kr83.ACTIVE.40.next.h5  (100 events) ...\n",
      "\n",
      "\n",
      "*** Processing /Users/Javi/Development/nexus-production/data/FLEX100F_M6_O6.EL8bar/kr83.ACTIVE.full/dst/FLEX100F_M6_O6.Kr83.ACTIVE.41.next.h5  (100 events) ...\n",
      "\n",
      "\n",
      "*** Processing /Users/Javi/Development/nexus-production/data/FLEX100F_M6_O6.EL8bar/kr83.ACTIVE.full/dst/FLEX100F_M6_O6.Kr83.ACTIVE.42.next.h5  (100 events) ...\n",
      "\n",
      "\n",
      "*** Processing /Users/Javi/Development/nexus-production/data/FLEX100F_M6_O6.EL8bar/kr83.ACTIVE.full/dst/FLEX100F_M6_O6.Kr83.ACTIVE.43.next.h5  (100 events) ...\n",
      "\n",
      "\n",
      "*** Processing /Users/Javi/Development/nexus-production/data/FLEX100F_M6_O6.EL8bar/kr83.ACTIVE.full/dst/FLEX100F_M6_O6.Kr83.ACTIVE.44.next.h5  (100 events) ...\n",
      "\n",
      "\n",
      "*** Processing /Users/Javi/Development/nexus-production/data/FLEX100F_M6_O6.EL8bar/kr83.ACTIVE.full/dst/FLEX100F_M6_O6.Kr83.ACTIVE.45.next.h5  (100 events) ...\n",
      "\n",
      "\n",
      "*** Processing /Users/Javi/Development/nexus-production/data/FLEX100F_M6_O6.EL8bar/kr83.ACTIVE.full/dst/FLEX100F_M6_O6.Kr83.ACTIVE.46.next.h5  (100 events) ...\n",
      "\n",
      "\n",
      "*** Processing /Users/Javi/Development/nexus-production/data/FLEX100F_M6_O6.EL8bar/kr83.ACTIVE.full/dst/FLEX100F_M6_O6.Kr83.ACTIVE.47.next.h5  (100 events) ...\n",
      "\n",
      "\n",
      "*** Processing /Users/Javi/Development/nexus-production/data/FLEX100F_M6_O6.EL8bar/kr83.ACTIVE.full/dst/FLEX100F_M6_O6.Kr83.ACTIVE.48.next.h5  (100 events) ...\n",
      "\n",
      "\n",
      "*** Processing /Users/Javi/Development/nexus-production/data/FLEX100F_M6_O6.EL8bar/kr83.ACTIVE.full/dst/FLEX100F_M6_O6.Kr83.ACTIVE.49.next.h5  (100 events) ...\n",
      "\n",
      "\n",
      "*** Processing /Users/Javi/Development/nexus-production/data/FLEX100F_M6_O6.EL8bar/kr83.ACTIVE.full/dst/FLEX100F_M6_O6.Kr83.ACTIVE.5.next.h5  (100 events) ...\n",
      "\n",
      "\n",
      "*** Processing /Users/Javi/Development/nexus-production/data/FLEX100F_M6_O6.EL8bar/kr83.ACTIVE.full/dst/FLEX100F_M6_O6.Kr83.ACTIVE.50.next.h5  (100 events) ...\n",
      "\n",
      "\n",
      "*** Processing /Users/Javi/Development/nexus-production/data/FLEX100F_M6_O6.EL8bar/kr83.ACTIVE.full/dst/FLEX100F_M6_O6.Kr83.ACTIVE.51.next.h5  (100 events) ...\n",
      "\n",
      "\n",
      "*** Processing /Users/Javi/Development/nexus-production/data/FLEX100F_M6_O6.EL8bar/kr83.ACTIVE.full/dst/FLEX100F_M6_O6.Kr83.ACTIVE.52.next.h5  (100 events) ...\n",
      "\n",
      "\n",
      "*** Processing /Users/Javi/Development/nexus-production/data/FLEX100F_M6_O6.EL8bar/kr83.ACTIVE.full/dst/FLEX100F_M6_O6.Kr83.ACTIVE.53.next.h5  (100 events) ...\n",
      "\n",
      "\n",
      "*** Processing /Users/Javi/Development/nexus-production/data/FLEX100F_M6_O6.EL8bar/kr83.ACTIVE.full/dst/FLEX100F_M6_O6.Kr83.ACTIVE.54.next.h5  (100 events) ...\n",
      "\n"
     ]
    },
    {
     "name": "stdout",
     "output_type": "stream",
     "text": [
      "\n",
      "*** Processing /Users/Javi/Development/nexus-production/data/FLEX100F_M6_O6.EL8bar/kr83.ACTIVE.full/dst/FLEX100F_M6_O6.Kr83.ACTIVE.55.next.h5  (100 events) ...\n",
      "\n",
      "\n",
      "*** Processing /Users/Javi/Development/nexus-production/data/FLEX100F_M6_O6.EL8bar/kr83.ACTIVE.full/dst/FLEX100F_M6_O6.Kr83.ACTIVE.56.next.h5  (100 events) ...\n",
      "\n",
      "\n",
      "*** Processing /Users/Javi/Development/nexus-production/data/FLEX100F_M6_O6.EL8bar/kr83.ACTIVE.full/dst/FLEX100F_M6_O6.Kr83.ACTIVE.57.next.h5  (100 events) ...\n",
      "\n",
      "\n",
      "*** Processing /Users/Javi/Development/nexus-production/data/FLEX100F_M6_O6.EL8bar/kr83.ACTIVE.full/dst/FLEX100F_M6_O6.Kr83.ACTIVE.58.next.h5  (100 events) ...\n",
      "\n",
      "\n",
      "*** Processing /Users/Javi/Development/nexus-production/data/FLEX100F_M6_O6.EL8bar/kr83.ACTIVE.full/dst/FLEX100F_M6_O6.Kr83.ACTIVE.59.next.h5  (100 events) ...\n",
      "\n",
      "\n",
      "*** Processing /Users/Javi/Development/nexus-production/data/FLEX100F_M6_O6.EL8bar/kr83.ACTIVE.full/dst/FLEX100F_M6_O6.Kr83.ACTIVE.6.next.h5  (100 events) ...\n",
      "\n",
      "\n",
      "*** Processing /Users/Javi/Development/nexus-production/data/FLEX100F_M6_O6.EL8bar/kr83.ACTIVE.full/dst/FLEX100F_M6_O6.Kr83.ACTIVE.60.next.h5  (100 events) ...\n",
      "\n",
      "\n",
      "*** Processing /Users/Javi/Development/nexus-production/data/FLEX100F_M6_O6.EL8bar/kr83.ACTIVE.full/dst/FLEX100F_M6_O6.Kr83.ACTIVE.61.next.h5  (100 events) ...\n",
      "\n",
      "\n",
      "*** Processing /Users/Javi/Development/nexus-production/data/FLEX100F_M6_O6.EL8bar/kr83.ACTIVE.full/dst/FLEX100F_M6_O6.Kr83.ACTIVE.62.next.h5  (100 events) ...\n",
      "\n",
      "\n",
      "*** Processing /Users/Javi/Development/nexus-production/data/FLEX100F_M6_O6.EL8bar/kr83.ACTIVE.full/dst/FLEX100F_M6_O6.Kr83.ACTIVE.63.next.h5  (100 events) ...\n",
      "\n",
      "\n",
      "*** Processing /Users/Javi/Development/nexus-production/data/FLEX100F_M6_O6.EL8bar/kr83.ACTIVE.full/dst/FLEX100F_M6_O6.Kr83.ACTIVE.64.next.h5  (100 events) ...\n",
      "\n",
      "\n",
      "*** Processing /Users/Javi/Development/nexus-production/data/FLEX100F_M6_O6.EL8bar/kr83.ACTIVE.full/dst/FLEX100F_M6_O6.Kr83.ACTIVE.65.next.h5  (100 events) ...\n",
      "\n",
      "\n",
      "*** Processing /Users/Javi/Development/nexus-production/data/FLEX100F_M6_O6.EL8bar/kr83.ACTIVE.full/dst/FLEX100F_M6_O6.Kr83.ACTIVE.66.next.h5  (100 events) ...\n",
      "\n",
      "\n",
      "*** Processing /Users/Javi/Development/nexus-production/data/FLEX100F_M6_O6.EL8bar/kr83.ACTIVE.full/dst/FLEX100F_M6_O6.Kr83.ACTIVE.67.next.h5  (100 events) ...\n",
      "\n",
      "\n",
      "*** Processing /Users/Javi/Development/nexus-production/data/FLEX100F_M6_O6.EL8bar/kr83.ACTIVE.full/dst/FLEX100F_M6_O6.Kr83.ACTIVE.68.next.h5  (100 events) ...\n",
      "\n",
      "\n",
      "*** Processing /Users/Javi/Development/nexus-production/data/FLEX100F_M6_O6.EL8bar/kr83.ACTIVE.full/dst/FLEX100F_M6_O6.Kr83.ACTIVE.69.next.h5  (100 events) ...\n",
      "\n",
      "\n",
      "*** Processing /Users/Javi/Development/nexus-production/data/FLEX100F_M6_O6.EL8bar/kr83.ACTIVE.full/dst/FLEX100F_M6_O6.Kr83.ACTIVE.7.next.h5  (100 events) ...\n",
      "\n",
      "\n",
      "*** Processing /Users/Javi/Development/nexus-production/data/FLEX100F_M6_O6.EL8bar/kr83.ACTIVE.full/dst/FLEX100F_M6_O6.Kr83.ACTIVE.70.next.h5  (100 events) ...\n",
      "\n",
      "\n",
      "*** Processing /Users/Javi/Development/nexus-production/data/FLEX100F_M6_O6.EL8bar/kr83.ACTIVE.full/dst/FLEX100F_M6_O6.Kr83.ACTIVE.71.next.h5  (100 events) ...\n",
      "\n",
      "\n",
      "*** Processing /Users/Javi/Development/nexus-production/data/FLEX100F_M6_O6.EL8bar/kr83.ACTIVE.full/dst/FLEX100F_M6_O6.Kr83.ACTIVE.72.next.h5  (100 events) ...\n",
      "\n",
      "\n",
      "*** Processing /Users/Javi/Development/nexus-production/data/FLEX100F_M6_O6.EL8bar/kr83.ACTIVE.full/dst/FLEX100F_M6_O6.Kr83.ACTIVE.73.next.h5  (100 events) ...\n",
      "\n",
      "\n",
      "*** Processing /Users/Javi/Development/nexus-production/data/FLEX100F_M6_O6.EL8bar/kr83.ACTIVE.full/dst/FLEX100F_M6_O6.Kr83.ACTIVE.74.next.h5  (100 events) ...\n",
      "\n",
      "\n",
      "*** Processing /Users/Javi/Development/nexus-production/data/FLEX100F_M6_O6.EL8bar/kr83.ACTIVE.full/dst/FLEX100F_M6_O6.Kr83.ACTIVE.75.next.h5  (100 events) ...\n",
      "\n",
      "\n",
      "*** Processing /Users/Javi/Development/nexus-production/data/FLEX100F_M6_O6.EL8bar/kr83.ACTIVE.full/dst/FLEX100F_M6_O6.Kr83.ACTIVE.76.next.h5  (100 events) ...\n",
      "\n",
      "\n",
      "*** Processing /Users/Javi/Development/nexus-production/data/FLEX100F_M6_O6.EL8bar/kr83.ACTIVE.full/dst/FLEX100F_M6_O6.Kr83.ACTIVE.77.next.h5  (100 events) ...\n",
      "\n",
      "\n",
      "*** Processing /Users/Javi/Development/nexus-production/data/FLEX100F_M6_O6.EL8bar/kr83.ACTIVE.full/dst/FLEX100F_M6_O6.Kr83.ACTIVE.78.next.h5  (100 events) ...\n",
      "\n",
      "\n",
      "*** Processing /Users/Javi/Development/nexus-production/data/FLEX100F_M6_O6.EL8bar/kr83.ACTIVE.full/dst/FLEX100F_M6_O6.Kr83.ACTIVE.79.next.h5  (100 events) ...\n",
      "\n",
      "\n",
      "*** Processing /Users/Javi/Development/nexus-production/data/FLEX100F_M6_O6.EL8bar/kr83.ACTIVE.full/dst/FLEX100F_M6_O6.Kr83.ACTIVE.8.next.h5  (100 events) ...\n",
      "\n",
      "\n",
      "*** Processing /Users/Javi/Development/nexus-production/data/FLEX100F_M6_O6.EL8bar/kr83.ACTIVE.full/dst/FLEX100F_M6_O6.Kr83.ACTIVE.80.next.h5  (100 events) ...\n",
      "\n",
      "\n",
      "*** Processing /Users/Javi/Development/nexus-production/data/FLEX100F_M6_O6.EL8bar/kr83.ACTIVE.full/dst/FLEX100F_M6_O6.Kr83.ACTIVE.81.next.h5  (100 events) ...\n",
      "\n",
      "\n",
      "*** Processing /Users/Javi/Development/nexus-production/data/FLEX100F_M6_O6.EL8bar/kr83.ACTIVE.full/dst/FLEX100F_M6_O6.Kr83.ACTIVE.82.next.h5  (100 events) ...\n",
      "\n",
      "\n",
      "*** Processing /Users/Javi/Development/nexus-production/data/FLEX100F_M6_O6.EL8bar/kr83.ACTIVE.full/dst/FLEX100F_M6_O6.Kr83.ACTIVE.83.next.h5  (100 events) ...\n",
      "\n",
      "\n",
      "*** Processing /Users/Javi/Development/nexus-production/data/FLEX100F_M6_O6.EL8bar/kr83.ACTIVE.full/dst/FLEX100F_M6_O6.Kr83.ACTIVE.84.next.h5  (100 events) ...\n",
      "\n",
      "\n",
      "*** Processing /Users/Javi/Development/nexus-production/data/FLEX100F_M6_O6.EL8bar/kr83.ACTIVE.full/dst/FLEX100F_M6_O6.Kr83.ACTIVE.85.next.h5  (100 events) ...\n",
      "\n",
      "\n",
      "*** Processing /Users/Javi/Development/nexus-production/data/FLEX100F_M6_O6.EL8bar/kr83.ACTIVE.full/dst/FLEX100F_M6_O6.Kr83.ACTIVE.86.next.h5  (100 events) ...\n",
      "\n",
      "\n",
      "*** Processing /Users/Javi/Development/nexus-production/data/FLEX100F_M6_O6.EL8bar/kr83.ACTIVE.full/dst/FLEX100F_M6_O6.Kr83.ACTIVE.87.next.h5  (100 events) ...\n",
      "\n",
      "\n",
      "*** Processing /Users/Javi/Development/nexus-production/data/FLEX100F_M6_O6.EL8bar/kr83.ACTIVE.full/dst/FLEX100F_M6_O6.Kr83.ACTIVE.88.next.h5  (100 events) ...\n",
      "\n",
      "\n",
      "*** Processing /Users/Javi/Development/nexus-production/data/FLEX100F_M6_O6.EL8bar/kr83.ACTIVE.full/dst/FLEX100F_M6_O6.Kr83.ACTIVE.89.next.h5  (100 events) ...\n",
      "\n",
      "\n",
      "*** Processing /Users/Javi/Development/nexus-production/data/FLEX100F_M6_O6.EL8bar/kr83.ACTIVE.full/dst/FLEX100F_M6_O6.Kr83.ACTIVE.9.next.h5  (100 events) ...\n",
      "\n",
      "\n",
      "*** Processing /Users/Javi/Development/nexus-production/data/FLEX100F_M6_O6.EL8bar/kr83.ACTIVE.full/dst/FLEX100F_M6_O6.Kr83.ACTIVE.90.next.h5  (100 events) ...\n",
      "\n",
      "\n",
      "*** Processing /Users/Javi/Development/nexus-production/data/FLEX100F_M6_O6.EL8bar/kr83.ACTIVE.full/dst/FLEX100F_M6_O6.Kr83.ACTIVE.91.next.h5  (100 events) ...\n",
      "\n",
      "\n",
      "*** Processing /Users/Javi/Development/nexus-production/data/FLEX100F_M6_O6.EL8bar/kr83.ACTIVE.full/dst/FLEX100F_M6_O6.Kr83.ACTIVE.92.next.h5  (100 events) ...\n",
      "\n",
      "\n",
      "*** Processing /Users/Javi/Development/nexus-production/data/FLEX100F_M6_O6.EL8bar/kr83.ACTIVE.full/dst/FLEX100F_M6_O6.Kr83.ACTIVE.93.next.h5  (100 events) ...\n",
      "\n",
      "\n",
      "*** Processing /Users/Javi/Development/nexus-production/data/FLEX100F_M6_O6.EL8bar/kr83.ACTIVE.full/dst/FLEX100F_M6_O6.Kr83.ACTIVE.94.next.h5  (100 events) ...\n",
      "\n",
      "\n",
      "*** Processing /Users/Javi/Development/nexus-production/data/FLEX100F_M6_O6.EL8bar/kr83.ACTIVE.full/dst/FLEX100F_M6_O6.Kr83.ACTIVE.95.next.h5  (100 events) ...\n",
      "\n",
      "\n",
      "*** Processing /Users/Javi/Development/nexus-production/data/FLEX100F_M6_O6.EL8bar/kr83.ACTIVE.full/dst/FLEX100F_M6_O6.Kr83.ACTIVE.96.next.h5  (100 events) ...\n",
      "\n",
      "\n",
      "*** Processing /Users/Javi/Development/nexus-production/data/FLEX100F_M6_O6.EL8bar/kr83.ACTIVE.full/dst/FLEX100F_M6_O6.Kr83.ACTIVE.97.next.h5  (100 events) ...\n",
      "\n",
      "\n",
      "*** Processing /Users/Javi/Development/nexus-production/data/FLEX100F_M6_O6.EL8bar/kr83.ACTIVE.full/dst/FLEX100F_M6_O6.Kr83.ACTIVE.98.next.h5  (100 events) ...\n",
      "\n",
      "\n",
      "*** Processing /Users/Javi/Development/nexus-production/data/FLEX100F_M6_O6.EL8bar/kr83.ACTIVE.full/dst/FLEX100F_M6_O6.Kr83.ACTIVE.99.next.h5  (100 events) ...\n",
      "\n"
     ]
    }
   ],
   "source": [
    "for ifname in kr_fnames:\n",
    "    event_ids = get_event_numbers_in_file(ifname)\n",
    "    print(f'\\n*** Processing {ifname}  ({len(event_ids)} events) ...\\n')\n",
    "    \n",
    "    sns_response = load_mcsensor_response_df(ifname)\n",
    "    mcHits       = load_mchits_df(ifname)\n",
    "    \n",
    "    # Looping through all the events in iFile\n",
    "    for event_id in event_ids:\n",
    "        logger.info(f\"Analyzing Kr event {event_id}\")\n",
    "        krypton_data = analyze_kr_event(detector,\n",
    "                                        kr_analysis_params,\n",
    "                                        event_id,\n",
    "                                        sns_response.loc[event_id, :],\n",
    "                                        mcHits      .loc[event_id, :])\n",
    "        all_kryptons.add(krypton_data)\n"
   ]
  },
  {
   "cell_type": "code",
   "execution_count": 16,
   "metadata": {},
   "outputs": [],
   "source": [
    "all_kryptons_df = all_kryptons.df()"
   ]
  },
  {
   "cell_type": "code",
   "execution_count": 17,
   "metadata": {
    "scrolled": true
   },
   "outputs": [
    {
     "data": {
      "text/html": [
       "<div>\n",
       "<style scoped>\n",
       "    .dataframe tbody tr th:only-of-type {\n",
       "        vertical-align: middle;\n",
       "    }\n",
       "\n",
       "    .dataframe tbody tr th {\n",
       "        vertical-align: top;\n",
       "    }\n",
       "\n",
       "    .dataframe thead th {\n",
       "        text-align: right;\n",
       "    }\n",
       "</style>\n",
       "<table border=\"1\" class=\"dataframe\">\n",
       "  <thead>\n",
       "    <tr style=\"text-align: right;\">\n",
       "      <th></th>\n",
       "      <th>x_true</th>\n",
       "      <th>y_true</th>\n",
       "      <th>z_true</th>\n",
       "      <th>rad_true</th>\n",
       "      <th>energy_true</th>\n",
       "      <th>x_rec</th>\n",
       "      <th>y_rec</th>\n",
       "      <th>z_rec</th>\n",
       "      <th>rad_rec</th>\n",
       "      <th>energy_rec</th>\n",
       "      <th>s1_pes</th>\n",
       "      <th>s2_pes</th>\n",
       "      <th>s1_pes_corr</th>\n",
       "      <th>s2_pes_corr</th>\n",
       "      <th>q_tot</th>\n",
       "      <th>q_max</th>\n",
       "    </tr>\n",
       "    <tr>\n",
       "      <th>krypton_id</th>\n",
       "      <th></th>\n",
       "      <th></th>\n",
       "      <th></th>\n",
       "      <th></th>\n",
       "      <th></th>\n",
       "      <th></th>\n",
       "      <th></th>\n",
       "      <th></th>\n",
       "      <th></th>\n",
       "      <th></th>\n",
       "      <th></th>\n",
       "      <th></th>\n",
       "      <th></th>\n",
       "      <th></th>\n",
       "      <th></th>\n",
       "      <th></th>\n",
       "    </tr>\n",
       "  </thead>\n",
       "  <tbody>\n",
       "    <tr>\n",
       "      <th>0</th>\n",
       "      <td>40.910732</td>\n",
       "      <td>269.406006</td>\n",
       "      <td>1145.470947</td>\n",
       "      <td>272.494558</td>\n",
       "      <td>0.041543</td>\n",
       "      <td>43.640323</td>\n",
       "      <td>267.094118</td>\n",
       "      <td>1138.216</td>\n",
       "      <td>270.635817</td>\n",
       "      <td>0.0</td>\n",
       "      <td>71</td>\n",
       "      <td>73787</td>\n",
       "      <td>0</td>\n",
       "      <td>0</td>\n",
       "      <td>1112</td>\n",
       "      <td>84</td>\n",
       "    </tr>\n",
       "    <tr>\n",
       "      <th>1</th>\n",
       "      <td>37.236282</td>\n",
       "      <td>-112.786751</td>\n",
       "      <td>429.997040</td>\n",
       "      <td>118.774542</td>\n",
       "      <td>0.041543</td>\n",
       "      <td>37.123320</td>\n",
       "      <td>-112.720222</td>\n",
       "      <td>425.301</td>\n",
       "      <td>118.675985</td>\n",
       "      <td>0.0</td>\n",
       "      <td>72</td>\n",
       "      <td>72206</td>\n",
       "      <td>0</td>\n",
       "      <td>0</td>\n",
       "      <td>1120</td>\n",
       "      <td>129</td>\n",
       "    </tr>\n",
       "    <tr>\n",
       "      <th>2</th>\n",
       "      <td>-170.029358</td>\n",
       "      <td>163.259277</td>\n",
       "      <td>388.660980</td>\n",
       "      <td>235.719270</td>\n",
       "      <td>0.041543</td>\n",
       "      <td>-170.903302</td>\n",
       "      <td>164.599630</td>\n",
       "      <td>383.041</td>\n",
       "      <td>237.278268</td>\n",
       "      <td>0.0</td>\n",
       "      <td>82</td>\n",
       "      <td>73890</td>\n",
       "      <td>0</td>\n",
       "      <td>0</td>\n",
       "      <td>1137</td>\n",
       "      <td>130</td>\n",
       "    </tr>\n",
       "    <tr>\n",
       "      <th>3</th>\n",
       "      <td>-191.342270</td>\n",
       "      <td>103.124878</td>\n",
       "      <td>865.295593</td>\n",
       "      <td>217.362841</td>\n",
       "      <td>0.041543</td>\n",
       "      <td>-189.175159</td>\n",
       "      <td>99.219602</td>\n",
       "      <td>858.643</td>\n",
       "      <td>213.615941</td>\n",
       "      <td>0.0</td>\n",
       "      <td>78</td>\n",
       "      <td>72958</td>\n",
       "      <td>0</td>\n",
       "      <td>0</td>\n",
       "      <td>1073</td>\n",
       "      <td>81</td>\n",
       "    </tr>\n",
       "    <tr>\n",
       "      <th>4</th>\n",
       "      <td>-45.041477</td>\n",
       "      <td>-142.213043</td>\n",
       "      <td>886.746155</td>\n",
       "      <td>149.175348</td>\n",
       "      <td>0.041543</td>\n",
       "      <td>-46.002083</td>\n",
       "      <td>-141.921127</td>\n",
       "      <td>880.017</td>\n",
       "      <td>149.190475</td>\n",
       "      <td>0.0</td>\n",
       "      <td>63</td>\n",
       "      <td>72304</td>\n",
       "      <td>0</td>\n",
       "      <td>0</td>\n",
       "      <td>1096</td>\n",
       "      <td>100</td>\n",
       "    </tr>\n",
       "  </tbody>\n",
       "</table>\n",
       "</div>"
      ],
      "text/plain": [
       "                x_true      y_true       z_true    rad_true  energy_true  \\\n",
       "krypton_id                                                                 \n",
       "0            40.910732  269.406006  1145.470947  272.494558     0.041543   \n",
       "1            37.236282 -112.786751   429.997040  118.774542     0.041543   \n",
       "2          -170.029358  163.259277   388.660980  235.719270     0.041543   \n",
       "3          -191.342270  103.124878   865.295593  217.362841     0.041543   \n",
       "4           -45.041477 -142.213043   886.746155  149.175348     0.041543   \n",
       "\n",
       "                 x_rec       y_rec     z_rec     rad_rec  energy_rec  s1_pes  \\\n",
       "krypton_id                                                                     \n",
       "0            43.640323  267.094118  1138.216  270.635817         0.0      71   \n",
       "1            37.123320 -112.720222   425.301  118.675985         0.0      72   \n",
       "2          -170.903302  164.599630   383.041  237.278268         0.0      82   \n",
       "3          -189.175159   99.219602   858.643  213.615941         0.0      78   \n",
       "4           -46.002083 -141.921127   880.017  149.190475         0.0      63   \n",
       "\n",
       "            s2_pes  s1_pes_corr  s2_pes_corr  q_tot  q_max  \n",
       "krypton_id                                                  \n",
       "0            73787            0            0   1112     84  \n",
       "1            72206            0            0   1120    129  \n",
       "2            73890            0            0   1137    130  \n",
       "3            72958            0            0   1073     81  \n",
       "4            72304            0            0   1096    100  "
      ]
     },
     "execution_count": 17,
     "metadata": {},
     "output_type": "execute_result"
    }
   ],
   "source": [
    "all_kryptons_df.head()"
   ]
  },
  {
   "cell_type": "code",
   "execution_count": 18,
   "metadata": {},
   "outputs": [],
   "source": [
    "from fanal.core.correction_maps import build_correction_map\n",
    "from fanal.core.correction_maps import correct_s2"
   ]
  },
  {
   "cell_type": "code",
   "execution_count": 19,
   "metadata": {},
   "outputs": [],
   "source": [
    "fiduc_selection = ((all_kryptons_df.z_rec   >= detector.active_z_min + kr_analysis_params.veto_width) &\n",
    "                   (all_kryptons_df.z_rec   <= detector.active_z_max - kr_analysis_params.veto_width) &\n",
    "                   (all_kryptons_df.rad_rec <= detector.active_rad   - kr_analysis_params.veto_width))"
   ]
  },
  {
   "cell_type": "code",
   "execution_count": 20,
   "metadata": {},
   "outputs": [],
   "source": [
    "fiduc_kryptons = all_kryptons_df[fiduc_selection].copy()"
   ]
  },
  {
   "cell_type": "code",
   "execution_count": 21,
   "metadata": {},
   "outputs": [
    {
     "data": {
      "text/html": [
       "<div>\n",
       "<style scoped>\n",
       "    .dataframe tbody tr th:only-of-type {\n",
       "        vertical-align: middle;\n",
       "    }\n",
       "\n",
       "    .dataframe tbody tr th {\n",
       "        vertical-align: top;\n",
       "    }\n",
       "\n",
       "    .dataframe thead th {\n",
       "        text-align: right;\n",
       "    }\n",
       "</style>\n",
       "<table border=\"1\" class=\"dataframe\">\n",
       "  <thead>\n",
       "    <tr style=\"text-align: right;\">\n",
       "      <th></th>\n",
       "      <th>x_true</th>\n",
       "      <th>y_true</th>\n",
       "      <th>z_true</th>\n",
       "      <th>rad_true</th>\n",
       "      <th>energy_true</th>\n",
       "      <th>x_rec</th>\n",
       "      <th>y_rec</th>\n",
       "      <th>z_rec</th>\n",
       "      <th>rad_rec</th>\n",
       "      <th>energy_rec</th>\n",
       "      <th>s1_pes</th>\n",
       "      <th>s2_pes</th>\n",
       "      <th>s1_pes_corr</th>\n",
       "      <th>s2_pes_corr</th>\n",
       "      <th>q_tot</th>\n",
       "      <th>q_max</th>\n",
       "    </tr>\n",
       "    <tr>\n",
       "      <th>krypton_id</th>\n",
       "      <th></th>\n",
       "      <th></th>\n",
       "      <th></th>\n",
       "      <th></th>\n",
       "      <th></th>\n",
       "      <th></th>\n",
       "      <th></th>\n",
       "      <th></th>\n",
       "      <th></th>\n",
       "      <th></th>\n",
       "      <th></th>\n",
       "      <th></th>\n",
       "      <th></th>\n",
       "      <th></th>\n",
       "      <th></th>\n",
       "      <th></th>\n",
       "    </tr>\n",
       "  </thead>\n",
       "  <tbody>\n",
       "    <tr>\n",
       "      <th>0</th>\n",
       "      <td>40.910732</td>\n",
       "      <td>269.406006</td>\n",
       "      <td>1145.470947</td>\n",
       "      <td>272.494558</td>\n",
       "      <td>0.041543</td>\n",
       "      <td>43.640323</td>\n",
       "      <td>267.094118</td>\n",
       "      <td>1138.216</td>\n",
       "      <td>270.635817</td>\n",
       "      <td>0.0</td>\n",
       "      <td>71</td>\n",
       "      <td>73787</td>\n",
       "      <td>0</td>\n",
       "      <td>0</td>\n",
       "      <td>1112</td>\n",
       "      <td>84</td>\n",
       "    </tr>\n",
       "    <tr>\n",
       "      <th>1</th>\n",
       "      <td>37.236282</td>\n",
       "      <td>-112.786751</td>\n",
       "      <td>429.997040</td>\n",
       "      <td>118.774542</td>\n",
       "      <td>0.041543</td>\n",
       "      <td>37.123320</td>\n",
       "      <td>-112.720222</td>\n",
       "      <td>425.301</td>\n",
       "      <td>118.675985</td>\n",
       "      <td>0.0</td>\n",
       "      <td>72</td>\n",
       "      <td>72206</td>\n",
       "      <td>0</td>\n",
       "      <td>0</td>\n",
       "      <td>1120</td>\n",
       "      <td>129</td>\n",
       "    </tr>\n",
       "    <tr>\n",
       "      <th>2</th>\n",
       "      <td>-170.029358</td>\n",
       "      <td>163.259277</td>\n",
       "      <td>388.660980</td>\n",
       "      <td>235.719270</td>\n",
       "      <td>0.041543</td>\n",
       "      <td>-170.903302</td>\n",
       "      <td>164.599630</td>\n",
       "      <td>383.041</td>\n",
       "      <td>237.278268</td>\n",
       "      <td>0.0</td>\n",
       "      <td>82</td>\n",
       "      <td>73890</td>\n",
       "      <td>0</td>\n",
       "      <td>0</td>\n",
       "      <td>1137</td>\n",
       "      <td>130</td>\n",
       "    </tr>\n",
       "    <tr>\n",
       "      <th>3</th>\n",
       "      <td>-191.342270</td>\n",
       "      <td>103.124878</td>\n",
       "      <td>865.295593</td>\n",
       "      <td>217.362841</td>\n",
       "      <td>0.041543</td>\n",
       "      <td>-189.175159</td>\n",
       "      <td>99.219602</td>\n",
       "      <td>858.643</td>\n",
       "      <td>213.615941</td>\n",
       "      <td>0.0</td>\n",
       "      <td>78</td>\n",
       "      <td>72958</td>\n",
       "      <td>0</td>\n",
       "      <td>0</td>\n",
       "      <td>1073</td>\n",
       "      <td>81</td>\n",
       "    </tr>\n",
       "    <tr>\n",
       "      <th>4</th>\n",
       "      <td>-45.041477</td>\n",
       "      <td>-142.213043</td>\n",
       "      <td>886.746155</td>\n",
       "      <td>149.175348</td>\n",
       "      <td>0.041543</td>\n",
       "      <td>-46.002083</td>\n",
       "      <td>-141.921127</td>\n",
       "      <td>880.017</td>\n",
       "      <td>149.190475</td>\n",
       "      <td>0.0</td>\n",
       "      <td>63</td>\n",
       "      <td>72304</td>\n",
       "      <td>0</td>\n",
       "      <td>0</td>\n",
       "      <td>1096</td>\n",
       "      <td>100</td>\n",
       "    </tr>\n",
       "  </tbody>\n",
       "</table>\n",
       "</div>"
      ],
      "text/plain": [
       "                x_true      y_true       z_true    rad_true  energy_true  \\\n",
       "krypton_id                                                                 \n",
       "0            40.910732  269.406006  1145.470947  272.494558     0.041543   \n",
       "1            37.236282 -112.786751   429.997040  118.774542     0.041543   \n",
       "2          -170.029358  163.259277   388.660980  235.719270     0.041543   \n",
       "3          -191.342270  103.124878   865.295593  217.362841     0.041543   \n",
       "4           -45.041477 -142.213043   886.746155  149.175348     0.041543   \n",
       "\n",
       "                 x_rec       y_rec     z_rec     rad_rec  energy_rec  s1_pes  \\\n",
       "krypton_id                                                                     \n",
       "0            43.640323  267.094118  1138.216  270.635817         0.0      71   \n",
       "1            37.123320 -112.720222   425.301  118.675985         0.0      72   \n",
       "2          -170.903302  164.599630   383.041  237.278268         0.0      82   \n",
       "3          -189.175159   99.219602   858.643  213.615941         0.0      78   \n",
       "4           -46.002083 -141.921127   880.017  149.190475         0.0      63   \n",
       "\n",
       "            s2_pes  s1_pes_corr  s2_pes_corr  q_tot  q_max  \n",
       "krypton_id                                                  \n",
       "0            73787            0            0   1112     84  \n",
       "1            72206            0            0   1120    129  \n",
       "2            73890            0            0   1137    130  \n",
       "3            72958            0            0   1073     81  \n",
       "4            72304            0            0   1096    100  "
      ]
     },
     "execution_count": 21,
     "metadata": {},
     "output_type": "execute_result"
    }
   ],
   "source": [
    "fiduc_kryptons.head()"
   ]
  },
  {
   "cell_type": "code",
   "execution_count": 22,
   "metadata": {},
   "outputs": [
    {
     "data": {
      "image/png": "[encoded data removed]",
      "text/plain": [
       "<Figure size 1152x504 with 2 Axes>"
      ]
     },
     "metadata": {
      "needs_background": "light"
     },
     "output_type": "display_data"
    }
   ],
   "source": [
    "corr_map = build_correction_map(fiduc_kryptons, kr_analysis_params.correction_map_type, num_bins=100)"
   ]
  },
  {
   "cell_type": "code",
   "execution_count": 23,
   "metadata": {
    "scrolled": true
   },
   "outputs": [],
   "source": [
    "pes_corr = correct_s2(fiduc_kryptons, corr_map, kr_analysis_params.correction_map_type)"
   ]
  },
  {
   "cell_type": "code",
   "execution_count": null,
   "metadata": {},
   "outputs": [],
   "source": []
  },
  {
   "cell_type": "code",
   "execution_count": 63,
   "metadata": {},
   "outputs": [],
   "source": [
    "pes_to_MeV = (kr_energy/units.MeV) / fiduc_kryptons.s2_pes_corr.mean()"
   ]
  },
  {
   "cell_type": "code",
   "execution_count": 67,
   "metadata": {},
   "outputs": [],
   "source": [
    "fiduc_kryptons.energy_rec = fiduc_kryptons.s2_pes_corr * pes_to_MeV"
   ]
  },
  {
   "cell_type": "markdown",
   "metadata": {},
   "source": [
    "# Analysis results"
   ]
  },
  {
   "cell_type": "code",
   "execution_count": 68,
   "metadata": {},
   "outputs": [],
   "source": [
    "from fanal.core.fanal_units import Qbb\n",
    "from fanal.core.fanal_units import kr_energy\n",
    "\n",
    "from fanal.utils.plot_utils import plot_vertices\n",
    "from fanal.utils.plot_utils import plot_and_fit"
   ]
  },
  {
   "cell_type": "code",
   "execution_count": 69,
   "metadata": {},
   "outputs": [],
   "source": [
    "plt.rcParams[\"figure.figsize\"] = 8, 6\n",
    "plt.rcParams[\"font.size\"     ] = 14"
   ]
  },
  {
   "cell_type": "markdown",
   "metadata": {},
   "source": [
    "#### Vertices"
   ]
  },
  {
   "cell_type": "code",
   "execution_count": 70,
   "metadata": {
    "scrolled": false
   },
   "outputs": [],
   "source": [
    "#plot_vertices(all_kryptons_df.rename(columns = {'x_true': 'x', 'y_true': 'y', 'z_true': 'z'}),\n",
    "#              num_bins=40, extra_size = 50)"
   ]
  },
  {
   "cell_type": "markdown",
   "metadata": {},
   "source": [
    "#### Positions"
   ]
  },
  {
   "cell_type": "code",
   "execution_count": 71,
   "metadata": {},
   "outputs": [],
   "source": [
    "dist_x  = fiduc_kryptons.x_true - fiduc_kryptons.x_rec\n",
    "dist_y  = fiduc_kryptons.y_true - fiduc_kryptons.y_rec\n",
    "\n",
    "dist_xy = XYZ(fiduc_kryptons.x_true, fiduc_kryptons.y_true, 0.).distance( \\\n",
    "          XYZ(fiduc_kryptons.x_rec , fiduc_kryptons.y_rec , 0.))"
   ]
  },
  {
   "cell_type": "code",
   "execution_count": 72,
   "metadata": {},
   "outputs": [
    {
     "name": "stdout",
     "output_type": "stream",
     "text": [
      "Distance X description:\n",
      "count    8900.000000\n",
      "mean        0.015113\n",
      "std         2.619110\n",
      "min       -16.330676\n",
      "25%        -1.091235\n",
      "50%         0.009799\n",
      "75%         1.098113\n",
      "max        14.191901\n",
      "dtype: float64\n",
      "Distance Y description:\n",
      "count    8900.000000\n",
      "mean       -0.012921\n",
      "std         2.588426\n",
      "min       -13.938517\n",
      "25%        -1.098509\n",
      "50%        -0.011027\n",
      "75%         1.083609\n",
      "max        16.298171\n",
      "dtype: float64\n"
     ]
    },
    {
     "data": {
      "image/png": "[encoded data removed]",
      "text/plain": [
       "<Figure size 1152x504 with 2 Axes>"
      ]
     },
     "metadata": {
      "needs_background": "light"
     },
     "output_type": "display_data"
    }
   ],
   "source": [
    "fig, (ax1, ax2) = plt.subplots(1,2, figsize=(16,7))\n",
    "ax1.hist(dist_x, 50);\n",
    "ax1.set_title (\"Distance X\", size=16);\n",
    "ax1.set_xlabel(\"mm\", size=16);\n",
    "ax1.set_ylabel(\"entries\", size=16);\n",
    "\n",
    "energy_sns_pde = 0.4\n",
    "ax2.hist(dist_y, 50);\n",
    "ax2.set_title (f\"Distance Y\", size=16);\n",
    "ax2.set_xlabel(\"mm\", size=16);\n",
    "ax2.set_ylabel(\"entries\", size=16);\n",
    "\n",
    "print(\"Distance X description:\")\n",
    "print(dist_x.describe())\n",
    "print(\"Distance Y description:\")\n",
    "print(dist_y.describe())\n"
   ]
  },
  {
   "cell_type": "code",
   "execution_count": 73,
   "metadata": {},
   "outputs": [
    {
     "name": "stdout",
     "output_type": "stream",
     "text": [
      "Distance XY description:\n"
     ]
    },
    {
     "data": {
      "text/plain": [
       "count    8900.000000\n",
       "mean        2.795720\n",
       "std         2.396487\n",
       "min         0.011275\n",
       "25%         1.127111\n",
       "50%         2.040284\n",
       "75%         3.590485\n",
       "max        16.400604\n",
       "dtype: float64"
      ]
     },
     "execution_count": 73,
     "metadata": {},
     "output_type": "execute_result"
    },
    {
     "data": {
      "image/png": "[encoded data removed]",
      "text/plain": [
       "<Figure size 576x432 with 1 Axes>"
      ]
     },
     "metadata": {
      "needs_background": "light"
     },
     "output_type": "display_data"
    }
   ],
   "source": [
    "plt.hist(dist_xy, bins = 100);\n",
    "print(\"Distance XY description:\")\n",
    "dist_xy.describe()"
   ]
  },
  {
   "cell_type": "markdown",
   "metadata": {},
   "source": [
    "#### Energy - S1"
   ]
  },
  {
   "cell_type": "code",
   "execution_count": 74,
   "metadata": {},
   "outputs": [
    {
     "data": {
      "text/plain": [
       "count    8900.000000\n",
       "mean       72.238539\n",
       "std        10.558271\n",
       "min        36.000000\n",
       "25%        65.000000\n",
       "50%        72.000000\n",
       "75%        79.000000\n",
       "max       111.000000\n",
       "Name: s1_pes, dtype: float64"
      ]
     },
     "execution_count": 74,
     "metadata": {},
     "output_type": "execute_result"
    }
   ],
   "source": [
    "fiduc_kryptons.s1_pes.describe()"
   ]
  },
  {
   "cell_type": "code",
   "execution_count": 75,
   "metadata": {},
   "outputs": [
    {
     "data": {
      "image/png": "[encoded data removed]",
      "text/plain": [
       "<Figure size 1152x504 with 2 Axes>"
      ]
     },
     "metadata": {
      "needs_background": "light"
     },
     "output_type": "display_data"
    }
   ],
   "source": [
    "fig, (ax1, ax2) = plt.subplots(1,2, figsize=(16,7))\n",
    "ax1.hist(fiduc_kryptons.s1_pes, 50, range=[0, 150]);\n",
    "ax1.set_title (\"S1 (raw)\", size=16);\n",
    "ax1.set_xlabel(\"pes\"     , size=16);\n",
    "ax1.set_ylabel(\"entries\" , size=16);\n",
    "\n",
    "ax2.hist2d(fiduc_kryptons.rad_true, fiduc_kryptons.s1_pes, (50, 50), range=[[20, 470], [0, 150]]);\n",
    "ax2.set_title (\"S1 (raw)\"   , size=16);\n",
    "ax2.set_xlabel(\"Radius (mm)\", size=16);\n",
    "ax2.set_ylabel(\"pes\"        , size=16);"
   ]
  },
  {
   "cell_type": "markdown",
   "metadata": {},
   "source": [
    "#### Light Collection Efficiency"
   ]
  },
  {
   "cell_type": "code",
   "execution_count": 76,
   "metadata": {},
   "outputs": [],
   "source": [
    "# The number of initial scintillation photons for kr is \n",
    "# the kr energy / Wsci del xenon\n",
    "xe_Wsci = 39.2 * units.eV\n",
    "num_kr_s1_photons = kr_energy / xe_Wsci\n",
    "\n",
    "# This collection efficiency has been computed asuming that the sesnors used to read it:\n",
    "# Have a pde = 100 %\n",
    "# Don't have background\n",
    "fiduc_kryptons['col_eff'] = fiduc_kryptons.s1_pes / num_kr_s1_photons / units.perCent"
   ]
  },
  {
   "cell_type": "code",
   "execution_count": 77,
   "metadata": {},
   "outputs": [
    {
     "data": {
      "text/plain": [
       "count    8900.000000\n",
       "mean        2.726573\n",
       "std         0.398512\n",
       "min         1.358785\n",
       "25%         2.453362\n",
       "50%         2.717570\n",
       "75%         2.981778\n",
       "max         4.189587\n",
       "Name: col_eff, dtype: float64"
      ]
     },
     "execution_count": 77,
     "metadata": {},
     "output_type": "execute_result"
    },
    {
     "data": {
      "image/png": "[encoded data removed]",
      "text/plain": [
       "<Figure size 1152x504 with 2 Axes>"
      ]
     },
     "metadata": {
      "needs_background": "light"
     },
     "output_type": "display_data"
    }
   ],
   "source": [
    "fig, (ax1, ax2) = plt.subplots(1,2, figsize=(16,7))\n",
    "ax1.hist(fiduc_kryptons.col_eff, 50, range=(0, 15));\n",
    "ax1.set_title (\"Light Collection Efficiency\", size=16);\n",
    "ax1.set_xlabel(\"Eff (%)\", size=16);\n",
    "ax1.set_ylabel(\"entries\", size=16);\n",
    "\n",
    "energy_sns_pde = 0.4\n",
    "ax2.hist(fiduc_kryptons.col_eff * energy_sns_pde, 50, range=(0, 6));\n",
    "ax2.set_title (f\"Light Collection Efficiency (sns pde = {energy_sns_pde})\", size=16);\n",
    "ax2.set_xlabel(\"Eff (%)\", size=16);\n",
    "ax2.set_ylabel(\"entries\", size=16);\n",
    "\n",
    "(fiduc_kryptons.col_eff * energy_sns_pde).describe()"
   ]
  },
  {
   "cell_type": "markdown",
   "metadata": {},
   "source": [
    "#### Energy - S2"
   ]
  },
  {
   "cell_type": "code",
   "execution_count": 78,
   "metadata": {},
   "outputs": [
    {
     "data": {
      "image/png": "[encoded data removed]",
      "text/plain": [
       "<Figure size 1152x504 with 2 Axes>"
      ]
     },
     "metadata": {
      "needs_background": "light"
     },
     "output_type": "display_data"
    }
   ],
   "source": [
    "fig, (ax1, ax2) = plt.subplots(1,2, figsize=(16,7))\n",
    "ax1.hist(fiduc_kryptons.s2_pes, 50, (60000, 100000))\n",
    "ax1.set_title (\"S2 (raw)\"   , size=16);\n",
    "ax1.set_xlabel(\"pes\"     , size=16);\n",
    "ax1.set_ylabel(\"entries\" , size=16);\n",
    "\n",
    "ax2.hist2d(fiduc_kryptons.rad_true, fiduc_kryptons.s2_pes, (50, 50), range=[[20, 470], [60000, 100000]])\n",
    "ax2.set_title (\"S2 (raw)\"   , size=16);\n",
    "ax2.set_xlabel(\"Radius (mm)\", size=16);\n",
    "ax2.set_ylabel(\"pes\"        , size=16);"
   ]
  },
  {
   "cell_type": "code",
   "execution_count": 79,
   "metadata": {},
   "outputs": [
    {
     "data": {
      "image/png": "[encoded data removed]",
      "text/plain": [
       "<Figure size 576x360 with 1 Axes>"
      ]
     },
     "metadata": {
      "needs_background": "light"
     },
     "output_type": "display_data"
    },
    {
     "name": "stdout",
     "output_type": "stream",
     "text": [
      "DATA from corrected S2 ...\n",
      "mu    =  71792.588 +- 8.871\n",
      "sigma =    833.130 +- 6.465  ->  fwhm  = 2.727 %\n",
      "Chi2  =      1.114\n",
      "\n",
      "fwhm at Qbb: 0.355 %\n"
     ]
    }
   ],
   "source": [
    "mu, sigma, fwhm = plot_and_fit(fiduc_kryptons.s2_pes_corr, title=\"corrected S2\", num_bins=100);\n",
    "\n",
    "print(f\"fwhm at Qbb: {fwhm * (kr_energy / Qbb)**.5 / units.perCent:.3} %\")"
   ]
  },
  {
   "cell_type": "code",
   "execution_count": 80,
   "metadata": {},
   "outputs": [
    {
     "data": {
      "image/png": "[encoded data removed]",
      "text/plain": [
       "<Figure size 576x360 with 1 Axes>"
      ]
     },
     "metadata": {
      "needs_background": "light"
     },
     "output_type": "display_data"
    },
    {
     "name": "stdout",
     "output_type": "stream",
     "text": [
      "DATA from Energy reconstructed ...\n",
      "mu    =      0.042 +- 0.000\n",
      "sigma =      0.000 +- 0.000  ->  fwhm  = 2.727 %\n",
      "Chi2  =      1.114\n",
      "\n",
      "fwhm at Qbb: 0.355 %\n"
     ]
    }
   ],
   "source": [
    "mu, sigma, fwhm = plot_and_fit(fiduc_kryptons.energy_rec, title=\"Energy reconstructed\", num_bins=100);\n",
    "\n",
    "print(f\"fwhm at Qbb: {fwhm * (kr_energy / Qbb)**.5 / units.perCent:.3} %\")"
   ]
  },
  {
   "cell_type": "markdown",
   "metadata": {},
   "source": [
    "#### Charge"
   ]
  },
  {
   "cell_type": "code",
   "execution_count": 36,
   "metadata": {},
   "outputs": [
    {
     "name": "stdout",
     "output_type": "stream",
     "text": [
      "REMEMBER ... Current detector:\n",
      " * Detector name: FLEX100F\n",
      "  ACTIVE dimensions (mm): Zmin = 0.00   Zmax = 1204.95   Rad = 492.00\n",
      "  Symmetric: False\n",
      "  Energy   Sensors  : ['F_SENSOR_L', 'F_SENSOR_R']\n",
      "  Tracking Sensors  : ['TP_SiPM']\n",
      "  Tracking map fname: FLEX100F.tracking_map.csv\n",
      "\n",
      "\n"
     ]
    }
   ],
   "source": [
    "print(f\"REMEMBER ... Current detector:\\n {detector}\\n\")"
   ]
  },
  {
   "cell_type": "code",
   "execution_count": 86,
   "metadata": {},
   "outputs": [
    {
     "data": {
      "image/png": "[encoded data removed]",
      "text/plain": [
       "<Figure size 1152x504 with 2 Axes>"
      ]
     },
     "metadata": {
      "needs_background": "light"
     },
     "output_type": "display_data"
    }
   ],
   "source": [
    "fig, (ax1, ax2) = plt.subplots(1,2, figsize=(16,7))\n",
    "ax1.hist(fiduc_kryptons.q_tot, 50)\n",
    "#ax1.hist(fiduc_kryptons.q_tot, 50, range=[900, 1300])\n",
    "ax1.set_title (\"Q tot\"   , size=16);\n",
    "ax1.set_xlabel(\"pes\"     , size=16);\n",
    "ax1.set_ylabel(\"entries\" , size=16);\n",
    "\n",
    "ax2.hist(fiduc_kryptons.q_max, 50)\n",
    "ax2.set_title (\"Q max\"   , size=16);\n",
    "ax2.set_xlabel(\"pes\"     , size=16);\n",
    "ax2.set_ylabel(\"entries\" , size=16);"
   ]
  },
  {
   "cell_type": "code",
   "execution_count": 91,
   "metadata": {},
   "outputs": [
    {
     "data": {
      "image/png": "[encoded data removed]",
      "text/plain": [
       "<Figure size 1152x504 with 2 Axes>"
      ]
     },
     "metadata": {
      "needs_background": "light"
     },
     "output_type": "display_data"
    }
   ],
   "source": [
    "fig, (ax1, ax2) = plt.subplots(1,2, figsize=(16,7))\n",
    "ax1.hist2d(fiduc_kryptons.rad_true, fiduc_kryptons.q_tot, (50, 50))\n",
    "#ax1.hist2d(fiduc_kryptons.rad_true, fiduc_kryptons.q_tot, (50, 50), range=[[20, 470], [900, 1300]])\n",
    "ax1.set_title (\"Q tot\"      , size=16);\n",
    "ax1.set_xlabel(\"Radius (mm)\", size=16);\n",
    "ax1.set_ylabel(\"pes\"        , size=16);\n",
    "\n",
    "#ax2.hist2d(fiduc_kryptons.rad_true, fiduc_kryptons.q_max, (50, 50))\n",
    "ax2.hist2d(fiduc_kryptons.rad_true, fiduc_kryptons.q_max, (50, 50), range=[[20, 470], [0, 300]])\n",
    "ax2.set_title (\"Q max\"      , size=16);\n",
    "ax2.set_xlabel(\"Radius (mm)\", size=16);\n",
    "ax2.set_ylabel(\"pes\"        , size=16);"
   ]
  },
  {
   "cell_type": "code",
   "execution_count": null,
   "metadata": {},
   "outputs": [],
   "source": []
  }
 ],
 "metadata": {
  "kernelspec": {
   "display_name": "Python 3",
   "language": "python",
   "name": "python3"
  },
  "language_info": {
   "codemirror_mode": {
    "name": "ipython",
    "version": 3
   },
   "file_extension": ".py",
   "mimetype": "text/x-python",
   "name": "python",
   "nbconvert_exporter": "python",
   "pygments_lexer": "ipython3",
   "version": "3.7.9"
  }
 },
 "nbformat": 4,
 "nbformat_minor": 2
}
