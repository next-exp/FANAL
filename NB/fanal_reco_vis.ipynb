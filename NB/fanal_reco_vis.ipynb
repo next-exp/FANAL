{
 "cells": [
  {
   "cell_type": "markdown",
   "metadata": {},
   "source": [
    "<p style=\"font-family: Arial; font-size:3.8em;color:purple; font-style:bold\">\n",
    "<br>FANAL-RECO VISUALIZATION<br>\n",
    "</p>\n"
   ]
  },
  {
   "cell_type": "markdown",
   "metadata": {},
   "source": [
    "This notebook illustrates the pseudo-reconstruction phase made in FANAL starting from MC data and finally providing a collection of voxels per event.\n",
    "\n",
    "It provides the contents of the dataframes generated together with some control plots associated."
   ]
  },
  {
   "cell_type": "code",
   "execution_count": 1,
   "metadata": {},
   "outputs": [],
   "source": [
    "%matplotlib inline\n",
    "%load_ext memory_profiler\n",
    "%load_ext line_profiler\n",
    "\n",
    "%load_ext autoreload\n",
    "%autoreload 2"
   ]
  },
  {
   "cell_type": "code",
   "execution_count": 2,
   "metadata": {},
   "outputs": [
    {
     "ename": "FileNotFoundError",
     "evalue": "[Errno 2] No such file or directory: 'style-table.css'",
     "output_type": "error",
     "traceback": [
      "\u001b[0;31m---------------------------------------------------------------------------\u001b[0m",
      "\u001b[0;31mFileNotFoundError\u001b[0m                         Traceback (most recent call last)",
      "\u001b[0;32m<ipython-input-2-6fab06cda22c>\u001b[0m in \u001b[0;36m<module>\u001b[0;34m\u001b[0m\n\u001b[1;32m      1\u001b[0m \u001b[0;32mfrom\u001b[0m \u001b[0mIPython\u001b[0m\u001b[0;34m.\u001b[0m\u001b[0mcore\u001b[0m\u001b[0;34m.\u001b[0m\u001b[0mdisplay\u001b[0m \u001b[0;32mimport\u001b[0m \u001b[0mHTML\u001b[0m\u001b[0;34m\u001b[0m\u001b[0;34m\u001b[0m\u001b[0m\n\u001b[0;32m----> 2\u001b[0;31m \u001b[0mcss\u001b[0m \u001b[0;34m=\u001b[0m \u001b[0mopen\u001b[0m\u001b[0;34m(\u001b[0m\u001b[0;34m'style-table.css'\u001b[0m\u001b[0;34m)\u001b[0m\u001b[0;34m.\u001b[0m\u001b[0mread\u001b[0m\u001b[0;34m(\u001b[0m\u001b[0;34m)\u001b[0m \u001b[0;34m+\u001b[0m \u001b[0mopen\u001b[0m\u001b[0;34m(\u001b[0m\u001b[0;34m'style-notebook.css'\u001b[0m\u001b[0;34m)\u001b[0m\u001b[0;34m.\u001b[0m\u001b[0mread\u001b[0m\u001b[0;34m(\u001b[0m\u001b[0;34m)\u001b[0m\u001b[0;34m\u001b[0m\u001b[0;34m\u001b[0m\u001b[0m\n\u001b[0m\u001b[1;32m      3\u001b[0m \u001b[0mHTML\u001b[0m\u001b[0;34m(\u001b[0m\u001b[0;34m'<style>{}</style>'\u001b[0m\u001b[0;34m.\u001b[0m\u001b[0mformat\u001b[0m\u001b[0;34m(\u001b[0m\u001b[0mcss\u001b[0m\u001b[0;34m)\u001b[0m\u001b[0;34m)\u001b[0m\u001b[0;34m\u001b[0m\u001b[0;34m\u001b[0m\u001b[0m\n",
      "\u001b[0;31mFileNotFoundError\u001b[0m: [Errno 2] No such file or directory: 'style-table.css'"
     ]
    }
   ],
   "source": [
    "from IPython.core.display import HTML\n",
    "css = open('style-table.css').read() + open('style-notebook.css').read()\n",
    "HTML('<style>{}</style>'.format(css))"
   ]
  },
  {
   "cell_type": "markdown",
   "metadata": {},
   "source": [
    "#### Importing general stuff"
   ]
  },
  {
   "cell_type": "code",
   "execution_count": null,
   "metadata": {},
   "outputs": [],
   "source": [
    "# General importings\n",
    "import numpy             as np\n",
    "import tables            as tb\n",
    "import pandas            as pd\n",
    "import matplotlib.pyplot as plt\n",
    "\n",
    "# Specific IC stuff\n",
    "import invisible_cities.core.system_of_units as units\n",
    "\n",
    "# Specific fanal stuff\n",
    "from fanal.core.detector          import get_active_size\n",
    "from fanal.core.fanal_types       import DetName\n",
    "#from fanal.mc.mc_utilities        import print_mc_event\n",
    "\n",
    "from fanal.fanal_reco             import fanal_reco\n"
   ]
  },
  {
   "cell_type": "code",
   "execution_count": null,
   "metadata": {},
   "outputs": [],
   "source": [
    "plt.rcParams[\"figure.figsize\"] = 8, 6\n",
    "plt.rcParams[\"font.size\"     ] = 14"
   ]
  },
  {
   "cell_type": "markdown",
   "metadata": {},
   "source": [
    "# SETUP"
   ]
  },
  {
   "cell_type": "code",
   "execution_count": null,
   "metadata": {},
   "outputs": [],
   "source": [
    "DET_NAME = \"next100\"\n",
    "DET_NAME = getattr(DetName, DET_NAME)\n",
    "\n",
    "RECO_FNAME = \"../data/next100/bb0nu/reco/next100.bb0nu.fwhm_07.voxel_10x10x10.reco.h5\"\n",
    "#RECO_FNAME = \"../data/next100/Bi214/reco/next100.Bi214.fwhm_07.voxel_10x10x10.reco.h5\"\n",
    "#RECO_FNAME = \"../data/next100/Tl208/reco/next100.Tl208.fwhm_07.voxel_10x10x10.reco.h5\"\n",
    "\n",
    "#RECO_FNAME = \"../data/next100/bb0nu/reco/next100.bb0nu.fwhm_05.voxel_3x3x3.reco.h5\"\n",
    "#RECO_FNAME = \"../data/next100/Bi214/reco/next100.Bi214.fwhm_05.voxel_3x3x3.reco.h5\"\n",
    "#RECO_FNAME = \"../data/next100/Tl208/reco/next100.Tl208.fwhm_05.voxel_3x3x3.reco.h5\""
   ]
  },
  {
   "cell_type": "code",
   "execution_count": null,
   "metadata": {},
   "outputs": [],
   "source": [
    "with tb.open_file(RECO_FNAME, mode='r') as reco_file:\n",
    "    reco_group_name = '/FANAL/' + reco_file.root.FANAL.__members__[0]"
   ]
  },
  {
   "cell_type": "code",
   "execution_count": null,
   "metadata": {},
   "outputs": [],
   "source": []
  },
  {
   "cell_type": "markdown",
   "metadata": {},
   "source": [
    "#### Verbosing the event counters"
   ]
  },
  {
   "cell_type": "code",
   "execution_count": null,
   "metadata": {},
   "outputs": [],
   "source": [
    "with tb.open_file(RECO_FNAME, mode='r') as reco_file:\n",
    "    simulated_events  = reco_file.get_node_attr(reco_group_name, 'simulated_events')\n",
    "    stored_events     = reco_file.get_node_attr(reco_group_name, 'stored_events')\n",
    "    smE_filter_events = reco_file.get_node_attr(reco_group_name, 'smE_filter_events')\n",
    "    fid_filter_events = reco_file.get_node_attr(reco_group_name, 'fid_filter_events')\n",
    "\n",
    "print('* Event counters ...')\n",
    "print('''  Simulated events:  {0:9}\n",
    "  Stored events:     {1:9}\n",
    "  smE_filter events: {2:9}\n",
    "  fid_filter events: {3:9}'''\n",
    "      .format(simulated_events, stored_events, smE_filter_events, fid_filter_events))"
   ]
  },
  {
   "cell_type": "markdown",
   "metadata": {},
   "source": [
    "#### Verbosing the dataframes"
   ]
  },
  {
   "cell_type": "code",
   "execution_count": null,
   "metadata": {},
   "outputs": [],
   "source": [
    "events_df = pd.read_hdf(RECO_FNAME, reco_group_name + '/events')\n",
    "voxels_df = pd.read_hdf(RECO_FNAME, reco_group_name + '/voxels')"
   ]
  },
  {
   "cell_type": "code",
   "execution_count": null,
   "metadata": {},
   "outputs": [],
   "source": [
    "events_df_smE_True = events_df[events_df.smE_filter]\n",
    "events_df_fid_True = events_df[events_df.fid_filter]"
   ]
  },
  {
   "cell_type": "code",
   "execution_count": null,
   "metadata": {},
   "outputs": [],
   "source": [
    "voxels_df.head()"
   ]
  },
  {
   "cell_type": "code",
   "execution_count": null,
   "metadata": {},
   "outputs": [],
   "source": [
    "events_df.head()"
   ]
  },
  {
   "cell_type": "code",
   "execution_count": null,
   "metadata": {},
   "outputs": [],
   "source": [
    "events_df_smE_True.head()"
   ]
  },
  {
   "cell_type": "code",
   "execution_count": null,
   "metadata": {
    "scrolled": true
   },
   "outputs": [],
   "source": [
    "events_df_fid_True.head()"
   ]
  },
  {
   "cell_type": "code",
   "execution_count": null,
   "metadata": {},
   "outputs": [],
   "source": [
    "voxels_df.head()"
   ]
  },
  {
   "cell_type": "code",
   "execution_count": null,
   "metadata": {},
   "outputs": [],
   "source": [
    "#voxels_df.loc[7]\n",
    "#voxels_df[voxels_df.negli]"
   ]
  },
  {
   "cell_type": "markdown",
   "metadata": {},
   "source": [
    "#### Generating some histograms ..."
   ]
  },
  {
   "cell_type": "markdown",
   "metadata": {},
   "source": [
    "Plotting event counters"
   ]
  },
  {
   "cell_type": "code",
   "execution_count": null,
   "metadata": {},
   "outputs": [],
   "source": [
    "fig = plt.figure(figsize = (8,4))\n",
    "\n",
    "counters_toPlot = {'Simulated Events':  simulated_events,\n",
    "                   'Stored Events':     stored_events,\n",
    "                   'smE_filter Events': smE_filter_events,\n",
    "                   'fid_filter Events': fid_filter_events}\n",
    "\n",
    "plt.bar(range(len(counters_toPlot)), list(counters_toPlot.values()), align='center',\n",
    "        color=['b', 'r', 'c', 'y'], yerr=np.sqrt([simulated_events, stored_events,\n",
    "                                                  smE_filter_events, fid_filter_events]))\n",
    "plt.xticks(range(len(counters_toPlot)), list(counters_toPlot.keys()), rotation='30')\n",
    "plt.show()"
   ]
  },
  {
   "cell_type": "markdown",
   "metadata": {},
   "source": [
    "Plotting event energies (MC & Smeared) of every event"
   ]
  },
  {
   "cell_type": "code",
   "execution_count": null,
   "metadata": {},
   "outputs": [],
   "source": [
    "fig = plt.figure(figsize = (12,5))\n",
    "num_bins = 50\n",
    "\n",
    "ax1 = fig.add_subplot(1, 2, 1)\n",
    "plt.hist(events_df.mcE, num_bins, [2.3, 2.6])\n",
    "#plt.hist(events_df.mcE, num_bins, [0., 2.6])\n",
    "plt.xlabel('Event energy [MeV]', size=12)\n",
    "plt.ylabel('Num. events', size=12)\n",
    "plt.title('MonteCarlo Event Energy [MeV]')\n",
    "\n",
    "ax2 = fig.add_subplot(1, 2, 2)\n",
    "plt.hist(events_df.smE, num_bins, [2.3, 2.6])\n",
    "#plt.hist(events_df.smE, num_bins, [0., 2.6])\n",
    "plt.xlabel('Event energy [MeV]', size=12)\n",
    "plt.ylabel('Num. events', size=12)\n",
    "plt.title('Smeared Event Energy [MeV]')\n"
   ]
  },
  {
   "cell_type": "markdown",
   "metadata": {},
   "source": [
    "Plotting the number of voxels per event that passed the \"Smeared Energy\" filter"
   ]
  },
  {
   "cell_type": "code",
   "execution_count": null,
   "metadata": {},
   "outputs": [],
   "source": [
    "events_df_smE_True['num_voxels'].value_counts().head(50).sort_index().plot(kind='bar', figsize=(8,6))"
   ]
  },
  {
   "cell_type": "markdown",
   "metadata": {},
   "source": [
    "Plotting the voxels energies for all the events"
   ]
  },
  {
   "cell_type": "code",
   "execution_count": null,
   "metadata": {},
   "outputs": [],
   "source": [
    "voxels_df[voxels_df.negli == False].hist('E', figsize =(8,4),\n",
    "                                         bins = 50, range = (0, 0.2),\n",
    "                                         grid = True, log = False,\n",
    "                                         label = 'Voxel Energy', xlabelsize = 12,\n",
    "                                         density = False, cumulative = False,\n",
    "                                         histtype = 'stepfilled',\n",
    "                                         # Type of Histogram ('bar', 'barstacked', 'step', 'stepfilled')\n",
    "                                         orientation = 'vertical')\n"
   ]
  },
  {
   "cell_type": "markdown",
   "metadata": {},
   "source": [
    "Plotting the spatial distribution of voxels from fiducial events"
   ]
  },
  {
   "cell_type": "code",
   "execution_count": null,
   "metadata": {},
   "outputs": [],
   "source": [
    "ACTIVE_dimensions = get_active_size(DET_NAME)\n",
    "\n",
    "#fid_voxels = voxels_df[voxels_df.event_indx.isin(events_df_fid_True.index)]\n",
    "fid_voxels = voxels_df.loc[events_df_fid_True.index]\n",
    "\n",
    "fig = plt.figure(figsize = (18,5))\n",
    "num_bins = int(ACTIVE_dimensions.z_max/20)\n",
    "\n",
    "ax1 = fig.add_subplot(1, 3, 1)\n",
    "plt.hist(fid_voxels.X, num_bins, [-ACTIVE_dimensions.rad, ACTIVE_dimensions.rad])\n",
    "plt.title('X [mm]', size=14)\n",
    "\n",
    "ax2 = fig.add_subplot(1, 3, 2)\n",
    "plt.hist(fid_voxels.Y, num_bins, [-ACTIVE_dimensions.rad, ACTIVE_dimensions.rad])\n",
    "plt.title('Y [mm]', size=14)\n",
    "\n",
    "ax3 = fig.adax1 = fig.add_subplot(1, 3, 3)\n",
    "plt.hist(fid_voxels.Z, num_bins, [ACTIVE_dimensions.z_min, ACTIVE_dimensions.z_max])\n",
    "plt.title('Z [mm]', size=14)"
   ]
  },
  {
   "cell_type": "code",
   "execution_count": null,
   "metadata": {},
   "outputs": [],
   "source": [
    "from   matplotlib.colors import LogNorm\n",
    "\n",
    "fig = plt.figure(figsize = (18,5.5))\n",
    "num_bins = int(ACTIVE_dimensions.z_max/20)\n",
    "\n",
    "ax1 = fig.add_subplot(1, 3, 1)\n",
    "plt.hist2d(fid_voxels.X, fid_voxels.Y, num_bins, [[-ACTIVE_dimensions.rad, ACTIVE_dimensions.rad],\n",
    "                                                  [-ACTIVE_dimensions.rad, ACTIVE_dimensions.rad]],\n",
    "           norm=LogNorm())\n",
    "plt.xlabel('X [mm]', size=12)\n",
    "plt.ylabel('Y [mm]', size=12)\n",
    "plt.title('X-Y [mm]', size=14)\n",
    "\n",
    "ax2 = fig.add_subplot(1, 3, 2)\n",
    "plt.hist2d(fid_voxels.X, fid_voxels.Z, num_bins, [[-ACTIVE_dimensions.rad, ACTIVE_dimensions.rad],\n",
    "                                                  [ACTIVE_dimensions.z_min, ACTIVE_dimensions.z_max]],\n",
    "           norm=LogNorm())\n",
    "plt.xlabel('X [mm]', size=12)\n",
    "plt.ylabel('Z [mm]', size=12)\n",
    "plt.title('X-Z [mm]', size=14)\n",
    "\n",
    "ax3 = fig.adax1 = fig.add_subplot(1, 3, 3)\n",
    "plt.hist2d(fid_voxels.Y, fid_voxels.Z, num_bins, [[-ACTIVE_dimensions.rad, ACTIVE_dimensions.rad],\n",
    "                                                  [ACTIVE_dimensions.z_min, ACTIVE_dimensions.z_max]],\n",
    "           norm=LogNorm())\n",
    "plt.xlabel('Y [mm]', size=12)\n",
    "plt.ylabel('Z [mm]', size=12)\n",
    "plt.title('Y-Z [mm]', size=14)\n"
   ]
  },
  {
   "cell_type": "markdown",
   "metadata": {},
   "source": [
    "Plotting the histogram of voxel sizes ..."
   ]
  },
  {
   "cell_type": "code",
   "execution_count": null,
   "metadata": {},
   "outputs": [],
   "source": [
    "fig = plt.figure(figsize = (18,5))\n",
    "num_bins = 45\n",
    "\n",
    "ax1 = fig.add_subplot(1, 3, 1)\n",
    "plt.hist(events_df_fid_True.voxel_sizeX, num_bins, [0, 15])\n",
    "plt.title('SizeX [mm]', size=14)\n",
    "\n",
    "ax1 = fig.add_subplot(1, 3, 2)\n",
    "plt.hist(events_df_fid_True.voxel_sizeY, num_bins, [0, 15])\n",
    "plt.title('SizeY [mm]', size=14)\n",
    "\n",
    "ax1 = fig.add_subplot(1, 3, 3)\n",
    "plt.hist(events_df_fid_True.voxel_sizeZ, num_bins, [0, 15])\n",
    "plt.title('SizeZ [mm]', size=14)"
   ]
  },
  {
   "cell_type": "code",
   "execution_count": null,
   "metadata": {},
   "outputs": [],
   "source": [
    "events_df_smE_True.hist(['mcE', 'smE'], bins=20,  figsize = (16,6), range = [2.4, 2.5])"
   ]
  },
  {
   "cell_type": "code",
   "execution_count": null,
   "metadata": {},
   "outputs": [],
   "source": [
    "fig = plt.figure(figsize = (10,10))\n",
    "num_bins = 50\n",
    "\n",
    "ax1 = fig.add_subplot(2, 1, 1)\n",
    "plt.hist(events_df_smE_True.mcE, num_bins, [2.39,2.51])\n",
    "plt.xlabel('Total energy (MeV)')\n",
    "ax1 = fig.add_subplot(2, 1, 2)\n",
    "plt.hist(events_df_smE_True.smE, num_bins, [2.39,2.51])\n",
    "plt.xlabel('Total energy (MeV)')\n",
    "\n",
    "from scipy.stats import norm\n",
    "(mu,sigma) = norm.fit(events_df[((events_df.smE>2.445) & (events_df.smE<2.475))].smE)\n",
    "print('mean: {0:.4f} MeV  sigma: {1:.4f} MeV'.format(mu, sigma))"
   ]
  },
  {
   "cell_type": "code",
   "execution_count": null,
   "metadata": {},
   "outputs": [],
   "source": [
    "len(voxels_df)"
   ]
  },
  {
   "cell_type": "code",
   "execution_count": null,
   "metadata": {},
   "outputs": [],
   "source": [
    "sum(events_df.smE_filter)"
   ]
  },
  {
   "cell_type": "code",
   "execution_count": null,
   "metadata": {},
   "outputs": [],
   "source": [
    "#event_to_print = 100000462\n",
    "\n",
    "#with tb.open_file(RECO_FNAME, mode='r') as reco_file:\n",
    "#    files_list = reco_file.get_node_attr(reco_group_name, 'input_sim_files')\n",
    "    \n",
    "#print_mc_event(event_to_print, files_list, with_hits=True)"
   ]
  },
  {
   "cell_type": "code",
   "execution_count": null,
   "metadata": {},
   "outputs": [],
   "source": [
    "#from fanal.mc.mc_io_functions  import load_mc_particles\n",
    "#file_mcParts = load_mc_particles('/Users/Javi/Development/nexus/tst.next.h5')"
   ]
  },
  {
   "cell_type": "code",
   "execution_count": null,
   "metadata": {},
   "outputs": [],
   "source": [
    "#fiducialEvt_mcParts = file_mcParts.loc[events_df_fid_True.index]\n",
    "#fiducialEvt_mcParts[(fiducialEvt_mcParts.mother_id == 1) & \n",
    "#                    (fiducialEvt_mcParts.name == 'e-')].final_volume.value_counts()\n"
   ]
  },
  {
   "cell_type": "code",
   "execution_count": null,
   "metadata": {},
   "outputs": [],
   "source": []
  }
 ],
 "metadata": {
  "kernelspec": {
   "display_name": "Python 3",
   "language": "python",
   "name": "python3"
  },
  "language_info": {
   "codemirror_mode": {
    "name": "ipython",
    "version": 3
   },
   "file_extension": ".py",
   "mimetype": "text/x-python",
   "name": "python",
   "nbconvert_exporter": "python",
   "pygments_lexer": "ipython3",
   "version": "3.7.9"
  }
 },
 "nbformat": 4,
 "nbformat_minor": 2
}
