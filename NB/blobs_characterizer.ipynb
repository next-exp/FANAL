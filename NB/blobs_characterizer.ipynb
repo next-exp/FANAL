{
 "cells": [
  {
   "cell_type": "markdown",
   "metadata": {},
   "source": [
    "<p style=\"font-family: Arial; font-size:3.75em; color:purple; font-style:bold\">\n",
    "<br>BLOBS CHARACTERIZER</p><br>"
   ]
  },
  {
   "cell_type": "markdown",
   "metadata": {},
   "source": [
    "This notebook characterizes the BLOBs. It's main pourpouse is to identify what is the best radius and energy threshold to be used as parameters in the classical \"blobs cut\".\n",
    "It is done in two different steps:\n",
    "> * Identify wich is the minimum blob radius that performs a good discrimination between blobs of single and double electron tracks.\n",
    "> * Once identified the blob radius, determine wich is the energy threshold that gives a better figure of merit: S/sqrt(N)"
   ]
  },
  {
   "cell_type": "code",
   "execution_count": null,
   "metadata": {},
   "outputs": [],
   "source": [
    "%matplotlib inline\n",
    "%load_ext memory_profiler\n",
    "%load_ext line_profiler\n",
    "\n",
    "%load_ext autoreload\n",
    "%autoreload 2"
   ]
  },
  {
   "cell_type": "code",
   "execution_count": null,
   "metadata": {},
   "outputs": [],
   "source": [
    "from IPython.core.display import HTML\n",
    "css = open('style-table.css').read() + open('style-notebook.css').read()\n",
    "HTML('<style>{}</style>'.format(css))"
   ]
  },
  {
   "cell_type": "markdown",
   "metadata": {},
   "source": [
    "#### Importing general stuff"
   ]
  },
  {
   "cell_type": "code",
   "execution_count": null,
   "metadata": {},
   "outputs": [],
   "source": [
    "import os\n",
    "import sys\n",
    "import numpy  as np\n",
    "import tables as tb\n",
    "import pandas as pd\n",
    "import matplotlib.pyplot as plt\n",
    "from   matplotlib.colors import LogNorm\n",
    "\n",
    "# Specific IC stuff\n",
    "import invisible_cities.core.system_of_units  as units\n",
    "from invisible_cities.evm.event_model         import Voxel\n",
    "from invisible_cities.reco.paolina_functions  import make_track_graphs\n",
    "from invisible_cities.reco.paolina_functions  import blob_energies\n",
    "\n",
    "# Specific fanalIC stuff\n",
    "from fanal.reco.reco_io_functions import get_reco_group_name\n",
    "from fanal.ana.ana_io_functions   import get_ana_group_name\n",
    "\n",
    "from fanal.ana.ana_functions import get_new_energies\n",
    "from fanal.ana.ana_functions import process_tracks"
   ]
  },
  {
   "cell_type": "markdown",
   "metadata": {},
   "source": [
    "#### GENERAL ANALYSIS DATA "
   ]
  },
  {
   "cell_type": "code",
   "execution_count": null,
   "metadata": {},
   "outputs": [],
   "source": [
    "# DETECTOR NAME\n",
    "DET_NAME = 'next100'\n",
    "\n",
    "# BASE PATH\n",
    "BASE_PATH = '/Users/Javi/Development/FANAL/data'\n",
    "\n",
    "# VERBOSITY\n",
    "VERBOSE = True\n",
    "\n",
    "# ENERGY RESOLUTION\n",
    "fwhm = 0.5\n",
    "\n",
    "# VOXEL SIZE\n",
    "voxel_size = [3, 3, 3]\n",
    "\n",
    "# Track energy threshold\n",
    "track_Eth = 3. * units.keV"
   ]
  },
  {
   "cell_type": "code",
   "execution_count": null,
   "metadata": {},
   "outputs": [],
   "source": [
    "# INPUT DIRS\n",
    "fwhm_str   = str(fwhm).replace('.', '')\n",
    "voxel_str  = f\"{voxel_size[0]}x{voxel_size[0]}x{voxel_size[0]}\"\n",
    "\n",
    "bb0nu_fname = f\"{BASE_PATH}/{DET_NAME}/bb0nu/reco/{DET_NAME}.bb0nu.fwhm_{fwhm_str}.voxel_{voxel_str}.reco.h5\"\n",
    "Bi214_fname = f\"{BASE_PATH}/{DET_NAME}/Bi214/reco/{DET_NAME}.Bi214.fwhm_{fwhm_str}.voxel_{voxel_str}.reco.h5\"\n",
    "Tl208_fname = f\"{BASE_PATH}/{DET_NAME}/Tl208/reco/{DET_NAME}.Tl208.fwhm_{fwhm_str}.voxel_{voxel_str}.reco.h5\""
   ]
  },
  {
   "cell_type": "code",
   "execution_count": null,
   "metadata": {},
   "outputs": [],
   "source": [
    "reco_group_name = get_reco_group_name(fwhm, voxel_size)"
   ]
  },
  {
   "cell_type": "markdown",
   "metadata": {},
   "source": [
    "# SELECTING the blob radius\n",
    "\n",
    "To do it, we will plot the evolution of the Blob2 energy in terms of the radius for signal and background, and we will select the minimum radius in which these energy distributions are clearly different."
   ]
  },
  {
   "cell_type": "markdown",
   "metadata": {},
   "source": [
    "#### Range of blob-radius to study"
   ]
  },
  {
   "cell_type": "code",
   "execution_count": null,
   "metadata": {},
   "outputs": [],
   "source": [
    "MIN_RAD = 5\n",
    "MAX_RAD = 25\n",
    "blob_radius = np.arange(MIN_RAD, MAX_RAD)"
   ]
  },
  {
   "cell_type": "markdown",
   "metadata": {},
   "source": [
    "#### Loading into memory all the input data"
   ]
  },
  {
   "cell_type": "code",
   "execution_count": null,
   "metadata": {},
   "outputs": [],
   "source": [
    "def load_data(file_names):\n",
    "    events = pd.DataFrame()\n",
    "    voxels = pd.DataFrame()\n",
    "\n",
    "    # Looping through all the input files\n",
    "    for iFileName in file_names:\n",
    "        file_events = pd.read_hdf(iFileName, reco_group_name + '/events')\n",
    "        file_voxels = pd.read_hdf(iFileName, reco_group_name + '/voxels')\n",
    "    \n",
    "        events = pd.concat([events, file_events], axis=0)\n",
    "        voxels = pd.concat([voxels, file_voxels], axis=0)\n",
    "    \n",
    "    return events, voxels\n"
   ]
  },
  {
   "cell_type": "code",
   "execution_count": null,
   "metadata": {},
   "outputs": [],
   "source": [
    "bb0nu_events, bb0nu_voxels = load_data([bb0nu_fname])\n",
    "Bi214_events, Bi214_voxels = load_data([Bi214_fname])\n",
    "Tl208_events, Tl208_voxels = load_data([Tl208_fname])"
   ]
  },
  {
   "cell_type": "markdown",
   "metadata": {},
   "source": [
    "#### Getting IC voxels from events with just one track"
   ]
  },
  {
   "cell_type": "code",
   "execution_count": null,
   "metadata": {},
   "outputs": [],
   "source": [
    "def get_ic_voxels(events, voxels):\n",
    "    '''\n",
    "    For every fiducial event, tracks are made with the voxels.\n",
    "    From those with just one reconstructed tracks, it returns\n",
    "    the collection oc IC voxels to play the blobs game.\n",
    "    '''\n",
    "    events_ic_voxels = []\n",
    "\n",
    "    ### Looping through all the events that passed the fiducial filter\n",
    "    ### and getting the voxels\n",
    "    for event_id, event_df in events[events.fid_filter].iterrows():\n",
    "        event_voxels     = voxels.loc[event_id]\n",
    "        voxel_dimensions = (event_df.voxel_sizeX, event_df.voxel_sizeY, event_df.voxel_sizeZ)\n",
    "\n",
    "        # If there is any negligible Voxel, distribute its energy between its neighbours,\n",
    "        # if not, all voxels maintain their previous energies\n",
    "        if len(event_voxels[event_voxels.negli == True]):\n",
    "            event_voxels_newE = get_new_energies(event_voxels)\n",
    "        else:\n",
    "            event_voxels_newE = event_voxels.E.tolist()\n",
    "            \n",
    "        # Translate fanalIC voxels info to IC voxels to make tracks\n",
    "        ic_voxels = []\n",
    "        for i, voxel in event_voxels.iterrows():\n",
    "            ic_voxel = Voxel(voxel.X, voxel.Y, voxel.Z, event_voxels_newE[i], voxel_dimensions)\n",
    "            ic_voxels.append(ic_voxel)            \n",
    "        \n",
    "        # Make and process tracks\n",
    "        event_tracks        = make_track_graphs(ic_voxels)\n",
    "        event_sorted_tracks = process_tracks(event_tracks, track_Eth)         \n",
    "        num_tracks = len(event_sorted_tracks)\n",
    "        \n",
    "        if(num_tracks == 1):\n",
    "            events_ic_voxels.append(event_sorted_tracks[0][1])\n",
    "        \n",
    "    return events_ic_voxels\n",
    "    "
   ]
  },
  {
   "cell_type": "code",
   "execution_count": null,
   "metadata": {},
   "outputs": [],
   "source": [
    "bb0nu_ic_voxels = get_ic_voxels(bb0nu_events, bb0nu_voxels)"
   ]
  },
  {
   "cell_type": "code",
   "execution_count": null,
   "metadata": {},
   "outputs": [],
   "source": [
    "Bi214_ic_voxels = get_ic_voxels(Bi214_events, Bi214_voxels)"
   ]
  },
  {
   "cell_type": "code",
   "execution_count": null,
   "metadata": {},
   "outputs": [],
   "source": [
    "Tl208_ic_voxels = get_ic_voxels(Tl208_events, Tl208_voxels)"
   ]
  },
  {
   "cell_type": "code",
   "execution_count": null,
   "metadata": {},
   "outputs": [],
   "source": []
  },
  {
   "cell_type": "code",
   "execution_count": null,
   "metadata": {},
   "outputs": [],
   "source": [
    "bb0nu_ic_voxels"
   ]
  },
  {
   "cell_type": "code",
   "execution_count": null,
   "metadata": {},
   "outputs": [],
   "source": []
  },
  {
   "cell_type": "markdown",
   "metadata": {},
   "source": [
    "#### Getting Blob2 energies for all the range of Blob radius"
   ]
  },
  {
   "cell_type": "code",
   "execution_count": null,
   "metadata": {},
   "outputs": [],
   "source": [
    "signal_blob2E_dict = {}\n",
    "bkgnd_blob2E_dict  = {}\n",
    "\n",
    "# For every radius to study\n",
    "for rad in blob_radius:\n",
    "    rad_str = f\"{rad}mm\"\n",
    "    \n",
    "    # Going through all the voxel sets from signal events\n",
    "    signal_blob2E = []\n",
    "    for voxel_set in bb0nu_ic_voxels:\n",
    "        blob1_E, blob2_E = blob_energies(voxel_set, rad * units.mm)\n",
    "        signal_blob2E.append(blob2_E)\n",
    "    signal_blob2E_dict[rad_str] = signal_blob2E\n",
    "\n",
    "    # Going through all the voxel sets from background events\n",
    "    bkgnd_blob2E = []\n",
    "    for voxel_set in Tl208_ic_voxels:\n",
    "        blob1_E, blob2_E = blob_energies(voxel_set, rad * units.mm)\n",
    "        bkgnd_blob2E.append(blob2_E)\n",
    "    for voxel_set in Bi214_ic_voxels:\n",
    "        blob1_E, blob2_E = blob_energies(voxel_set, rad * units.mm)\n",
    "        bkgnd_blob2E.append(blob2_E)\n",
    "    bkgnd_blob2E_dict[rad_str] = bkgnd_blob2E\n",
    "\n",
    "signal_blob2E = pd.DataFrame(signal_blob2E_dict)\n",
    "bkgnd_blob2E  = pd.DataFrame(bkgnd_blob2E_dict)\n"
   ]
  },
  {
   "cell_type": "code",
   "execution_count": null,
   "metadata": {},
   "outputs": [],
   "source": [
    "#bkgnd_blob2E"
   ]
  },
  {
   "cell_type": "code",
   "execution_count": null,
   "metadata": {},
   "outputs": [],
   "source": [
    "#signal_blob2E"
   ]
  },
  {
   "cell_type": "markdown",
   "metadata": {},
   "source": [
    "#### Plotting 1"
   ]
  },
  {
   "cell_type": "code",
   "execution_count": null,
   "metadata": {},
   "outputs": [],
   "source": [
    "for rad in blob_radius:\n",
    "    rad_str = f\"{rad}mm\"\n",
    "\n",
    "    fig = plt.figure(figsize = (15,5))\n",
    "    num_bins = 50\n",
    "    \n",
    "    ax1 = fig.add_subplot(1, 2, 1)\n",
    "    signal_blob2E[rad_str].hist(bins=num_bins, range=[0.,1.0])\n",
    "    plt.xlabel('Blob2 Energy [MeV]')\n",
    "    plt.title(f\"Signal Blob2 Energy - Rad: {rad} mm\", size=14)\n",
    "    \n",
    "    ax2 = fig.add_subplot(1, 2, 2)\n",
    "    bkgnd_blob2E[rad_str].hist(bins=num_bins, range=[0.,1.0])\n",
    "    plt.xlabel('Blob2 Energy [MeV]')\n",
    "    plt.title(f\"Background Blob2 Energy - Rad: {rad} mm\", size=14)\n",
    "\n",
    "    plt.show()"
   ]
  },
  {
   "cell_type": "markdown",
   "metadata": {},
   "source": [
    "#### Plotting 2"
   ]
  },
  {
   "cell_type": "code",
   "execution_count": null,
   "metadata": {},
   "outputs": [],
   "source": [
    "# PLOT DETAILS ...\n",
    "min_rad_toPlot = 10\n",
    "max_rad_toPlot = 25\n",
    "\n",
    "max_E_toPlot     = 1.0 * units.MeV\n",
    "num_Ebins_toPlot = 20"
   ]
  },
  {
   "cell_type": "code",
   "execution_count": null,
   "metadata": {},
   "outputs": [],
   "source": [
    "# Generating data for hist2d plotting\n",
    "signal_rad = []\n",
    "signal_E   = []\n",
    "bkgnd_rad  = []\n",
    "bkgnd_E    = []\n",
    "\n",
    "for rad in np.arange(min_rad_toPlot, max_rad_toPlot):\n",
    "    rad_str = f\"{rad}mm\"\n",
    "\n",
    "    # Signal data\n",
    "    signal_rad += [rad] * len(signal_blob2E[f\"{rad}mm\"])\n",
    "    signal_E   += list(signal_blob2E[f\"{rad}mm\"])\n",
    "\n",
    "    # Background data\n",
    "    bkgnd_rad += [rad] * len(bkgnd_blob2E[f\"{rad}mm\"])\n",
    "    bkgnd_E   += list(bkgnd_blob2E[f\"{rad}mm\"])\n",
    "\n",
    "# Generating bins\n",
    "bins_y = list(np.arange(0, max_E_toPlot, (max_E_toPlot/num_Ebins_toPlot)))\n",
    "bins_x = [min_rad_toPlot-0.5]\n",
    "for rad in np.arange(min_rad_toPlot, max_rad_toPlot):\n",
    "    bins_x += [rad + 0.5]\n",
    "\n",
    "# Plotting\n",
    "fig = plt.figure(figsize = (18,6));\n",
    "ax1 = fig.add_subplot(1, 2, 1)\n",
    "plt.hist2d(signal_rad, signal_E, bins=(bins_x, bins_y))\n",
    "plt.xlabel(\"Blob Radius [mm]\")\n",
    "plt.ylabel(\"Blob2 E [MeV]\")\n",
    "plt.title(\"Signal Blob2 Energy vs Blob radius\")\n",
    "plt.colorbar(label='entries')\n",
    "\n",
    "ax2 = fig.add_subplot(1, 2, 2)\n",
    "plt.hist2d(bkgnd_rad, bkgnd_E, bins=(bins_x, bins_y))\n",
    "plt.xlabel(\"Blob Radius [mm]\")\n",
    "plt.ylabel(\"Blob2 E [MeV]\")\n",
    "plt.title(\"Background Blob2 Energy vs Blob radius\")\n",
    "plt.colorbar(label='entries')\n"
   ]
  },
  {
   "cell_type": "markdown",
   "metadata": {},
   "source": [
    "# SELECTING the blob energy threshold\n",
    "\n",
    "Once selected the appropriate blob radius, let's select wich blob energy threshold yields the best figure of merit (signal / sqrt(bkgnd))."
   ]
  },
  {
   "cell_type": "code",
   "execution_count": null,
   "metadata": {},
   "outputs": [],
   "source": [
    "BLOB_RAD = 15 * units.mm"
   ]
  },
  {
   "cell_type": "code",
   "execution_count": null,
   "metadata": {},
   "outputs": [],
   "source": [
    "max_E_toPlot     = 1.2 * units.MeV\n",
    "num_Ebins_toPlot = 36\n",
    "\n",
    "fig = plt.figure(figsize = (18,6))\n",
    "ax1 = fig.add_subplot(1, 2, 1)\n",
    "plt.hist(signal_blob2E[f\"{int(BLOB_RAD)}mm\"], num_Ebins_toPlot, [0,max_E_toPlot])\n",
    "plt.title(f\"Signal Blob2 Energy - Blob rad = {BLOB_RAD} mm\")\n",
    "plt.xlabel(\"Blob2 E [MeV]\")\n",
    "plt.ylabel(\"entries\")\n",
    "\n",
    "ax2 = fig.add_subplot(1, 2, 2)\n",
    "plt.hist(bkgnd_blob2E[f\"{int(BLOB_RAD)}mm\"], num_Ebins_toPlot, [0,max_E_toPlot])\n",
    "plt.title(f\"Background Blob2 Energy - Blob rad = {BLOB_RAD} mm\")\n",
    "plt.xlabel(\"Blob2 E [MeV]\")\n",
    "plt.ylabel(\"entries\")\n"
   ]
  },
  {
   "cell_type": "code",
   "execution_count": null,
   "metadata": {},
   "outputs": [],
   "source": [
    "import math\n",
    "energy_thresholds = np.arange(0.2, 0.8, 0.01)\n",
    "\n",
    "tot_signal = len(signal_blob2E[f\"{int(BLOB_RAD)}mm\"])\n",
    "\n",
    "merits = []\n",
    "for Eth in energy_thresholds:\n",
    "    signal = len(signal_blob2E[signal_blob2E[f\"{int(BLOB_RAD)}mm\"] > Eth])\n",
    "    bkgnd  = len(bkgnd_blob2E[bkgnd_blob2E[f\"{int(BLOB_RAD)}mm\"] > Eth])\n",
    "    if (bkgnd): merit = signal / math.sqrt(bkgnd)\n",
    "    else:       merit = 0.\n",
    "    merits.append(merit)\n",
    "    print(f\"Eth [MeV]: {Eth:5.3}  ->  Signal: {signal:5} ({signal/tot_signal*100:6.4}%)   Bkgnd: {bkgnd:5}   Merit: {merit:.4}\")\n",
    "\n",
    "fig = plt.figure(figsize = (10,8))\n",
    "plt.plot(energy_thresholds, merits)\n",
    "plt.title(f\"Figure of Merit S/sqrt(N) - Blob rad = {BLOB_RAD} mm\")\n",
    "plt.xlabel(\"Blob Energy Threshold (MeV)\")\n",
    "plt.ylabel(\"Arbitrary Units\")\n"
   ]
  },
  {
   "cell_type": "code",
   "execution_count": null,
   "metadata": {},
   "outputs": [],
   "source": []
  },
  {
   "cell_type": "code",
   "execution_count": null,
   "metadata": {},
   "outputs": [],
   "source": []
  }
 ],
 "metadata": {
  "kernelspec": {
   "display_name": "Python 3",
   "language": "python",
   "name": "python3"
  },
  "language_info": {
   "codemirror_mode": {
    "name": "ipython",
    "version": 3
   },
   "file_extension": ".py",
   "mimetype": "text/x-python",
   "name": "python",
   "nbconvert_exporter": "python",
   "pygments_lexer": "ipython3",
   "version": "3.7.9"
  }
 },
 "nbformat": 4,
 "nbformat_minor": 2
}
