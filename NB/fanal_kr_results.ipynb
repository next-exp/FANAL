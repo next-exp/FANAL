{
 "cells": [
  {
   "cell_type": "markdown",
   "metadata": {},
   "source": [
    "<p style=\"font-family: Arial; font-size:3.0em; color:purple; font-style:bold\">\n",
    "<br>SHOWING FANAL Kr-ANALYSIS RESULTS<br></p>"
   ]
  },
  {
   "cell_type": "markdown",
   "metadata": {},
   "source": [
    "This notebook illustrates the results got from FANAL 'kr' analysis.\n",
    "\n",
    "It provides contents of krypton DataFrames with some associated plots."
   ]
  },
  {
   "cell_type": "markdown",
   "metadata": {},
   "source": [
    "#### Setting general stuff"
   ]
  },
  {
   "cell_type": "code",
   "execution_count": null,
   "metadata": {},
   "outputs": [],
   "source": [
    "from IPython.core.display import HTML\n",
    "css = open('css/style-table.css').read() + open('css/style-notebook.css').read()\n",
    "HTML('<style>{}</style>'.format(css))"
   ]
  },
  {
   "cell_type": "code",
   "execution_count": null,
   "metadata": {},
   "outputs": [],
   "source": [
    "%load_ext autoreload\n",
    "%autoreload 2"
   ]
  },
  {
   "cell_type": "code",
   "execution_count": null,
   "metadata": {},
   "outputs": [],
   "source": [
    "%matplotlib inline"
   ]
  },
  {
   "cell_type": "markdown",
   "metadata": {},
   "source": [
    "#### Importings"
   ]
  },
  {
   "cell_type": "code",
   "execution_count": null,
   "metadata": {},
   "outputs": [],
   "source": [
    "import os\n",
    "import sys\n",
    "import numpy  as np\n",
    "import tables as tb\n",
    "import pandas as pd\n",
    "import matplotlib.pyplot as plt\n",
    "from   matplotlib.colors import LogNorm\n",
    "\n",
    "#%matplotlib widget"
   ]
  },
  {
   "cell_type": "code",
   "execution_count": null,
   "metadata": {},
   "outputs": [],
   "source": [
    "# Specific IC stuff\n",
    "\n",
    "import invisible_cities.core.system_of_units  as units"
   ]
  },
  {
   "cell_type": "code",
   "execution_count": null,
   "metadata": {},
   "outputs": [],
   "source": [
    "# Specific FANAL stuff\n",
    "from fanal.core.fanal_units import Qbb\n",
    "from fanal.core.fanal_units import kr_energy\n",
    "from fanal.core.fanal_units import xe_Wsci\n",
    "\n",
    "from fanal.core.detectors   import get_detector\n",
    "\n",
    "from fanal.utils.types      import XYZ\n",
    "\n",
    "from fanal.utils.plot_utils import plot_vertices\n",
    "from fanal.utils.plot_utils import plot_and_fit"
   ]
  },
  {
   "cell_type": "code",
   "execution_count": null,
   "metadata": {},
   "outputs": [],
   "source": [
    "plt.rcParams[\"figure.figsize\"] = 8, 6\n",
    "plt.rcParams[\"font.size\"     ] = 14"
   ]
  },
  {
   "cell_type": "markdown",
   "metadata": {},
   "source": [
    "# LOADING DATA"
   ]
  },
  {
   "cell_type": "code",
   "execution_count": null,
   "metadata": {},
   "outputs": [],
   "source": [
    "iPATH         = \"../data/flex100f\"\n",
    "results_fname = iPATH + \"/kr/fanal/fanal.flex100f.kr.h5\""
   ]
  },
  {
   "cell_type": "code",
   "execution_count": null,
   "metadata": {},
   "outputs": [],
   "source": [
    "results_fname = \"/Users/Javi/Development/FANAL/fanal/tmp/fanal.FLEX100_M2_O6.kr.h5\"\n",
    "#results_fname = \"/Users/Javi/Development/FANAL/fanal/tmp/tst.kr.h5\""
   ]
  },
  {
   "cell_type": "code",
   "execution_count": null,
   "metadata": {},
   "outputs": [],
   "source": [
    "config_df  = pd.read_hdf(results_fname, \"FANAL\" + '/config')\n",
    "kryton_df  = pd.read_hdf(results_fname, \"FANAL\" + '/kryptons')\n",
    "#results_df = pd.read_hdf(results_fname, \"FANAL\" + '/results')"
   ]
  },
  {
   "cell_type": "code",
   "execution_count": null,
   "metadata": {},
   "outputs": [],
   "source": [
    "print(\"Configuration run ...\")\n",
    "config_df"
   ]
  },
  {
   "cell_type": "code",
   "execution_count": null,
   "metadata": {},
   "outputs": [],
   "source": [
    "detector = get_detector(config_df.loc['det_name'].value)"
   ]
  },
  {
   "cell_type": "code",
   "execution_count": null,
   "metadata": {},
   "outputs": [],
   "source": [
    "detector"
   ]
  },
  {
   "cell_type": "code",
   "execution_count": null,
   "metadata": {},
   "outputs": [],
   "source": [
    "kryton_df.head()"
   ]
  },
  {
   "cell_type": "code",
   "execution_count": null,
   "metadata": {},
   "outputs": [],
   "source": [
    "#results_df"
   ]
  },
  {
   "cell_type": "code",
   "execution_count": null,
   "metadata": {},
   "outputs": [],
   "source": []
  },
  {
   "cell_type": "markdown",
   "metadata": {},
   "source": [
    "# VERTICES"
   ]
  },
  {
   "cell_type": "code",
   "execution_count": null,
   "metadata": {},
   "outputs": [],
   "source": [
    "plot_vertices(kryton_df.rename(columns = {'x_true': 'x', 'y_true': 'y', 'z_true': 'z'}),\n",
    "              num_bins=40, extra_size = 50)"
   ]
  },
  {
   "cell_type": "code",
   "execution_count": null,
   "metadata": {},
   "outputs": [],
   "source": []
  },
  {
   "cell_type": "markdown",
   "metadata": {},
   "source": [
    "# POSITIONS"
   ]
  },
  {
   "cell_type": "code",
   "execution_count": null,
   "metadata": {},
   "outputs": [],
   "source": [
    "dist_x  = kryton_df.x_true - kryton_df.x_rec\n",
    "dist_y  = kryton_df.y_true - kryton_df.y_rec"
   ]
  },
  {
   "cell_type": "code",
   "execution_count": null,
   "metadata": {},
   "outputs": [],
   "source": [
    "fig, (ax1, ax2) = plt.subplots(1,2, figsize=(16,7))\n",
    "ax1.hist(dist_x, 50);\n",
    "ax1.set_title (\"Distance X\", size=16);\n",
    "ax1.set_xlabel(\"mm\", size=16);\n",
    "ax1.set_ylabel(\"entries\", size=16);\n",
    "\n",
    "energy_sns_pde = 0.4\n",
    "ax2.hist(dist_y, 50);\n",
    "ax2.set_title (f\"Distance Y\", size=16);\n",
    "ax2.set_xlabel(\"mm\", size=16);\n",
    "ax2.set_ylabel(\"entries\", size=16);\n",
    "\n",
    "print(\"Distance X description:\")\n",
    "print(dist_x.describe())\n",
    "print(\"Distance Y description:\")\n",
    "print(dist_y.describe())"
   ]
  },
  {
   "cell_type": "code",
   "execution_count": null,
   "metadata": {},
   "outputs": [],
   "source": [
    "#dist_xy = XYZ(kryton_df.x_true, kryton_df.y_true, 0.).distance( \\\n",
    "#          XYZ(kryton_df.x_rec , kryton_df.y_rec , 0.))\n",
    "#\n",
    "#plt.hist(dist_xy, bins = 100);\n",
    "#print(\"Distance XY description:\")\n",
    "#dist_xy.describe()"
   ]
  },
  {
   "cell_type": "code",
   "execution_count": null,
   "metadata": {},
   "outputs": [],
   "source": []
  },
  {
   "cell_type": "markdown",
   "metadata": {},
   "source": [
    "# ENERGY - S1"
   ]
  },
  {
   "cell_type": "code",
   "execution_count": null,
   "metadata": {},
   "outputs": [],
   "source": [
    "kryton_df.s1_pes.describe()"
   ]
  },
  {
   "cell_type": "code",
   "execution_count": null,
   "metadata": {},
   "outputs": [],
   "source": [
    "fig, (ax1, ax2) = plt.subplots(1,2, figsize=(16,7))\n",
    "ax1.hist(kryton_df.s1_pes, 50, range=[0, 100]);\n",
    "ax1.set_title (\"S1 (raw)\", size=16);\n",
    "ax1.set_xlabel(\"pes\"     , size=16);\n",
    "ax1.set_ylabel(\"entries\" , size=16);\n",
    "\n",
    "ax2.hist2d(kryton_df.rad_true, kryton_df.s1_pes, (50, 50), range=[[20, 470], [0, 100]]);\n",
    "ax2.set_title (\"S1 (raw)\"   , size=16);\n",
    "ax2.set_xlabel(\"Radius (mm)\", size=16);\n",
    "ax2.set_ylabel(\"pes\"        , size=16);"
   ]
  },
  {
   "cell_type": "code",
   "execution_count": null,
   "metadata": {},
   "outputs": [],
   "source": []
  },
  {
   "cell_type": "markdown",
   "metadata": {},
   "source": [
    "# Light Collection Efficiency"
   ]
  },
  {
   "cell_type": "code",
   "execution_count": null,
   "metadata": {},
   "outputs": [],
   "source": [
    "# The number of initial scintillation photons for kr is \n",
    "# the kr energy / Wsci del xenon\n",
    "num_kr_s1_photons = kr_energy / xe_Wsci\n",
    "\n",
    "# This collection efficiency has been computed asuming that the sesnors used to read it:\n",
    "# Have a pde = 100 %\n",
    "# Don't have background\n",
    "kryton_df['col_eff'] = kryton_df.s1_pes / num_kr_s1_photons / units.perCent"
   ]
  },
  {
   "cell_type": "code",
   "execution_count": null,
   "metadata": {},
   "outputs": [],
   "source": [
    "fig, (ax1, ax2) = plt.subplots(1,2, figsize=(16,7))\n",
    "ax1.hist(kryton_df.col_eff, 50, range=(0, 15));\n",
    "ax1.set_title (\"Light Collection Efficiency\", size=16);\n",
    "ax1.set_xlabel(\"Eff (%)\", size=16);\n",
    "ax1.set_ylabel(\"entries\", size=16);\n",
    "\n",
    "energy_sns_pde = 0.4\n",
    "ax2.hist(kryton_df.col_eff * energy_sns_pde, 50, range=(0, 6));\n",
    "ax2.set_title (f\"Light Collection Efficiency (sns pde = {energy_sns_pde})\", size=16);\n",
    "ax2.set_xlabel(\"Eff (%)\", size=16);\n",
    "ax2.set_ylabel(\"entries\", size=16);\n",
    "\n",
    "(kryton_df.col_eff * energy_sns_pde).describe()"
   ]
  },
  {
   "cell_type": "code",
   "execution_count": null,
   "metadata": {},
   "outputs": [],
   "source": []
  },
  {
   "cell_type": "markdown",
   "metadata": {},
   "source": [
    "# ENERGY - S2"
   ]
  },
  {
   "cell_type": "code",
   "execution_count": null,
   "metadata": {},
   "outputs": [],
   "source": [
    "fig, (ax1, ax2) = plt.subplots(1,2, figsize=(16,7))\n",
    "#ax1.hist(kryton_df.s2_pes, 50)\n",
    "ax1.hist(kryton_df.s2_pes, 50, (10000, 20000))\n",
    "ax1.set_title (\"S2 (raw)\"   , size=16);\n",
    "ax1.set_xlabel(\"pes\"     , size=16);\n",
    "ax1.set_ylabel(\"entries\" , size=16);\n",
    "\n",
    "ax2.hist2d(kryton_df.rad_true, kryton_df.s2_pes, (50, 50), range=[[20, 470], [10000, 20000]])\n",
    "ax2.set_title (\"S2 (raw)\"   , size=16);\n",
    "ax2.set_xlabel(\"Radius (mm)\", size=16);\n",
    "ax2.set_ylabel(\"pes\"        , size=16);"
   ]
  },
  {
   "cell_type": "code",
   "execution_count": null,
   "metadata": {},
   "outputs": [],
   "source": [
    "mu, sigma, fwhm = plot_and_fit(kryton_df.s2_pes_corr, title=\"corrected S2\", num_bins=100);\n",
    "\n",
    "print(f\"fwhm at Qbb: {fwhm * (kr_energy / Qbb)**.5 / units.perCent:.3} %\")"
   ]
  },
  {
   "cell_type": "code",
   "execution_count": null,
   "metadata": {},
   "outputs": [],
   "source": [
    "mu, sigma, fwhm = plot_and_fit(kryton_df.energy_rec, title=\"Energy reconstructed\", num_bins=100);\n",
    "\n",
    "print(f\"fwhm at Qbb: {fwhm * (kr_energy / Qbb)**.5 / units.perCent:.3} %\")"
   ]
  },
  {
   "cell_type": "code",
   "execution_count": null,
   "metadata": {},
   "outputs": [],
   "source": []
  },
  {
   "cell_type": "markdown",
   "metadata": {},
   "source": [
    "# Charge"
   ]
  },
  {
   "cell_type": "code",
   "execution_count": null,
   "metadata": {},
   "outputs": [],
   "source": [
    "print(f\"Current detector:\\n {detector}\\n\")"
   ]
  },
  {
   "cell_type": "code",
   "execution_count": null,
   "metadata": {},
   "outputs": [],
   "source": [
    "fig, (ax1, ax2) = plt.subplots(1,2, figsize=(16,7))\n",
    "ax1.hist(kryton_df.q_tot, 50)\n",
    "#ax1.hist(kryton_df.q_tot, 50, range=[900, 1300])\n",
    "ax1.set_title (\"Q tot\"   , size=16);\n",
    "ax1.set_xlabel(\"pes\"     , size=16);\n",
    "ax1.set_ylabel(\"entries\" , size=16);\n",
    "\n",
    "ax2.hist(kryton_df.q_max, 50)\n",
    "ax2.set_title (\"Q max\"   , size=16);\n",
    "ax2.set_xlabel(\"pes\"     , size=16);\n",
    "ax2.set_ylabel(\"entries\" , size=16);"
   ]
  },
  {
   "cell_type": "code",
   "execution_count": null,
   "metadata": {},
   "outputs": [],
   "source": [
    "fig, (ax1, ax2) = plt.subplots(1,2, figsize=(16,7))\n",
    "ax1.hist2d(kryton_df.rad_true, kryton_df.q_tot, (50, 50))\n",
    "#ax1.hist2d(kryton_df.rad_true, kryton_df.q_tot, (50, 50), range=[[20, 470], [900, 1300]])\n",
    "ax1.set_title (\"Q tot\"      , size=16);\n",
    "ax1.set_xlabel(\"Radius (mm)\", size=16);\n",
    "ax1.set_ylabel(\"pes\"        , size=16);\n",
    "\n",
    "#ax2.hist2d(kryton_df.rad_true, kryton_df.q_max, (50, 50))\n",
    "ax2.hist2d(kryton_df.rad_true, kryton_df.q_max, (50, 50), range=[[20, 470], [0, 100]])\n",
    "ax2.set_title (\"Q max\"      , size=16);\n",
    "ax2.set_xlabel(\"Radius (mm)\", size=16);\n",
    "ax2.set_ylabel(\"pes\"        , size=16);"
   ]
  },
  {
   "cell_type": "code",
   "execution_count": null,
   "metadata": {},
   "outputs": [],
   "source": []
  }
 ],
 "metadata": {
  "kernelspec": {
   "display_name": "Python 3",
   "language": "python",
   "name": "python3"
  },
  "language_info": {
   "codemirror_mode": {
    "name": "ipython",
    "version": 3
   },
   "file_extension": ".py",
   "mimetype": "text/x-python",
   "name": "python",
   "nbconvert_exporter": "python",
   "pygments_lexer": "ipython3",
   "version": "3.7.9"
  }
 },
 "nbformat": 4,
 "nbformat_minor": 2
}
