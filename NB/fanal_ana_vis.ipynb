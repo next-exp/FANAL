{
 "cells": [
  {
   "cell_type": "markdown",
   "metadata": {},
   "source": [
    "<p style=\"font-family: Arial; font-size:3.75em; color:purple; font-style:bold\">\n",
    "<br>FANAL ANALYSIS VISUALIZATION<br></p>"
   ]
  },
  {
   "cell_type": "markdown",
   "metadata": {},
   "source": [
    "This notebook illustrates the analysys phase made in FANALIC starting from the pseudo-reconstructed data performed also in FANALIC and dealing with the topology and the ROI stuff.\n",
    "Following the \"FANAL\" way this is done in different steps:\n",
    "> * Tracks building and filtering\n",
    "> * Blobs  building and filtering\n",
    "> * ROI filtering\n",
    "\n",
    "It provides the contents of the dataframes generated together with some control plots associated."
   ]
  },
  {
   "cell_type": "code",
   "execution_count": null,
   "metadata": {},
   "outputs": [],
   "source": [
    "%matplotlib inline\n",
    "%load_ext memory_profiler\n",
    "%load_ext line_profiler\n",
    "\n",
    "%load_ext autoreload\n",
    "%autoreload 2"
   ]
  },
  {
   "cell_type": "code",
   "execution_count": null,
   "metadata": {},
   "outputs": [],
   "source": [
    "from IPython.core.display import HTML\n",
    "css = open('style-table.css').read() + open('style-notebook.css').read()\n",
    "HTML('<style>{}</style>'.format(css))"
   ]
  },
  {
   "cell_type": "markdown",
   "metadata": {},
   "source": [
    "#### Importing general stuff"
   ]
  },
  {
   "cell_type": "code",
   "execution_count": null,
   "metadata": {},
   "outputs": [],
   "source": [
    "import os\n",
    "import sys\n",
    "import numpy  as np\n",
    "import tables as tb\n",
    "import pandas as pd\n",
    "import matplotlib.pyplot as plt\n",
    "from   matplotlib.colors import LogNorm\n",
    "\n",
    "# Specific IC stuff\n",
    "import invisible_cities.core.system_of_units  as units\n",
    "\n",
    "# Specific fanalIC stuff\n",
    "from fanal.reco.reco_io_functions import get_reco_group_name\n",
    "from fanal.ana.ana_io_functions   import get_ana_group_name\n",
    "\n",
    "from fanal.core.fanal_types  import DetName\n",
    "\n",
    "#from fanal.mc.mc_utilities import print_mc_event\n",
    "#from fanal.mc.mc_utilities import plot_mc_event\n",
    "\n",
    "from fanal.fanal_ana       import fanal_ana"
   ]
  },
  {
   "cell_type": "code",
   "execution_count": null,
   "metadata": {},
   "outputs": [],
   "source": [
    "plt.rcParams[\"figure.figsize\"] = 8, 6\n",
    "plt.rcParams[\"font.size\"     ] = 14"
   ]
  },
  {
   "cell_type": "markdown",
   "metadata": {},
   "source": [
    "# SETUP"
   ]
  },
  {
   "cell_type": "code",
   "execution_count": null,
   "metadata": {},
   "outputs": [],
   "source": [
    "DET_NAME = \"next100\"\n",
    "DET_NAME = getattr(DetName, DET_NAME)\n",
    "\n",
    "ANA_FNAME = \"../data/next100/bb0nu/ana/next100.bb0nu.fwhm_07.voxel_10x10x10.ana.h5\"\n",
    "#ANA_FNAME = \"../data/next100/Bi214/ana/next100.Bi214.fwhm_07.voxel_10x10x10.ana.h5\"\n",
    "#ANA_FNAME = \"../data/next100/Tl208/ana/next100.Tl208.fwhm_07.voxel_10x10x10.ana.h5\"\n",
    "\n",
    "#ANA_FNAME = \"../data/next100/bb0nu/ana/next100.bb0nu.fwhm_05.voxel_3x3x3.ana.h5\"\n",
    "#ANA_FNAME = \"../data/next100/Bi214/ana/next100.Bi214.fwhm_05.voxel_3x3x3.ana.h5\"\n",
    "#ANA_FNAME = \"../data/next100/Tl208/ana/next100.Tl208.fwhm_05.voxel_3x3x3.ana.h5\""
   ]
  },
  {
   "cell_type": "code",
   "execution_count": null,
   "metadata": {},
   "outputs": [],
   "source": [
    "with tb.open_file(ANA_FNAME, mode='r') as ana_file:\n",
    "    ana_group_name  = '/FANAL/' + ana_file.root.FANAL.__members__[0]\n",
    "    reco_group_name = ana_file.get_node_attr(ana_group_name, 'input_reco_group')\n",
    "    event_type      = ana_file.get_node_attr(ana_group_name, 'event_type')\n",
    "    roi_Emin        = ana_file.get_node_attr(ana_group_name, 'roi_Emin')\n",
    "    roi_Emax        = ana_file.get_node_attr(ana_group_name, 'roi_Emax')"
   ]
  },
  {
   "cell_type": "code",
   "execution_count": null,
   "metadata": {},
   "outputs": [],
   "source": []
  },
  {
   "cell_type": "markdown",
   "metadata": {},
   "source": [
    "#### Verbosing the event counters"
   ]
  },
  {
   "cell_type": "code",
   "execution_count": null,
   "metadata": {},
   "outputs": [],
   "source": [
    "with tb.open_file(ANA_FNAME, mode='r') as iFile:\n",
    "    simulated_events     = iFile.get_node_attr(ana_group_name, 'simulated_events')\n",
    "    stored_events        = iFile.get_node_attr(ana_group_name, 'stored_events')\n",
    "    smE_filter_events    = iFile.get_node_attr(ana_group_name, 'smE_filter_events')\n",
    "    fid_filter_events    = iFile.get_node_attr(ana_group_name, 'fid_filter_events')\n",
    "    tracks_filter_events = iFile.get_node_attr(ana_group_name, 'tracks_filter_events')\n",
    "    blobs_filter_events  = iFile.get_node_attr(ana_group_name, 'blobs_filter_events')\n",
    "    roi_filter_events    = iFile.get_node_attr(ana_group_name, 'roi_filter_events')\n",
    "\n",
    "\n",
    "print('* File Name : ', ANA_FNAME)\n",
    "print('* Group Name: ', ana_group_name)\n",
    "print('''* Event counters:\n",
    "  Simulated events:     {:8}\n",
    "  Stored events:        {:8}\n",
    "  smE_filter events:    {:8}\n",
    "  fid_filter events:    {:8}\n",
    "  tracks_filter events: {:8}\n",
    "  blobs_filter events:  {:8}\n",
    "  roi_filter events:    {:8}'''\n",
    "      .format(simulated_events, stored_events, smE_filter_events,\n",
    "              fid_filter_events, tracks_filter_events,\n",
    "              blobs_filter_events, roi_filter_events))\n"
   ]
  },
  {
   "cell_type": "markdown",
   "metadata": {},
   "source": [
    "#### Verbosing the dataframes"
   ]
  },
  {
   "cell_type": "code",
   "execution_count": null,
   "metadata": {},
   "outputs": [],
   "source": [
    "events_df = pd.read_hdf(ANA_FNAME, ana_group_name + '/events')\n",
    "voxels_df = pd.read_hdf(ANA_FNAME, ana_group_name + '/voxels')"
   ]
  },
  {
   "cell_type": "code",
   "execution_count": null,
   "metadata": {},
   "outputs": [],
   "source": [
    "events_df.head()"
   ]
  },
  {
   "cell_type": "code",
   "execution_count": null,
   "metadata": {},
   "outputs": [],
   "source": [
    "voxels_df.head(10)"
   ]
  },
  {
   "cell_type": "code",
   "execution_count": null,
   "metadata": {},
   "outputs": [],
   "source": [
    "events_df_smE_True    = events_df[events_df.smE_filter]\n",
    "events_df_fid_True    = events_df[events_df.fid_filter]\n",
    "events_df_tracks_True = events_df[events_df.tracks_filter]\n",
    "events_df_blobs_True  = events_df[events_df.blobs_filter]\n",
    "events_df_roi_True    = events_df[events_df.roi_filter]"
   ]
  },
  {
   "cell_type": "code",
   "execution_count": null,
   "metadata": {},
   "outputs": [],
   "source": [
    "columns_toShow = ['smE', 'num_tracks', 'track0_E', 'track0_voxels', 'track0_length',\n",
    "                  'tracks_filter', 'blob1_E', 'blob2_E', 'blobs_filter', 'roi_filter']\n",
    "#events_df_fid_True[columns_toShow].head()\n",
    "events_df_tracks_True[columns_toShow].head()\n",
    "#events_df_blobs_True[columns_toShow].head()\n",
    "#events_df_roi_True[columns_toShow].head()"
   ]
  },
  {
   "cell_type": "markdown",
   "metadata": {},
   "source": [
    "#### Place for my quick & dirty checks"
   ]
  },
  {
   "cell_type": "code",
   "execution_count": null,
   "metadata": {},
   "outputs": [],
   "source": [
    "#events_df_tracks_True.columns\n",
    "columns_toShow = ['num_MChits', 'smE', 'smE_filter', 'num_voxels', 'voxel_sizeX', 'voxel_sizeY',\n",
    "                  'voxel_sizeZ', 'voxels_minZ', 'voxels_maxZ', 'voxels_maxRad',\n",
    "                  'veto_energy', 'fid_filter', 'num_tracks', 'blob1_E', 'blob2_E']\n",
    "columns_toShow = ['smE', 'num_tracks', 'track0_E', 'track0_voxels', 'track0_length',\n",
    "                  'tracks_filter', 'blob1_E', 'blob2_E', 'blobs_filter', 'roi_filter']\n",
    "len(events_df_tracks_True[(events_df_tracks_True.track0_length < 30) \n",
    "                          | (events_df_tracks_True.track0_voxels <= 3)\n",
    "                        ])\n",
    "#events_df_tracks_True[(events_df_tracks_True.track0_length < 30) & events_df.roi_filter][columns_toShow]\n",
    "#events_df_tracks_True[columns_toShow].describe().T\n",
    "#events_df_tracks_True[\"track0_length\"].hist(range=[0,100], bins=50)"
   ]
  },
  {
   "cell_type": "markdown",
   "metadata": {},
   "source": [
    "#### Generating some histograms ..."
   ]
  },
  {
   "cell_type": "code",
   "execution_count": null,
   "metadata": {},
   "outputs": [],
   "source": [
    "fig = plt.figure(figsize = (8,4))\n",
    "\n",
    "counters_toPlot = {'smE_filter Events'   : smE_filter_events,\n",
    "                   'fid_filter Events'   : fid_filter_events,\n",
    "                   'tracks_filter Events': tracks_filter_events,\n",
    "                   'blobs_filter Events' : blobs_filter_events,\n",
    "                   'roi_filter Events'   : roi_filter_events}\n",
    "\n",
    "plt.bar(range(len(counters_toPlot)), list(counters_toPlot.values()), align='center',\n",
    "        color=['b', 'r', 'c', 'y', 'm'], yerr=np.sqrt([smE_filter_events, fid_filter_events,\n",
    "                                                       tracks_filter_events, blobs_filter_events,\n",
    "                                                       roi_filter_events]))\n",
    "plt.xticks(range(len(counters_toPlot)), list(counters_toPlot.keys()), rotation='30')\n",
    "plt.show()"
   ]
  },
  {
   "cell_type": "markdown",
   "metadata": {},
   "source": [
    "Plotting number of tracks"
   ]
  },
  {
   "cell_type": "code",
   "execution_count": null,
   "metadata": {},
   "outputs": [],
   "source": [
    "fig = plt.figure(figsize = (8,5))\n",
    "num_bins = 10\n",
    "\n",
    "plt.hist(events_df_fid_True.num_tracks, num_bins, [0, 10])\n",
    "plt.xlabel('Num Tracks', size=12)\n",
    "plt.ylabel('Num. events', size=12)\n",
    "plt.title(f'{event_type} - Number of reconstructed tracks')"
   ]
  },
  {
   "cell_type": "markdown",
   "metadata": {},
   "source": [
    "Plotting energies, number of voxels and lengths of the three hottest tracks"
   ]
  },
  {
   "cell_type": "code",
   "execution_count": null,
   "metadata": {},
   "outputs": [],
   "source": [
    "fig = plt.figure(figsize = (18, 18))\n",
    "num_E_bins = 20\n",
    "num_voxels_bins = 20\n",
    "num_length_bins = 20\n",
    "\n",
    "# First track plots\n",
    "plotting_events = events_df_fid_True[events_df_fid_True.num_tracks >= 1]\n",
    "ax1 = fig.add_subplot(3, 3, 1)\n",
    "plt.hist(plotting_events.track0_E, num_E_bins, [0., 2.5])\n",
    "plt.title('Track 0 Energy [MeV]', size=12)\n",
    "\n",
    "ax2 = fig.add_subplot(3, 3, 4)\n",
    "plt.hist(plotting_events.track0_voxels, num_voxels_bins, [0, 100])\n",
    "plt.title('Track 0 - Num Voxels', size=12)\n",
    "\n",
    "ax3 = fig.add_subplot(3, 3, 7)\n",
    "plt.hist(plotting_events.track0_length, num_length_bins, [0, 200])\n",
    "plt.title('Track 0 - Length', size=12)\n",
    "\n",
    "# Second track plots\n",
    "plotting_events = events_df_fid_True[events_df_fid_True.num_tracks >= 2]\n",
    "ax4 = fig.add_subplot(3, 3, 2)\n",
    "plt.hist(plotting_events.track1_E, num_E_bins, [0., 1.0])\n",
    "plt.title('Track 1 Energy [MeV]', size=12)\n",
    "\n",
    "ax5 = fig.add_subplot(3, 3, 5)\n",
    "plt.hist(plotting_events.track1_voxels, num_voxels_bins, [0, 20])\n",
    "plt.title('Track 1 - Num Voxels', size=12)\n",
    "\n",
    "ax6 = fig.add_subplot(3, 3, 8)\n",
    "plt.hist(plotting_events.track1_length, num_length_bins, [0, 100])\n",
    "plt.title('Track 1 - Length', size=12)\n",
    "\n",
    "# Third track plots\n",
    "plotting_events = events_df_fid_True[events_df_fid_True.num_tracks >= 3]\n",
    "ax7 = fig.add_subplot(3, 3, 3)\n",
    "plt.hist(plotting_events.track2_E, num_E_bins, [0., 1.0])\n",
    "plt.title('Track 2 Energy [MeV]', size=12)\n",
    "\n",
    "ax8 = fig.add_subplot(3, 3, 6)\n",
    "plt.hist(plotting_events.track2_voxels, num_voxels_bins, [0, 20])\n",
    "plt.title('Track 2 - Num Voxels', size=12)\n",
    "\n",
    "ax9 = fig.add_subplot(3, 3, 9)\n",
    "plt.hist(plotting_events.track2_length, num_length_bins, [0, 50])\n",
    "plt.title('Track 2 - Length', size=12)\n"
   ]
  },
  {
   "cell_type": "markdown",
   "metadata": {},
   "source": [
    "Energy histogram of events passing the tracks filter "
   ]
  },
  {
   "cell_type": "code",
   "execution_count": null,
   "metadata": {},
   "outputs": [],
   "source": [
    "fig = plt.figure(figsize = (15,5))\n",
    "num_bins = 20\n",
    "\n",
    "ax1 = fig.add_subplot(1, 2, 1)\n",
    "plt.hist(events_df_tracks_True.track0_E, num_bins, [2.4, 2.5])\n",
    "plt.xlabel('Track Energy [MeV]', size=14)\n",
    "plt.title(f'{event_type} - Track Energy')\n",
    "\n",
    "ax2 = fig.add_subplot(1, 2, 2)\n",
    "plt.hist(events_df_tracks_True.smE, num_bins, [2.4, 2.5])\n",
    "plt.xlabel('Event Energy [MeV]', size=14)\n",
    "plt.title(f'{event_type} - Event Energy')\n",
    "\n",
    "# As expected, both histograms are the same\n"
   ]
  },
  {
   "cell_type": "markdown",
   "metadata": {},
   "source": [
    "Histograms of blob energies ..."
   ]
  },
  {
   "cell_type": "code",
   "execution_count": null,
   "metadata": {},
   "outputs": [],
   "source": [
    "fig = plt.figure(figsize = (15,5))\n",
    "num_bins = 30\n",
    "\n",
    "ax1 = fig.add_subplot(1, 2, 1)\n",
    "plt.hist(events_df_tracks_True.blob1_E, num_bins, [0, 1.5])\n",
    "plt.xlabel('Blob1 Energy [MeV]')\n",
    "plt.title(f'{event_type} - Blob1 Energy [MeV]', size=14)\n",
    "\n",
    "ax2 = fig.add_subplot(1, 2, 2)\n",
    "plt.hist(events_df_tracks_True.blob2_E, num_bins, [0, 1.5])\n",
    "plt.xlabel('Blob2 Energy [MeV]')\n",
    "plt.title(f'{event_type} - Blob2 Energy [MeV]', size=14)\n",
    "\n",
    "fig = plt.figure(figsize = (7,6))\n",
    "plt.hist2d(events_df_tracks_True.blob1_E, events_df_tracks_True.blob2_E, num_bins,\n",
    "           [[0, 1.5], [0, 1.5]], norm=LogNorm())\n",
    "plt.xlabel('Highest Blob Energy [MeV]')\n",
    "plt.ylabel('Lowest Blob Energy [MeV]')\n",
    "plt.title(f'{event_type} - Blobs Energies [MeV]', size=14)\n"
   ]
  },
  {
   "cell_type": "markdown",
   "metadata": {},
   "source": [
    "ROI energy ..."
   ]
  },
  {
   "cell_type": "code",
   "execution_count": null,
   "metadata": {},
   "outputs": [],
   "source": [
    "fig = plt.figure(figsize = (7,6))\n",
    "num_bins = int((roi_Emax - roi_Emin) / units.keV)\n",
    "\n",
    "plt.hist(events_df_roi_True.smE, num_bins, [roi_Emin, roi_Emax])\n",
    "plt.xlabel('Event Energy [MeV]')\n",
    "plt.title((f'{event_type} - Event Energy'), size=14)"
   ]
  },
  {
   "cell_type": "code",
   "execution_count": null,
   "metadata": {},
   "outputs": [],
   "source": [
    "#voxels_df[voxels_df.negli].head()"
   ]
  },
  {
   "cell_type": "code",
   "execution_count": null,
   "metadata": {},
   "outputs": [],
   "source": [
    "#columns_toShow = ['E', 'newE', 'track_id']\n",
    "#voxels_df.loc[events_df_fid_True.index, columns_toShow]"
   ]
  },
  {
   "cell_type": "code",
   "execution_count": null,
   "metadata": {},
   "outputs": [],
   "source": [
    "events_df_tracks_True[events_df_tracks_True.blob2_E < 0.05]"
   ]
  },
  {
   "cell_type": "markdown",
   "metadata": {},
   "source": [
    "Printing and plotting the MC info of an event ..."
   ]
  },
  {
   "cell_type": "code",
   "execution_count": null,
   "metadata": {},
   "outputs": [],
   "source": [
    "#event_to_print = 1311\n",
    "\n",
    "#sim_files = []\n",
    "#with tb.open_file(ANA_FILE_NAME, mode='r') as iFile:\n",
    "#    reco_file_names = iFile.get_node_attr(ANA_GROUP_NAME, 'input_reco_files')\n",
    "    \n",
    "#    for reco_file_name in reco_file_names:\n",
    "#        with tb.open_file(reco_file_name, mode='r') as iRecoFile:\n",
    "#            sim_files += iRecoFile.get_node_attr(RECO_GROUP_NAME, 'input_sim_files')\n",
    "            \n",
    "#print_mc_event(event_to_print, sim_files, with_hits=True)"
   ]
  },
  {
   "cell_type": "code",
   "execution_count": null,
   "metadata": {},
   "outputs": [],
   "source": [
    "#event_to_plot = 1311\n",
    "#plot_mc_event(event_to_plot, sim_files)"
   ]
  },
  {
   "cell_type": "code",
   "execution_count": null,
   "metadata": {},
   "outputs": [],
   "source": [
    "#voxels_df.loc[1311]"
   ]
  },
  {
   "cell_type": "code",
   "execution_count": null,
   "metadata": {},
   "outputs": [],
   "source": []
  },
  {
   "cell_type": "code",
   "execution_count": null,
   "metadata": {},
   "outputs": [],
   "source": []
  }
 ],
 "metadata": {
  "kernelspec": {
   "display_name": "Python 3",
   "language": "python",
   "name": "python3"
  },
  "language_info": {
   "codemirror_mode": {
    "name": "ipython",
    "version": 3
   },
   "file_extension": ".py",
   "mimetype": "text/x-python",
   "name": "python",
   "nbconvert_exporter": "python",
   "pygments_lexer": "ipython3",
   "version": "3.7.9"
  }
 },
 "nbformat": 4,
 "nbformat_minor": 2
}
