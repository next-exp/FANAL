{
 "cells": [
  {
   "cell_type": "markdown",
   "metadata": {},
   "source": [
    "<p style=\"font-family: Arial; font-size:3.0em; color:purple; font-style:bold\">\n",
    "<br>SHOWING FANAL BB-ANALYSIS RESULTS<br></p>"
   ]
  },
  {
   "cell_type": "markdown",
   "metadata": {},
   "source": [
    "This notebook illustrates the results got from FANAL 'bb' analysis.\n",
    "\n",
    "It provides contents of generated DataFrames with some associated plots."
   ]
  },
  {
   "cell_type": "markdown",
   "metadata": {},
   "source": [
    "#### Setting general stuff"
   ]
  },
  {
   "cell_type": "code",
   "execution_count": 1,
   "metadata": {},
   "outputs": [
    {
     "data": {
      "text/html": [
       "<style>body {\n",
       "    margin: 0;\n",
       "    font-family: Helvetica;\n",
       "}\n",
       "table.dataframe {\n",
       "    border-collapse: collapse;\n",
       "    border: none;\n",
       "}\n",
       "table.dataframe tr {\n",
       "    border: none;\n",
       "}\n",
       "table.dataframe td, table.dataframe th {\n",
       "    margin: 0;\n",
       "    border: 1px solid white;\n",
       "    padding-left: 0.25em;\n",
       "    padding-right: 0.25em;\n",
       "}\n",
       "table.dataframe th:not(:empty) {\n",
       "    background-color: #fec;\n",
       "    text-align: left;\n",
       "    font-weight: normal;\n",
       "}\n",
       "table.dataframe tr:nth-child(2) th:empty {\n",
       "    border-left: none;\n",
       "    border-right: 1px dashed #888;\n",
       "}\n",
       "table.dataframe td {\n",
       "    border: 2px solid #ccf;\n",
       "    background-color: #f4f4ff;\n",
       "}\n",
       "h3 {\n",
       "    color: white;\n",
       "    background-color: black;\n",
       "    padding: 0.5em;\n",
       "}\n",
       "</style>"
      ],
      "text/plain": [
       "<IPython.core.display.HTML object>"
      ]
     },
     "execution_count": 1,
     "metadata": {},
     "output_type": "execute_result"
    }
   ],
   "source": [
    "from IPython.core.display import HTML\n",
    "css = open('css/style-table.css').read() + open('css/style-notebook.css').read()\n",
    "HTML('<style>{}</style>'.format(css))"
   ]
  },
  {
   "cell_type": "code",
   "execution_count": 2,
   "metadata": {},
   "outputs": [],
   "source": [
    "%load_ext autoreload\n",
    "%autoreload 2"
   ]
  },
  {
   "cell_type": "code",
   "execution_count": 3,
   "metadata": {},
   "outputs": [],
   "source": [
    "%matplotlib inline"
   ]
  },
  {
   "cell_type": "markdown",
   "metadata": {},
   "source": [
    "#### Importings"
   ]
  },
  {
   "cell_type": "code",
   "execution_count": 4,
   "metadata": {},
   "outputs": [],
   "source": [
    "import os\n",
    "import sys\n",
    "import numpy  as np\n",
    "import tables as tb\n",
    "import pandas as pd\n",
    "import matplotlib.pyplot as plt\n",
    "from   matplotlib.colors import LogNorm\n",
    "\n",
    "#%matplotlib widget"
   ]
  },
  {
   "cell_type": "code",
   "execution_count": 5,
   "metadata": {},
   "outputs": [],
   "source": [
    "# Specific IC stuff\n",
    "\n",
    "import invisible_cities.core.system_of_units  as units"
   ]
  },
  {
   "cell_type": "code",
   "execution_count": 6,
   "metadata": {},
   "outputs": [],
   "source": [
    "# Specific FANAL stuff\n",
    "\n",
    "from fanal.containers.events import EventCounter"
   ]
  },
  {
   "cell_type": "code",
   "execution_count": 7,
   "metadata": {},
   "outputs": [],
   "source": [
    "plt.rcParams[\"figure.figsize\"] = 8, 6\n",
    "plt.rcParams[\"font.size\"     ] = 13"
   ]
  },
  {
   "cell_type": "markdown",
   "metadata": {},
   "source": [
    "# LOADING DATA"
   ]
  },
  {
   "cell_type": "code",
   "execution_count": 8,
   "metadata": {},
   "outputs": [],
   "source": [
    "#results_fname = '/Users/Javi/Development/FANAL/fanal/fanal.tst.h5'\n",
    "\n",
    "iPATH         = \"../data/next100\"\n",
    "#results_fname = iPATH + \"/Bi214/fanal/fanal.next100.Bi214.fwhm_05.voxel_3x3x3.h5\"\n",
    "#results_fname = iPATH + \"/Bi214/fanal/fanal.next100.Bi214.fwhm_07.voxel_10x10x10.h5\"\n",
    "#results_fname = iPATH + \"/Tl208/fanal/fanal.next100.Tl208.fwhm_05.voxel_3x3x3.h5\"\n",
    "#results_fname = iPATH + \"/Tl208/fanal/fanal.next100.Tl208.fwhm_07.voxel_10x10x10.h5\"\n",
    "#results_fname = iPATH + \"/bb0nu/fanal/fanal.next100.bb0nu.fwhm_05.voxel_3x3x3.h5\"\n",
    "results_fname = iPATH + \"/bb0nu/fanal/fanal.next100.bb0nu.fwhm_07.voxel_10x10x10.h5\""
   ]
  },
  {
   "cell_type": "code",
   "execution_count": 9,
   "metadata": {},
   "outputs": [
    {
     "ename": "KeyError",
     "evalue": "'No object named FANAL/events in the file'",
     "output_type": "error",
     "traceback": [
      "\u001b[0;31m---------------------------------------------------------------------------\u001b[0m",
      "\u001b[0;31mKeyError\u001b[0m                                  Traceback (most recent call last)",
      "\u001b[0;32m<ipython-input-9-f928f00a5102>\u001b[0m in \u001b[0;36m<module>\u001b[0;34m\u001b[0m\n\u001b[1;32m      1\u001b[0m \u001b[0mconfig_df\u001b[0m  \u001b[0;34m=\u001b[0m \u001b[0mpd\u001b[0m\u001b[0;34m.\u001b[0m\u001b[0mread_hdf\u001b[0m\u001b[0;34m(\u001b[0m\u001b[0mresults_fname\u001b[0m\u001b[0;34m,\u001b[0m \u001b[0;34m\"FANAL\"\u001b[0m \u001b[0;34m+\u001b[0m \u001b[0;34m'/config'\u001b[0m\u001b[0;34m)\u001b[0m\u001b[0;34m\u001b[0m\u001b[0;34m\u001b[0m\u001b[0m\n\u001b[0;32m----> 2\u001b[0;31m \u001b[0mevents_df\u001b[0m  \u001b[0;34m=\u001b[0m \u001b[0mpd\u001b[0m\u001b[0;34m.\u001b[0m\u001b[0mread_hdf\u001b[0m\u001b[0;34m(\u001b[0m\u001b[0mresults_fname\u001b[0m\u001b[0;34m,\u001b[0m \u001b[0;34m\"FANAL\"\u001b[0m \u001b[0;34m+\u001b[0m \u001b[0;34m'/events'\u001b[0m\u001b[0;34m)\u001b[0m\u001b[0;34m\u001b[0m\u001b[0;34m\u001b[0m\u001b[0m\n\u001b[0m\u001b[1;32m      3\u001b[0m \u001b[0mtracks_df\u001b[0m  \u001b[0;34m=\u001b[0m \u001b[0mpd\u001b[0m\u001b[0;34m.\u001b[0m\u001b[0mread_hdf\u001b[0m\u001b[0;34m(\u001b[0m\u001b[0mresults_fname\u001b[0m\u001b[0;34m,\u001b[0m \u001b[0;34m\"FANAL\"\u001b[0m \u001b[0;34m+\u001b[0m \u001b[0;34m'/tracks'\u001b[0m\u001b[0;34m)\u001b[0m\u001b[0;34m\u001b[0m\u001b[0;34m\u001b[0m\u001b[0m\n\u001b[1;32m      4\u001b[0m \u001b[0mvoxels_df\u001b[0m  \u001b[0;34m=\u001b[0m \u001b[0mpd\u001b[0m\u001b[0;34m.\u001b[0m\u001b[0mread_hdf\u001b[0m\u001b[0;34m(\u001b[0m\u001b[0mresults_fname\u001b[0m\u001b[0;34m,\u001b[0m \u001b[0;34m\"FANAL\"\u001b[0m \u001b[0;34m+\u001b[0m \u001b[0;34m'/voxels'\u001b[0m\u001b[0;34m)\u001b[0m\u001b[0;34m\u001b[0m\u001b[0;34m\u001b[0m\u001b[0m\n\u001b[1;32m      5\u001b[0m \u001b[0mresults_df\u001b[0m \u001b[0;34m=\u001b[0m \u001b[0mpd\u001b[0m\u001b[0;34m.\u001b[0m\u001b[0mread_hdf\u001b[0m\u001b[0;34m(\u001b[0m\u001b[0mresults_fname\u001b[0m\u001b[0;34m,\u001b[0m \u001b[0;34m\"FANAL\"\u001b[0m \u001b[0;34m+\u001b[0m \u001b[0;34m'/results'\u001b[0m\u001b[0;34m)\u001b[0m\u001b[0;34m\u001b[0m\u001b[0;34m\u001b[0m\u001b[0m\n",
      "\u001b[0;32m~/Development/ExtSoftware/miniconda3/envs/IC-3.7-2020-06-16/lib/python3.7/site-packages/pandas/io/pytables.py\u001b[0m in \u001b[0;36mread_hdf\u001b[0;34m(path_or_buf, key, mode, errors, where, start, stop, columns, iterator, chunksize, **kwargs)\u001b[0m\n\u001b[1;32m    426\u001b[0m             \u001b[0miterator\u001b[0m\u001b[0;34m=\u001b[0m\u001b[0miterator\u001b[0m\u001b[0;34m,\u001b[0m\u001b[0;34m\u001b[0m\u001b[0;34m\u001b[0m\u001b[0m\n\u001b[1;32m    427\u001b[0m             \u001b[0mchunksize\u001b[0m\u001b[0;34m=\u001b[0m\u001b[0mchunksize\u001b[0m\u001b[0;34m,\u001b[0m\u001b[0;34m\u001b[0m\u001b[0;34m\u001b[0m\u001b[0m\n\u001b[0;32m--> 428\u001b[0;31m             \u001b[0mauto_close\u001b[0m\u001b[0;34m=\u001b[0m\u001b[0mauto_close\u001b[0m\u001b[0;34m,\u001b[0m\u001b[0;34m\u001b[0m\u001b[0;34m\u001b[0m\u001b[0m\n\u001b[0m\u001b[1;32m    429\u001b[0m         )\n\u001b[1;32m    430\u001b[0m     \u001b[0;32mexcept\u001b[0m \u001b[0;34m(\u001b[0m\u001b[0mValueError\u001b[0m\u001b[0;34m,\u001b[0m \u001b[0mTypeError\u001b[0m\u001b[0;34m,\u001b[0m \u001b[0mKeyError\u001b[0m\u001b[0;34m)\u001b[0m\u001b[0;34m:\u001b[0m\u001b[0;34m\u001b[0m\u001b[0;34m\u001b[0m\u001b[0m\n",
      "\u001b[0;32m~/Development/ExtSoftware/miniconda3/envs/IC-3.7-2020-06-16/lib/python3.7/site-packages/pandas/io/pytables.py\u001b[0m in \u001b[0;36mselect\u001b[0;34m(self, key, where, start, stop, columns, iterator, chunksize, auto_close)\u001b[0m\n\u001b[1;32m    787\u001b[0m         \u001b[0mgroup\u001b[0m \u001b[0;34m=\u001b[0m \u001b[0mself\u001b[0m\u001b[0;34m.\u001b[0m\u001b[0mget_node\u001b[0m\u001b[0;34m(\u001b[0m\u001b[0mkey\u001b[0m\u001b[0;34m)\u001b[0m\u001b[0;34m\u001b[0m\u001b[0;34m\u001b[0m\u001b[0m\n\u001b[1;32m    788\u001b[0m         \u001b[0;32mif\u001b[0m \u001b[0mgroup\u001b[0m \u001b[0;32mis\u001b[0m \u001b[0;32mNone\u001b[0m\u001b[0;34m:\u001b[0m\u001b[0;34m\u001b[0m\u001b[0;34m\u001b[0m\u001b[0m\n\u001b[0;32m--> 789\u001b[0;31m             \u001b[0;32mraise\u001b[0m \u001b[0mKeyError\u001b[0m\u001b[0;34m(\u001b[0m\u001b[0;34mf\"No object named {key} in the file\"\u001b[0m\u001b[0;34m)\u001b[0m\u001b[0;34m\u001b[0m\u001b[0;34m\u001b[0m\u001b[0m\n\u001b[0m\u001b[1;32m    790\u001b[0m \u001b[0;34m\u001b[0m\u001b[0m\n\u001b[1;32m    791\u001b[0m         \u001b[0;31m# create the storer and axes\u001b[0m\u001b[0;34m\u001b[0m\u001b[0;34m\u001b[0m\u001b[0;34m\u001b[0m\u001b[0m\n",
      "\u001b[0;31mKeyError\u001b[0m: 'No object named FANAL/events in the file'"
     ]
    }
   ],
   "source": [
    "config_df  = pd.read_hdf(results_fname, \"FANAL\" + '/config')\n",
    "events_df  = pd.read_hdf(results_fname, \"FANAL\" + '/events')\n",
    "tracks_df  = pd.read_hdf(results_fname, \"FANAL\" + '/tracks')\n",
    "voxels_df  = pd.read_hdf(results_fname, \"FANAL\" + '/voxels')\n",
    "results_df = pd.read_hdf(results_fname, \"FANAL\" + '/results')"
   ]
  },
  {
   "cell_type": "code",
   "execution_count": null,
   "metadata": {},
   "outputs": [],
   "source": [
    "print(\"Configuration run ...\")\n",
    "config_df"
   ]
  },
  {
   "cell_type": "markdown",
   "metadata": {},
   "source": [
    "# EVENT counters"
   ]
  },
  {
   "cell_type": "code",
   "execution_count": null,
   "metadata": {},
   "outputs": [],
   "source": [
    "results_df"
   ]
  },
  {
   "cell_type": "code",
   "execution_count": null,
   "metadata": {},
   "outputs": [],
   "source": [
    "print(EventCounter(**results_df.events))"
   ]
  },
  {
   "cell_type": "code",
   "execution_count": null,
   "metadata": {},
   "outputs": [],
   "source": [
    "# Accessing a single value\n",
    "print(f\"Num events that passed the ROI filter: {results_df.loc['roi_filter'].events}\")"
   ]
  },
  {
   "cell_type": "code",
   "execution_count": null,
   "metadata": {},
   "outputs": [],
   "source": [
    "results_df.plot.bar(title = 'ANALYSIS RESULTS', rot=45, log=True)"
   ]
  },
  {
   "cell_type": "code",
   "execution_count": null,
   "metadata": {},
   "outputs": [],
   "source": []
  },
  {
   "cell_type": "markdown",
   "metadata": {},
   "source": [
    "# DataFrames"
   ]
  },
  {
   "cell_type": "code",
   "execution_count": null,
   "metadata": {},
   "outputs": [],
   "source": [
    "evt_cols_to_show = ['mc_energy', 'mc_filter', 'sm_energy', 'energy_filter', 'num_voxels', 'fiduc_filter',\n",
    "                    'num_tracks', 'track_length', 'track_filter', 'blob1_energy', 'blob2_energy',\n",
    "                    'blob_filter', 'roi_filter']"
   ]
  },
  {
   "cell_type": "code",
   "execution_count": null,
   "metadata": {},
   "outputs": [],
   "source": [
    "# Showing the desired columns from first events\n",
    "events_df[evt_cols_to_show].head()"
   ]
  },
  {
   "cell_type": "code",
   "execution_count": null,
   "metadata": {},
   "outputs": [],
   "source": [
    "# Showing just the events that passed the TRACK filter\n",
    "events_df[events_df.track_filter][evt_cols_to_show]"
   ]
  },
  {
   "cell_type": "code",
   "execution_count": null,
   "metadata": {},
   "outputs": [],
   "source": [
    "# Showing first tracks\n",
    "tracks_df.head()"
   ]
  },
  {
   "cell_type": "code",
   "execution_count": null,
   "metadata": {},
   "outputs": [],
   "source": [
    "# Showing first voxels\n",
    "voxels_df.head()"
   ]
  },
  {
   "cell_type": "code",
   "execution_count": null,
   "metadata": {},
   "outputs": [],
   "source": []
  },
  {
   "cell_type": "markdown",
   "metadata": {},
   "source": [
    "# Some graphics"
   ]
  },
  {
   "cell_type": "code",
   "execution_count": null,
   "metadata": {},
   "outputs": [],
   "source": [
    "max_num_trks = 10\n",
    "plt.hist(events_df.num_tracks, max_num_trks, [0, max_num_trks])\n",
    "plt.xlabel('Num Tracks')\n",
    "plt.ylabel('Num. events')\n",
    "plt.title('Number of reconstructed tracks')"
   ]
  },
  {
   "cell_type": "code",
   "execution_count": null,
   "metadata": {},
   "outputs": [],
   "source": [
    "# Plotting energy, length and number of voxels of single track events\n",
    "evts_to_show = events_df[events_df.num_tracks == 1]\n",
    "\n",
    "fig = plt.figure(figsize = (18, 5))\n",
    "E_bins, E_range           = 20, [2.42, 2.50]\n",
    "voxels_bins, voxels_range = 20, [0, 50]\n",
    "length_bins, length_range = 20, [0, 200]\n",
    "\n",
    "# First track plots\n",
    "ax1 = fig.add_subplot(1, 3, 1)\n",
    "plt.hist(evts_to_show.sm_energy, E_bins, E_range)\n",
    "plt.title('Track Energy [MeV]')\n",
    "\n",
    "ax2 = fig.add_subplot(1, 3, 2)\n",
    "plt.hist(evts_to_show.num_voxels, voxels_bins, voxels_range)\n",
    "plt.title('Track - Num Voxels')\n",
    "\n",
    "ax3 = fig.add_subplot(1, 3, 3)\n",
    "plt.hist(evts_to_show.track_length, length_bins, length_range)\n",
    "plt.title('Track - Length')"
   ]
  },
  {
   "cell_type": "code",
   "execution_count": null,
   "metadata": {},
   "outputs": [],
   "source": [
    "from fanal.utils.types import XYZ\n",
    "\n",
    "# Plotting distance between True extrema and Blob positions\n",
    "# of events passing the track_filter\n",
    "evts_to_show = events_df[events_df.track_filter]\n",
    "trks_to_show = tracks_df.loc[evts_to_show.index]\n",
    "\n",
    "# Getting distances\n",
    "distances_1 = XYZ(trks_to_show.t_ext1_x, trks_to_show.t_ext1_y, trks_to_show.t_ext1_z). \\\n",
    "              distance(XYZ(trks_to_show.blob1_x, trks_to_show.blob1_y, trks_to_show.blob1_z))\n",
    "\n",
    "distances_2 = XYZ(trks_to_show.t_ext2_x, trks_to_show.t_ext2_y, trks_to_show.t_ext2_z). \\\n",
    "              distance(XYZ(trks_to_show.blob2_x, trks_to_show.blob2_y, trks_to_show.blob2_z))\n",
    "\n",
    "distances   = pd.concat([distances_1, distances_2])\n",
    "\n",
    "# PLOTTING\n",
    "fig = plt.figure(figsize  = (18, 5))\n",
    "dist_bins, dist_range     = 20, [0., 50.]\n",
    "\n",
    "# First distance\n",
    "ax1 = fig.add_subplot(1, 3, 1)\n",
    "plt.hist(distances_1, dist_bins, dist_range)\n",
    "plt.title('tExtreme-Blob 1 distance [mm]')\n",
    "\n",
    "# Second distance\n",
    "ax2 = fig.add_subplot(1, 3, 2)\n",
    "plt.hist(distances_2, dist_bins, dist_range)\n",
    "plt.title('tExtreme-Blob 2 distance [mm]')\n",
    "\n",
    "# All distances\n",
    "ax3 = fig.add_subplot(1, 3, 3)\n",
    "plt.hist(distances, dist_bins, dist_range)\n",
    "plt.title('tExtreme-Blob All distance [mm]')\n"
   ]
  },
  {
   "cell_type": "code",
   "execution_count": null,
   "metadata": {},
   "outputs": [],
   "source": [
    "# Plotting blob energies of events passing the track_filter\n",
    "evts_to_show = events_df[events_df.track_filter]\n",
    "trks_to_show = tracks_df.loc[evts_to_show.index]\n",
    "\n",
    "fig = plt.figure(figsize = (15,12))\n",
    "hit_bins, hit_range = 30, [0., 220]\n",
    "E_bins, E_range     = 30, [0., 1.50]\n",
    "\n",
    "ax1 = fig.add_subplot(2, 2, 1)\n",
    "plt.hist(trks_to_show.blob1_num_hits, hit_bins, hit_range)\n",
    "plt.xlabel('Number of hits')\n",
    "plt.title(f'Blob1 Num hits')\n",
    "\n",
    "ax2 = fig.add_subplot(2, 2, 2)\n",
    "plt.hist(trks_to_show.blob2_num_hits, hit_bins, hit_range)\n",
    "plt.xlabel('Number of hits')\n",
    "plt.title(f'Blob2 Num hits')\n",
    "\n",
    "ax3 = fig.add_subplot(2, 2, 3)\n",
    "plt.hist(evts_to_show.blob1_energy, E_bins, E_range)\n",
    "plt.xlabel('Energy [MeV]')\n",
    "plt.title(f'Blob1 Energy [MeV]')\n",
    "\n",
    "ax4 = fig.add_subplot(2, 2, 4)\n",
    "plt.hist(evts_to_show.blob2_energy, E_bins, E_range)\n",
    "plt.xlabel('Energy [MeV]')\n",
    "plt.title(f'Blob2 Energy [MeV]')\n",
    "\n",
    "fig = plt.figure(figsize = (7,6))\n",
    "plt.hist2d(evts_to_show.blob1_energy, evts_to_show.blob2_energy, E_bins,\n",
    "           [E_range, E_range], norm=LogNorm())\n",
    "plt.xlabel('Highest Blob Energy [MeV]')\n",
    "plt.ylabel('Lowest Blob Energy [MeV]')\n",
    "plt.title(f'Blob Energies [MeV]')"
   ]
  },
  {
   "cell_type": "code",
   "execution_count": null,
   "metadata": {},
   "outputs": [],
   "source": [
    "# Plotting event energy of events passing the ROI filter\n",
    "evts_to_show = events_df[events_df.roi_filter]\n",
    "\n",
    "E_range = [2.445, 2.470]\n",
    "E_bins = int((E_range[1] - E_range[0]) / units.keV)\n",
    "\n",
    "plt.hist(evts_to_show.sm_energy, E_bins, E_range)\n",
    "plt.xlabel('Event Energy [MeV]')\n",
    "plt.title((f'Event Energy'))"
   ]
  },
  {
   "cell_type": "code",
   "execution_count": null,
   "metadata": {},
   "outputs": [],
   "source": []
  },
  {
   "cell_type": "markdown",
   "metadata": {},
   "source": [
    "# Printing and Plotting"
   ]
  },
  {
   "cell_type": "markdown",
   "metadata": {},
   "source": [
    "#### Show functions"
   ]
  },
  {
   "cell_type": "code",
   "execution_count": null,
   "metadata": {},
   "outputs": [],
   "source": [
    "from fanal.utils.mc_utils    import print_mc_event\n",
    "from fanal.utils.rec_utils   import print_rec_event\n",
    "from fanal.utils.plot_utils  import plot_mc_event\n",
    "from fanal.utils.plot_utils  import plot_rec_event"
   ]
  },
  {
   "cell_type": "code",
   "execution_count": null,
   "metadata": {},
   "outputs": [],
   "source": [
    "def show_event(event_id     : int,\n",
    "               input_fname  : str,\n",
    "               output_fname : str,\n",
    "               event_type   : str,\n",
    "               print_mc     : bool = True,\n",
    "               print_rec    : bool = True,\n",
    "               plot_mc      : bool = True,\n",
    "               plot_rec     : bool = True\n",
    "              ):\n",
    "    print(f\"\\n\\n*** SHOWING EVENT ID: {event_id} ***\\n\")\n",
    "    \n",
    "    if print_mc : print_mc_event (event_id, input_fname, with_hits=False)\n",
    "    if print_rec: print_rec_event(event_id, output_fname)\n",
    "    if plot_mc  : plot_mc_event  (event_id, input_fname, event_type)\n",
    "    if plot_rec : plot_rec_event (event_id, output_fname)"
   ]
  },
  {
   "cell_type": "markdown",
   "metadata": {},
   "source": [
    "#### Selecting event ids to show"
   ]
  },
  {
   "cell_type": "code",
   "execution_count": null,
   "metadata": {},
   "outputs": [],
   "source": [
    "# Single event\n",
    "event_ids = 170\n",
    "\n",
    "# Events that passed the ROI filter\n",
    "#event_ids = events_df[events_df.roi_filter].index.tolist()\n",
    "\n",
    "# Events that passed the energy filter but not the fiducial one\n",
    "#event_ids = events_df[(events_df.energy_filter == True) &\n",
    "#                      (events_df.fiduc_filter == False)].index.tolist()\n",
    "\n",
    "# Events with blob oerlap energy > 0\n",
    "#event_ids = tracks_df[tracks_df.ovlp_energy > 0.].index.get_level_values('event_id').tolist()\n",
    "\n",
    "print(\"Event Ids to show:\", event_ids)"
   ]
  },
  {
   "cell_type": "markdown",
   "metadata": {},
   "source": [
    "#### Filenames & Event type"
   ]
  },
  {
   "cell_type": "code",
   "execution_count": null,
   "metadata": {},
   "outputs": [],
   "source": [
    "input_fname  = config_df.loc['input_fname'].value\n",
    "output_fname = config_df.loc['output_fname'].value\n",
    "\n",
    "print(f\"Input  file name: {input_fname}\")\n",
    "print(f\"Output file name: {output_fname}\")\n",
    "\n",
    "event_type = config_df.loc['event_type'].value\n",
    "print(f\"Event type: {event_type}\")"
   ]
  },
  {
   "cell_type": "markdown",
   "metadata": {},
   "source": [
    "#### Showing events"
   ]
  },
  {
   "cell_type": "code",
   "execution_count": null,
   "metadata": {
    "scrolled": false
   },
   "outputs": [],
   "source": [
    "event_ids = [event_ids] if isinstance(event_ids, int) else event_ids\n",
    "for event_id in event_ids:\n",
    "    show_event(event_id,\n",
    "               input_fname  = input_fname,\n",
    "               output_fname = output_fname,\n",
    "               event_type   = event_type,\n",
    "               print_mc     = False,\n",
    "               print_rec    = True,\n",
    "               plot_mc      = False,\n",
    "               plot_rec     = False)"
   ]
  },
  {
   "cell_type": "code",
   "execution_count": null,
   "metadata": {},
   "outputs": [],
   "source": []
  },
  {
   "cell_type": "code",
   "execution_count": null,
   "metadata": {},
   "outputs": [],
   "source": []
  }
 ],
 "metadata": {
  "kernelspec": {
   "display_name": "Python 3",
   "language": "python",
   "name": "python3"
  },
  "language_info": {
   "codemirror_mode": {
    "name": "ipython",
    "version": 3
   },
   "file_extension": ".py",
   "mimetype": "text/x-python",
   "name": "python",
   "nbconvert_exporter": "python",
   "pygments_lexer": "ipython3",
   "version": "3.7.9"
  }
 },
 "nbformat": 4,
 "nbformat_minor": 2
}
