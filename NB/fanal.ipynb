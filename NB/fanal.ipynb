{
 "cells": [
  {
   "cell_type": "markdown",
   "metadata": {},
   "source": [
    "<p style=\"font-family: Arial; font-size:3.75em;color:purple; font-style:bold\">\n",
    "<br>RUNNING FANAL ANALYSIS</p><br>"
   ]
  },
  {
   "cell_type": "markdown",
   "metadata": {},
   "source": [
    "This notebook illustrates how to run the FANAL analysys departing from NEXUS files.\n",
    "\n",
    "The result of the FANAL analysis will be the probability of the simulated events to be interpreted as a signal event so, although we typycally refer to it as \"*rejection factor*\", strictly speaking it is an \"*acceptance factor*\". It also provides in a Pandas DataFrame format all the information related to \"events\", \"tracks\" and \"vovels\" generated during the analysis.\n",
    "\n",
    "The process to run the analysis consists in creating a FanalSetup instance with its details (detector, input nexus files, output fils, analysis parameters ...), and the action of running the analysis. This NB illustrates 2 different ways to build the setup and run the analysis:\n",
    "1. Loading the Setup config parameters from a config file (json formatted).\n",
    "2. Building the Setup by providing by hand all the parameters needed.\n",
    "\n",
    "`FANAL analysis` process is run in a per-event basis and basically consists on a series of filters that events must fulfill to pass to the next analysis step. Events passing all the filters are considered as signal events. Following, a summary of the main steps of the analysis is presented:\n",
    "> * `MC filter`: Checks that MC event energy fits into limits, there is no signal in BUFFER, and there event has a single S1 signal.\n",
    "> * Reconstructed hits = MC ionization hits with energy and positions smeared; and shifted z_position (if needed by hit time).\n",
    "> * `energy filter`: Checks if the smeared event energy fits into limits.\n",
    "> * Voxelize reconstructed hits using IC Paolina package.\n",
    "> * `fiducial filter`: Checks if there is any voxel in the non-fiducial region with energy higher than threshold.\n",
    "> * Make tracks from voxels using IC Paolina package.\n",
    "> * `track filter`: Checks if the number of tracks is lower or equal the number set by parameter. Currently set to 1.\n",
    "> * Get blobs from tracks using IC Paolina package.\n",
    "> * `blob filter`: Checks if blob energies are higher than a certain energy threshold set by parameter.\n",
    "> * `ROY filter`: Checks if the event smeared energy fts into ROI limits set by parameter.\n",
    "\n",
    "The NB \"fanal_results.ipynb\" shows the different data stored in FANAL analysis with associated plots."
   ]
  },
  {
   "cell_type": "markdown",
   "metadata": {},
   "source": [
    "#### Setting general stuff"
   ]
  },
  {
   "cell_type": "code",
   "execution_count": null,
   "metadata": {},
   "outputs": [],
   "source": [
    "from IPython.core.display import HTML\n",
    "css = open('css/style-table.css').read() + open('css/style-notebook.css').read()\n",
    "HTML('<style>{}</style>'.format(css))"
   ]
  },
  {
   "cell_type": "code",
   "execution_count": null,
   "metadata": {},
   "outputs": [],
   "source": [
    "%load_ext autoreload\n",
    "%autoreload 2"
   ]
  },
  {
   "cell_type": "code",
   "execution_count": null,
   "metadata": {},
   "outputs": [],
   "source": [
    "%matplotlib inline"
   ]
  },
  {
   "cell_type": "code",
   "execution_count": null,
   "metadata": {},
   "outputs": [],
   "source": [
    "%load_ext memory_profiler\n",
    "%load_ext line_profiler\n",
    "\n",
    "import line_profiler\n",
    "profile = line_profiler.LineProfiler()"
   ]
  },
  {
   "cell_type": "markdown",
   "metadata": {},
   "source": [
    "#### Importing"
   ]
  },
  {
   "cell_type": "code",
   "execution_count": null,
   "metadata": {},
   "outputs": [],
   "source": [
    "# General importings\n",
    "\n",
    "import glob\n",
    "import json"
   ]
  },
  {
   "cell_type": "code",
   "execution_count": null,
   "metadata": {},
   "outputs": [],
   "source": [
    "# Specific IC stuff\n",
    "\n",
    "import invisible_cities.core.system_of_units  as units"
   ]
  },
  {
   "cell_type": "code",
   "execution_count": null,
   "metadata": {},
   "outputs": [],
   "source": [
    "# Specific FANAL stuff\n",
    "\n",
    "from fanal.fanal_setup       import Setup\n",
    "from fanal.core.fanal_types  import AnalysisParams"
   ]
  },
  {
   "cell_type": "markdown",
   "metadata": {},
   "source": [
    "# RUNNING FANAL"
   ]
  },
  {
   "cell_type": "markdown",
   "metadata": {},
   "source": [
    "## from a given config file (json format) ..."
   ]
  },
  {
   "cell_type": "code",
   "execution_count": null,
   "metadata": {},
   "outputs": [],
   "source": [
    "config_fnames = glob.glob(\"../config/*.config\")\n",
    "print ('Available config files:\\n')\n",
    "for config_fname in config_fnames: print(config_fname) "
   ]
  },
  {
   "cell_type": "code",
   "execution_count": null,
   "metadata": {
    "scrolled": false
   },
   "outputs": [],
   "source": [
    "#config_fname = \"../config/fanal.next100.Bi214.fwhm_05.voxel_3x3x3.config\"\n",
    "#config_fname = \"../config/fanal.next100.Bi214.fwhm_07.voxel_10x10x10.config\"\n",
    "#config_fname = \"../config/fanal.next100.Tl208.fwhm_05.voxel_3x3x3.config\"\n",
    "#config_fname = \"../config/fanal.next100.Tl208.fwhm_07.voxel_10x10x10.config\"\n",
    "#config_fname = \"../config/fanal.next100.bb0nu.fwhm_05.voxel_3x3x3.config\"\n",
    "config_fname = \"../config/fanal.next100.bb0nu.fwhm_07.voxel_10x10x10.config\"\n",
    "\n",
    "fanal_setup = Setup.from_config_file(config_fname)"
   ]
  },
  {
   "cell_type": "code",
   "execution_count": null,
   "metadata": {},
   "outputs": [],
   "source": [
    "%%time\n",
    "\n",
    "fanal_setup.run_analysis()"
   ]
  },
  {
   "cell_type": "code",
   "execution_count": null,
   "metadata": {},
   "outputs": [],
   "source": []
  },
  {
   "cell_type": "markdown",
   "metadata": {},
   "source": [
    "## from parameters ..."
   ]
  },
  {
   "cell_type": "code",
   "execution_count": null,
   "metadata": {
    "scrolled": false
   },
   "outputs": [],
   "source": [
    "# General stuff\n",
    "det_name        = 'NEXT100'\n",
    "event_type      = 'bb0nu'\n",
    "input_fname     = '../data/next100/bb0nu/sim/*.h5'\n",
    "output_fname    = '../data/next100/bb0nu/fanal/fanal.next100.bb0nu.fwhm_05.voxel_3x3x3.h5'\n",
    "verbosity_level = 'WARNING' # ('DEBUG', 'INFO', 'WARNING', 'ERROR', 'CRITICAL')\n",
    "\n",
    "analysis_params = AnalysisParams(buffer_Eth        = 0.   * units.keV,\n",
    "                                 trans_diff        = 0.0  * units.mm / units.cm**0.5,\n",
    "                                 long_diff         = 0.0  * units.mm / units.cm**0.5,\n",
    "                                 fwhm              = 0.7  * units.perCent,\n",
    "                                 e_min             = 2.4  * units.MeV,\n",
    "                                 e_max             = 2.5  * units.MeV,\n",
    "                                 voxel_size_x      = 10.  * units.mm,\n",
    "                                 voxel_size_y      = 10.  * units.mm,\n",
    "                                 voxel_size_z      = 10.  * units.mm,\n",
    "                                 strict_voxel_size = True,\n",
    "                                 voxel_Eth         = 0.   * units.keV,\n",
    "                                 veto_width        = 20.  * units.mm,\n",
    "                                 veto_Eth          = 10.  * units.keV,\n",
    "                                 track_Eth         = 0.   * units.keV,\n",
    "                                 max_num_tracks    = 1,\n",
    "                                 blob_radius       = 21.  * units.mm,\n",
    "                                 blob_Eth          = 350  * units.keV,\n",
    "                                 roi_Emin          = 2454 * units.keV,\n",
    "                                 roi_Emax          = 2471 * units.keV\n",
    "                                )\n",
    "\n",
    "\n",
    "# Executing FANAL\n",
    "fanal_setup = Setup(det_name        = det_name,\n",
    "                    event_type      = event_type,\n",
    "                    input_fname     = input_fname,\n",
    "                    output_fname    = output_fname,\n",
    "                    analysis_params = analysis_params,\n",
    "                    verbosity       = verbosity_level)"
   ]
  },
  {
   "cell_type": "code",
   "execution_count": null,
   "metadata": {
    "scrolled": false
   },
   "outputs": [],
   "source": [
    "%%time\n",
    "\n",
    "fanal_setup.run_analysis()"
   ]
  },
  {
   "cell_type": "code",
   "execution_count": null,
   "metadata": {},
   "outputs": [],
   "source": []
  },
  {
   "cell_type": "markdown",
   "metadata": {},
   "source": [
    "# SHOWING FANAL RESULTS"
   ]
  },
  {
   "cell_type": "code",
   "execution_count": null,
   "metadata": {},
   "outputs": [],
   "source": [
    "config_df  = fanal_setup.config_df()\n",
    "events_df  = fanal_setup.events_df()\n",
    "tracks_df  = fanal_setup.tracks_df()\n",
    "voxels_df  = fanal_setup.voxels_df()\n",
    "results_df = fanal_setup.results_df()"
   ]
  },
  {
   "cell_type": "code",
   "execution_count": null,
   "metadata": {},
   "outputs": [],
   "source": [
    "events_df.columns"
   ]
  },
  {
   "cell_type": "code",
   "execution_count": null,
   "metadata": {},
   "outputs": [],
   "source": [
    "events_df[['num_mcParts', 'num_mcHits', 'mc_energy', 'sm_energy', 'energy_filter', 'num_voxels',\n",
    "           'fiduc_filter', 'num_tracks', 'track_length', 'track_filter',\n",
    "           'blob1_energy', 'blob2_energy', 'blob_filter', 'roi_filter']].head()"
   ]
  },
  {
   "cell_type": "code",
   "execution_count": null,
   "metadata": {
    "scrolled": true
   },
   "outputs": [],
   "source": [
    "tracks_df.head()"
   ]
  },
  {
   "cell_type": "code",
   "execution_count": null,
   "metadata": {},
   "outputs": [],
   "source": [
    "voxels_df.head()"
   ]
  },
  {
   "cell_type": "code",
   "execution_count": null,
   "metadata": {},
   "outputs": [],
   "source": [
    "results_df"
   ]
  },
  {
   "cell_type": "code",
   "execution_count": null,
   "metadata": {},
   "outputs": [],
   "source": [
    "from fanal.containers.events import EventCounter\n",
    "\n",
    "print(EventCounter(**results_df.events))"
   ]
  },
  {
   "cell_type": "code",
   "execution_count": null,
   "metadata": {},
   "outputs": [],
   "source": []
  },
  {
   "cell_type": "code",
   "execution_count": null,
   "metadata": {},
   "outputs": [],
   "source": []
  }
 ],
 "metadata": {
  "kernelspec": {
   "display_name": "Python 3",
   "language": "python",
   "name": "python3"
  },
  "language_info": {
   "codemirror_mode": {
    "name": "ipython",
    "version": 3
   },
   "file_extension": ".py",
   "mimetype": "text/x-python",
   "name": "python",
   "nbconvert_exporter": "python",
   "pygments_lexer": "ipython3",
   "version": "3.7.9"
  }
 },
 "nbformat": 4,
 "nbformat_minor": 2
}
