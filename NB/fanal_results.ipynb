{
 "cells": [
  {
   "cell_type": "markdown",
   "metadata": {},
   "source": [
    "<p style=\"font-family: Arial; font-size:3.7em; color:purple; font-style:bold\">\n",
    "<br>FANAL RESULTS SHOWCASE<br></p>"
   ]
  },
  {
   "cell_type": "markdown",
   "metadata": {},
   "source": [
    "This notebook illustrates the results got from FANAL analysis.\n",
    "\n",
    "It provides contents of generated DataFrames with some associated plots."
   ]
  },
  {
   "cell_type": "markdown",
   "metadata": {},
   "source": [
    "#### Setting general stuff"
   ]
  },
  {
   "cell_type": "code",
   "execution_count": 1,
   "metadata": {},
   "outputs": [
    {
     "data": {
      "text/html": [
       "<style>body {\n",
       "    margin: 0;\n",
       "    font-family: Helvetica;\n",
       "}\n",
       "table.dataframe {\n",
       "    border-collapse: collapse;\n",
       "    border: none;\n",
       "}\n",
       "table.dataframe tr {\n",
       "    border: none;\n",
       "}\n",
       "table.dataframe td, table.dataframe th {\n",
       "    margin: 0;\n",
       "    border: 1px solid white;\n",
       "    padding-left: 0.25em;\n",
       "    padding-right: 0.25em;\n",
       "}\n",
       "table.dataframe th:not(:empty) {\n",
       "    background-color: #fec;\n",
       "    text-align: left;\n",
       "    font-weight: normal;\n",
       "}\n",
       "table.dataframe tr:nth-child(2) th:empty {\n",
       "    border-left: none;\n",
       "    border-right: 1px dashed #888;\n",
       "}\n",
       "table.dataframe td {\n",
       "    border: 2px solid #ccf;\n",
       "    background-color: #f4f4ff;\n",
       "}\n",
       "h3 {\n",
       "    color: white;\n",
       "    background-color: black;\n",
       "    padding: 0.5em;\n",
       "}\n",
       "</style>"
      ],
      "text/plain": [
       "<IPython.core.display.HTML object>"
      ]
     },
     "execution_count": 1,
     "metadata": {},
     "output_type": "execute_result"
    }
   ],
   "source": [
    "from IPython.core.display import HTML\n",
    "css = open('css/style-table.css').read() + open('css/style-notebook.css').read()\n",
    "HTML('<style>{}</style>'.format(css))"
   ]
  },
  {
   "cell_type": "code",
   "execution_count": 2,
   "metadata": {},
   "outputs": [],
   "source": [
    "%load_ext autoreload\n",
    "%autoreload 2"
   ]
  },
  {
   "cell_type": "code",
   "execution_count": 3,
   "metadata": {},
   "outputs": [],
   "source": [
    "%matplotlib inline"
   ]
  },
  {
   "cell_type": "markdown",
   "metadata": {},
   "source": [
    "#### Importings"
   ]
  },
  {
   "cell_type": "code",
   "execution_count": 4,
   "metadata": {},
   "outputs": [],
   "source": [
    "import os\n",
    "import sys\n",
    "import numpy  as np\n",
    "import tables as tb\n",
    "import pandas as pd\n",
    "import matplotlib.pyplot as plt\n",
    "from   matplotlib.colors import LogNorm\n",
    "\n",
    "#%matplotlib widget"
   ]
  },
  {
   "cell_type": "code",
   "execution_count": 5,
   "metadata": {},
   "outputs": [],
   "source": [
    "# Specific IC stuff\n",
    "\n",
    "import invisible_cities.core.system_of_units  as units"
   ]
  },
  {
   "cell_type": "code",
   "execution_count": 6,
   "metadata": {},
   "outputs": [],
   "source": [
    "# Specific FANAL stuff\n",
    "\n",
    "from fanal.containers.events import EventCounter"
   ]
  },
  {
   "cell_type": "code",
   "execution_count": 7,
   "metadata": {},
   "outputs": [],
   "source": [
    "plt.rcParams[\"figure.figsize\"] = 8, 6\n",
    "plt.rcParams[\"font.size\"     ] = 13"
   ]
  },
  {
   "cell_type": "markdown",
   "metadata": {},
   "source": [
    "# LOADING DATA"
   ]
  },
  {
   "cell_type": "code",
   "execution_count": 8,
   "metadata": {},
   "outputs": [],
   "source": [
    "#results_fname = '/Users/Javi/Development/FANAL/fanal/fanal.tst.h5'\n",
    "\n",
    "iPATH         = \"../data/next100\"\n",
    "#results_fname = iPATH + \"/Bi214/fanal/fanal.next100.Bi214.fwhm_05.voxel_3x3x3.h5\"\n",
    "#results_fname = iPATH + \"/Bi214/fanal/fanal.next100.Bi214.fwhm_07.voxel_10x10x10.h5\"\n",
    "#results_fname = iPATH + \"/Tl208/fanal/fanal.next100.Tl208.fwhm_05.voxel_3x3x3.h5\"\n",
    "#results_fname = iPATH + \"/Tl208/fanal/fanal.next100.Tl208.fwhm_07.voxel_10x10x10.h5\"\n",
    "#results_fname = iPATH + \"/bb0nu/fanal/fanal.next100.bb0nu.fwhm_05.voxel_3x3x3.h5\"\n",
    "results_fname = iPATH + \"/bb0nu/fanal/fanal.next100.bb0nu.fwhm_07.voxel_10x10x10.h5\""
   ]
  },
  {
   "cell_type": "code",
   "execution_count": 9,
   "metadata": {},
   "outputs": [],
   "source": [
    "config_df  = pd.read_hdf(results_fname, \"FANAL\" + '/config')\n",
    "events_df  = pd.read_hdf(results_fname, \"FANAL\" + '/events')\n",
    "tracks_df  = pd.read_hdf(results_fname, \"FANAL\" + '/tracks')\n",
    "voxels_df  = pd.read_hdf(results_fname, \"FANAL\" + '/voxels')\n",
    "results_df = pd.read_hdf(results_fname, \"FANAL\" + '/results')"
   ]
  },
  {
   "cell_type": "code",
   "execution_count": 10,
   "metadata": {},
   "outputs": [
    {
     "name": "stdout",
     "output_type": "stream",
     "text": [
      "Configuration run ...\n"
     ]
    },
    {
     "data": {
      "text/html": [
       "<div>\n",
       "<style scoped>\n",
       "    .dataframe tbody tr th:only-of-type {\n",
       "        vertical-align: middle;\n",
       "    }\n",
       "\n",
       "    .dataframe tbody tr th {\n",
       "        vertical-align: top;\n",
       "    }\n",
       "\n",
       "    .dataframe thead th {\n",
       "        text-align: right;\n",
       "    }\n",
       "</style>\n",
       "<table border=\"1\" class=\"dataframe\">\n",
       "  <thead>\n",
       "    <tr style=\"text-align: right;\">\n",
       "      <th></th>\n",
       "      <th>value</th>\n",
       "    </tr>\n",
       "  </thead>\n",
       "  <tbody>\n",
       "    <tr>\n",
       "      <th>det_name</th>\n",
       "      <td>NEXT100</td>\n",
       "    </tr>\n",
       "    <tr>\n",
       "      <th>event_type</th>\n",
       "      <td>bb0nu</td>\n",
       "    </tr>\n",
       "    <tr>\n",
       "      <th>input_fname</th>\n",
       "      <td>/Users/Javi/Development/FANAL/data/next100/bb0...</td>\n",
       "    </tr>\n",
       "    <tr>\n",
       "      <th>output_fname</th>\n",
       "      <td>/Users/Javi/Development/FANAL/data/next100/bb0...</td>\n",
       "    </tr>\n",
       "    <tr>\n",
       "      <th>buffer_Eth</th>\n",
       "      <td>0.002</td>\n",
       "    </tr>\n",
       "    <tr>\n",
       "      <th>trans_diff</th>\n",
       "      <td>0.0</td>\n",
       "    </tr>\n",
       "    <tr>\n",
       "      <th>long_diff</th>\n",
       "      <td>0.0</td>\n",
       "    </tr>\n",
       "    <tr>\n",
       "      <th>fwhm</th>\n",
       "      <td>0.006999999999999999</td>\n",
       "    </tr>\n",
       "    <tr>\n",
       "      <th>e_min</th>\n",
       "      <td>2.4</td>\n",
       "    </tr>\n",
       "    <tr>\n",
       "      <th>e_max</th>\n",
       "      <td>2.5</td>\n",
       "    </tr>\n",
       "    <tr>\n",
       "      <th>procedure</th>\n",
       "      <td>paolina_ic</td>\n",
       "    </tr>\n",
       "    <tr>\n",
       "      <th>voxel_size_x</th>\n",
       "      <td>10.0</td>\n",
       "    </tr>\n",
       "    <tr>\n",
       "      <th>voxel_size_y</th>\n",
       "      <td>10.0</td>\n",
       "    </tr>\n",
       "    <tr>\n",
       "      <th>voxel_size_z</th>\n",
       "      <td>10.0</td>\n",
       "    </tr>\n",
       "    <tr>\n",
       "      <th>strict_voxel_size</th>\n",
       "      <td>False</td>\n",
       "    </tr>\n",
       "    <tr>\n",
       "      <th>barycenter</th>\n",
       "      <td>True</td>\n",
       "    </tr>\n",
       "    <tr>\n",
       "      <th>voxel_Eth</th>\n",
       "      <td>0.002</td>\n",
       "    </tr>\n",
       "    <tr>\n",
       "      <th>veto_width</th>\n",
       "      <td>20.0</td>\n",
       "    </tr>\n",
       "    <tr>\n",
       "      <th>veto_Eth</th>\n",
       "      <td>0.002</td>\n",
       "    </tr>\n",
       "    <tr>\n",
       "      <th>contiguity</th>\n",
       "      <td>15.0</td>\n",
       "    </tr>\n",
       "    <tr>\n",
       "      <th>track_Eth</th>\n",
       "      <td>0.003</td>\n",
       "    </tr>\n",
       "    <tr>\n",
       "      <th>max_num_tracks</th>\n",
       "      <td>1</td>\n",
       "    </tr>\n",
       "    <tr>\n",
       "      <th>blob_radius</th>\n",
       "      <td>18.0</td>\n",
       "    </tr>\n",
       "    <tr>\n",
       "      <th>blob_Eth</th>\n",
       "      <td>0.35000000000000003</td>\n",
       "    </tr>\n",
       "    <tr>\n",
       "      <th>roi_Emin</th>\n",
       "      <td>2.449</td>\n",
       "    </tr>\n",
       "    <tr>\n",
       "      <th>roi_Emax</th>\n",
       "      <td>2.466</td>\n",
       "    </tr>\n",
       "  </tbody>\n",
       "</table>\n",
       "</div>"
      ],
      "text/plain": [
       "                                                               value\n",
       "det_name                                                     NEXT100\n",
       "event_type                                                     bb0nu\n",
       "input_fname        /Users/Javi/Development/FANAL/data/next100/bb0...\n",
       "output_fname       /Users/Javi/Development/FANAL/data/next100/bb0...\n",
       "buffer_Eth                                                     0.002\n",
       "trans_diff                                                       0.0\n",
       "long_diff                                                        0.0\n",
       "fwhm                                            0.006999999999999999\n",
       "e_min                                                            2.4\n",
       "e_max                                                            2.5\n",
       "procedure                                                 paolina_ic\n",
       "voxel_size_x                                                    10.0\n",
       "voxel_size_y                                                    10.0\n",
       "voxel_size_z                                                    10.0\n",
       "strict_voxel_size                                              False\n",
       "barycenter                                                      True\n",
       "voxel_Eth                                                      0.002\n",
       "veto_width                                                      20.0\n",
       "veto_Eth                                                       0.002\n",
       "contiguity                                                      15.0\n",
       "track_Eth                                                      0.003\n",
       "max_num_tracks                                                     1\n",
       "blob_radius                                                     18.0\n",
       "blob_Eth                                         0.35000000000000003\n",
       "roi_Emin                                                       2.449\n",
       "roi_Emax                                                       2.466"
      ]
     },
     "execution_count": 10,
     "metadata": {},
     "output_type": "execute_result"
    }
   ],
   "source": [
    "print(\"Configuration run ...\")\n",
    "config_df"
   ]
  },
  {
   "cell_type": "markdown",
   "metadata": {},
   "source": [
    "# EVENT counters"
   ]
  },
  {
   "cell_type": "code",
   "execution_count": 11,
   "metadata": {},
   "outputs": [
    {
     "data": {
      "text/html": [
       "<div>\n",
       "<style scoped>\n",
       "    .dataframe tbody tr th:only-of-type {\n",
       "        vertical-align: middle;\n",
       "    }\n",
       "\n",
       "    .dataframe tbody tr th {\n",
       "        vertical-align: top;\n",
       "    }\n",
       "\n",
       "    .dataframe thead th {\n",
       "        text-align: right;\n",
       "    }\n",
       "</style>\n",
       "<table border=\"1\" class=\"dataframe\">\n",
       "  <thead>\n",
       "    <tr style=\"text-align: right;\">\n",
       "      <th></th>\n",
       "      <th>events</th>\n",
       "    </tr>\n",
       "  </thead>\n",
       "  <tbody>\n",
       "    <tr>\n",
       "      <th>simulated</th>\n",
       "      <td>500</td>\n",
       "    </tr>\n",
       "    <tr>\n",
       "      <th>stored</th>\n",
       "      <td>500</td>\n",
       "    </tr>\n",
       "    <tr>\n",
       "      <th>analyzed</th>\n",
       "      <td>500</td>\n",
       "    </tr>\n",
       "    <tr>\n",
       "      <th>mc_filter</th>\n",
       "      <td>357</td>\n",
       "    </tr>\n",
       "    <tr>\n",
       "      <th>energy_filter</th>\n",
       "      <td>357</td>\n",
       "    </tr>\n",
       "    <tr>\n",
       "      <th>fiduc_filter</th>\n",
       "      <td>316</td>\n",
       "    </tr>\n",
       "    <tr>\n",
       "      <th>track_filter</th>\n",
       "      <td>235</td>\n",
       "    </tr>\n",
       "    <tr>\n",
       "      <th>blob_filter</th>\n",
       "      <td>198</td>\n",
       "    </tr>\n",
       "    <tr>\n",
       "      <th>roi_filter</th>\n",
       "      <td>147</td>\n",
       "    </tr>\n",
       "  </tbody>\n",
       "</table>\n",
       "</div>"
      ],
      "text/plain": [
       "               events\n",
       "simulated         500\n",
       "stored            500\n",
       "analyzed          500\n",
       "mc_filter         357\n",
       "energy_filter     357\n",
       "fiduc_filter      316\n",
       "track_filter      235\n",
       "blob_filter       198\n",
       "roi_filter        147"
      ]
     },
     "execution_count": 11,
     "metadata": {},
     "output_type": "execute_result"
    }
   ],
   "source": [
    "results_df"
   ]
  },
  {
   "cell_type": "code",
   "execution_count": 12,
   "metadata": {},
   "outputs": [
    {
     "name": "stdout",
     "output_type": "stream",
     "text": [
      "* Event counters ...\n",
      "  Simulated    :        500  (1.00e+00)\n",
      "  Stored       :        500  (1.00e+00)\n",
      "  Analyzed     :        500  (1.00e+00)\n",
      "  MC     filter:        357  (7.14e-01)\n",
      "  Energy filter:        357  (7.14e-01)\n",
      "  Fiduc. filter:        316  (6.32e-01)\n",
      "  Track  filter:        235  (4.70e-01)\n",
      "  Blob   filter:        198  (3.96e-01)\n",
      "  ROI    filter:        147  (2.94e-01)\n",
      "\n"
     ]
    }
   ],
   "source": [
    "print(EventCounter(**results_df.events))"
   ]
  },
  {
   "cell_type": "code",
   "execution_count": 13,
   "metadata": {},
   "outputs": [
    {
     "name": "stdout",
     "output_type": "stream",
     "text": [
      "Num events that passed the ROI filter: 147\n"
     ]
    }
   ],
   "source": [
    "# Accessing a single value\n",
    "print(f\"Num events that passed the ROI filter: {results_df.loc['roi_filter'].events}\")"
   ]
  },
  {
   "cell_type": "code",
   "execution_count": 14,
   "metadata": {},
   "outputs": [
    {
     "data": {
      "text/plain": [
       "<matplotlib.axes._subplots.AxesSubplot at 0x7ff19098c7d0>"
      ]
     },
     "execution_count": 14,
     "metadata": {},
     "output_type": "execute_result"
    },
    {
     "data": {
      "image/png": "[encoded data removed]",
      "text/plain": [
       "<Figure size 576x432 with 1 Axes>"
      ]
     },
     "metadata": {
      "needs_background": "light"
     },
     "output_type": "display_data"
    }
   ],
   "source": [
    "results_df.plot.bar(title = 'ANALYSIS RESULTS', rot=45, log=True)"
   ]
  },
  {
   "cell_type": "code",
   "execution_count": null,
   "metadata": {},
   "outputs": [],
   "source": []
  },
  {
   "cell_type": "markdown",
   "metadata": {},
   "source": [
    "# DataFrames"
   ]
  },
  {
   "cell_type": "code",
   "execution_count": 15,
   "metadata": {},
   "outputs": [],
   "source": [
    "evt_cols_to_show = ['mc_energy', 'mc_filter', 'sm_energy', 'energy_filter', 'num_voxels', 'fiduc_filter',\n",
    "                    'num_tracks', 'track_length', 'track_filter', 'blob1_energy', 'blob2_energy',\n",
    "                    'blob_filter', 'roi_filter']"
   ]
  },
  {
   "cell_type": "code",
   "execution_count": 16,
   "metadata": {},
   "outputs": [
    {
     "data": {
      "text/html": [
       "<div>\n",
       "<style scoped>\n",
       "    .dataframe tbody tr th:only-of-type {\n",
       "        vertical-align: middle;\n",
       "    }\n",
       "\n",
       "    .dataframe tbody tr th {\n",
       "        vertical-align: top;\n",
       "    }\n",
       "\n",
       "    .dataframe thead th {\n",
       "        text-align: right;\n",
       "    }\n",
       "</style>\n",
       "<table border=\"1\" class=\"dataframe\">\n",
       "  <thead>\n",
       "    <tr style=\"text-align: right;\">\n",
       "      <th></th>\n",
       "      <th>mc_energy</th>\n",
       "      <th>mc_filter</th>\n",
       "      <th>sm_energy</th>\n",
       "      <th>energy_filter</th>\n",
       "      <th>num_voxels</th>\n",
       "      <th>fiduc_filter</th>\n",
       "      <th>num_tracks</th>\n",
       "      <th>track_length</th>\n",
       "      <th>track_filter</th>\n",
       "      <th>blob1_energy</th>\n",
       "      <th>blob2_energy</th>\n",
       "      <th>blob_filter</th>\n",
       "      <th>roi_filter</th>\n",
       "    </tr>\n",
       "    <tr>\n",
       "      <th>event_id</th>\n",
       "      <th></th>\n",
       "      <th></th>\n",
       "      <th></th>\n",
       "      <th></th>\n",
       "      <th></th>\n",
       "      <th></th>\n",
       "      <th></th>\n",
       "      <th></th>\n",
       "      <th></th>\n",
       "      <th></th>\n",
       "      <th></th>\n",
       "      <th></th>\n",
       "      <th></th>\n",
       "    </tr>\n",
       "  </thead>\n",
       "  <tbody>\n",
       "    <tr>\n",
       "      <th>0</th>\n",
       "      <td>2.457830</td>\n",
       "      <td>True</td>\n",
       "      <td>2.442920</td>\n",
       "      <td>True</td>\n",
       "      <td>18</td>\n",
       "      <td>True</td>\n",
       "      <td>1</td>\n",
       "      <td>83.715654</td>\n",
       "      <td>True</td>\n",
       "      <td>0.886702</td>\n",
       "      <td>0.865757</td>\n",
       "      <td>True</td>\n",
       "      <td>False</td>\n",
       "    </tr>\n",
       "    <tr>\n",
       "      <th>1</th>\n",
       "      <td>2.457830</td>\n",
       "      <td>True</td>\n",
       "      <td>2.456582</td>\n",
       "      <td>True</td>\n",
       "      <td>31</td>\n",
       "      <td>True</td>\n",
       "      <td>1</td>\n",
       "      <td>99.315921</td>\n",
       "      <td>True</td>\n",
       "      <td>0.682847</td>\n",
       "      <td>0.411475</td>\n",
       "      <td>True</td>\n",
       "      <td>True</td>\n",
       "    </tr>\n",
       "    <tr>\n",
       "      <th>2</th>\n",
       "      <td>1.020527</td>\n",
       "      <td>False</td>\n",
       "      <td>NaN</td>\n",
       "      <td>False</td>\n",
       "      <td>-1</td>\n",
       "      <td>False</td>\n",
       "      <td>-1</td>\n",
       "      <td>NaN</td>\n",
       "      <td>False</td>\n",
       "      <td>NaN</td>\n",
       "      <td>NaN</td>\n",
       "      <td>False</td>\n",
       "      <td>False</td>\n",
       "    </tr>\n",
       "    <tr>\n",
       "      <th>3</th>\n",
       "      <td>2.328514</td>\n",
       "      <td>False</td>\n",
       "      <td>NaN</td>\n",
       "      <td>False</td>\n",
       "      <td>-1</td>\n",
       "      <td>False</td>\n",
       "      <td>-1</td>\n",
       "      <td>NaN</td>\n",
       "      <td>False</td>\n",
       "      <td>NaN</td>\n",
       "      <td>NaN</td>\n",
       "      <td>False</td>\n",
       "      <td>False</td>\n",
       "    </tr>\n",
       "    <tr>\n",
       "      <th>4</th>\n",
       "      <td>2.457830</td>\n",
       "      <td>True</td>\n",
       "      <td>2.467304</td>\n",
       "      <td>True</td>\n",
       "      <td>21</td>\n",
       "      <td>True</td>\n",
       "      <td>3</td>\n",
       "      <td>NaN</td>\n",
       "      <td>False</td>\n",
       "      <td>NaN</td>\n",
       "      <td>NaN</td>\n",
       "      <td>False</td>\n",
       "      <td>False</td>\n",
       "    </tr>\n",
       "  </tbody>\n",
       "</table>\n",
       "</div>"
      ],
      "text/plain": [
       "          mc_energy  mc_filter  sm_energy  energy_filter  num_voxels  \\\n",
       "event_id                                                               \n",
       "0          2.457830       True   2.442920           True          18   \n",
       "1          2.457830       True   2.456582           True          31   \n",
       "2          1.020527      False        NaN          False          -1   \n",
       "3          2.328514      False        NaN          False          -1   \n",
       "4          2.457830       True   2.467304           True          21   \n",
       "\n",
       "          fiduc_filter  num_tracks  track_length  track_filter  blob1_energy  \\\n",
       "event_id                                                                       \n",
       "0                 True           1     83.715654          True      0.886702   \n",
       "1                 True           1     99.315921          True      0.682847   \n",
       "2                False          -1           NaN         False           NaN   \n",
       "3                False          -1           NaN         False           NaN   \n",
       "4                 True           3           NaN         False           NaN   \n",
       "\n",
       "          blob2_energy  blob_filter  roi_filter  \n",
       "event_id                                         \n",
       "0             0.865757         True       False  \n",
       "1             0.411475         True        True  \n",
       "2                  NaN        False       False  \n",
       "3                  NaN        False       False  \n",
       "4                  NaN        False       False  "
      ]
     },
     "execution_count": 16,
     "metadata": {},
     "output_type": "execute_result"
    }
   ],
   "source": [
    "# Showing the desired columns from first events\n",
    "events_df[evt_cols_to_show].head()"
   ]
  },
  {
   "cell_type": "code",
   "execution_count": 17,
   "metadata": {},
   "outputs": [
    {
     "data": {
      "text/html": [
       "<div>\n",
       "<style scoped>\n",
       "    .dataframe tbody tr th:only-of-type {\n",
       "        vertical-align: middle;\n",
       "    }\n",
       "\n",
       "    .dataframe tbody tr th {\n",
       "        vertical-align: top;\n",
       "    }\n",
       "\n",
       "    .dataframe thead th {\n",
       "        text-align: right;\n",
       "    }\n",
       "</style>\n",
       "<table border=\"1\" class=\"dataframe\">\n",
       "  <thead>\n",
       "    <tr style=\"text-align: right;\">\n",
       "      <th></th>\n",
       "      <th>mc_energy</th>\n",
       "      <th>mc_filter</th>\n",
       "      <th>sm_energy</th>\n",
       "      <th>energy_filter</th>\n",
       "      <th>num_voxels</th>\n",
       "      <th>fiduc_filter</th>\n",
       "      <th>num_tracks</th>\n",
       "      <th>track_length</th>\n",
       "      <th>track_filter</th>\n",
       "      <th>blob1_energy</th>\n",
       "      <th>blob2_energy</th>\n",
       "      <th>blob_filter</th>\n",
       "      <th>roi_filter</th>\n",
       "    </tr>\n",
       "    <tr>\n",
       "      <th>event_id</th>\n",
       "      <th></th>\n",
       "      <th></th>\n",
       "      <th></th>\n",
       "      <th></th>\n",
       "      <th></th>\n",
       "      <th></th>\n",
       "      <th></th>\n",
       "      <th></th>\n",
       "      <th></th>\n",
       "      <th></th>\n",
       "      <th></th>\n",
       "      <th></th>\n",
       "      <th></th>\n",
       "    </tr>\n",
       "  </thead>\n",
       "  <tbody>\n",
       "    <tr>\n",
       "      <th>0</th>\n",
       "      <td>2.45783</td>\n",
       "      <td>True</td>\n",
       "      <td>2.442920</td>\n",
       "      <td>True</td>\n",
       "      <td>18</td>\n",
       "      <td>True</td>\n",
       "      <td>1</td>\n",
       "      <td>83.715654</td>\n",
       "      <td>True</td>\n",
       "      <td>0.886702</td>\n",
       "      <td>0.865757</td>\n",
       "      <td>True</td>\n",
       "      <td>False</td>\n",
       "    </tr>\n",
       "    <tr>\n",
       "      <th>1</th>\n",
       "      <td>2.45783</td>\n",
       "      <td>True</td>\n",
       "      <td>2.456582</td>\n",
       "      <td>True</td>\n",
       "      <td>31</td>\n",
       "      <td>True</td>\n",
       "      <td>1</td>\n",
       "      <td>99.315921</td>\n",
       "      <td>True</td>\n",
       "      <td>0.682847</td>\n",
       "      <td>0.411475</td>\n",
       "      <td>True</td>\n",
       "      <td>True</td>\n",
       "    </tr>\n",
       "    <tr>\n",
       "      <th>5</th>\n",
       "      <td>2.45783</td>\n",
       "      <td>True</td>\n",
       "      <td>2.470149</td>\n",
       "      <td>True</td>\n",
       "      <td>19</td>\n",
       "      <td>True</td>\n",
       "      <td>1</td>\n",
       "      <td>124.200045</td>\n",
       "      <td>True</td>\n",
       "      <td>0.799349</td>\n",
       "      <td>0.543241</td>\n",
       "      <td>True</td>\n",
       "      <td>False</td>\n",
       "    </tr>\n",
       "    <tr>\n",
       "      <th>7</th>\n",
       "      <td>2.45783</td>\n",
       "      <td>True</td>\n",
       "      <td>2.459115</td>\n",
       "      <td>True</td>\n",
       "      <td>24</td>\n",
       "      <td>True</td>\n",
       "      <td>1</td>\n",
       "      <td>58.535004</td>\n",
       "      <td>True</td>\n",
       "      <td>0.795716</td>\n",
       "      <td>0.382879</td>\n",
       "      <td>True</td>\n",
       "      <td>True</td>\n",
       "    </tr>\n",
       "    <tr>\n",
       "      <th>10</th>\n",
       "      <td>2.45783</td>\n",
       "      <td>True</td>\n",
       "      <td>2.464999</td>\n",
       "      <td>True</td>\n",
       "      <td>17</td>\n",
       "      <td>True</td>\n",
       "      <td>1</td>\n",
       "      <td>45.269588</td>\n",
       "      <td>True</td>\n",
       "      <td>1.443346</td>\n",
       "      <td>0.604881</td>\n",
       "      <td>True</td>\n",
       "      <td>True</td>\n",
       "    </tr>\n",
       "    <tr>\n",
       "      <th>...</th>\n",
       "      <td>...</td>\n",
       "      <td>...</td>\n",
       "      <td>...</td>\n",
       "      <td>...</td>\n",
       "      <td>...</td>\n",
       "      <td>...</td>\n",
       "      <td>...</td>\n",
       "      <td>...</td>\n",
       "      <td>...</td>\n",
       "      <td>...</td>\n",
       "      <td>...</td>\n",
       "      <td>...</td>\n",
       "      <td>...</td>\n",
       "    </tr>\n",
       "    <tr>\n",
       "      <th>490</th>\n",
       "      <td>2.45783</td>\n",
       "      <td>True</td>\n",
       "      <td>2.460758</td>\n",
       "      <td>True</td>\n",
       "      <td>17</td>\n",
       "      <td>True</td>\n",
       "      <td>1</td>\n",
       "      <td>79.893853</td>\n",
       "      <td>True</td>\n",
       "      <td>1.000756</td>\n",
       "      <td>0.762827</td>\n",
       "      <td>True</td>\n",
       "      <td>True</td>\n",
       "    </tr>\n",
       "    <tr>\n",
       "      <th>491</th>\n",
       "      <td>2.45783</td>\n",
       "      <td>True</td>\n",
       "      <td>2.465461</td>\n",
       "      <td>True</td>\n",
       "      <td>16</td>\n",
       "      <td>True</td>\n",
       "      <td>1</td>\n",
       "      <td>100.348932</td>\n",
       "      <td>True</td>\n",
       "      <td>1.217858</td>\n",
       "      <td>0.609607</td>\n",
       "      <td>True</td>\n",
       "      <td>True</td>\n",
       "    </tr>\n",
       "    <tr>\n",
       "      <th>493</th>\n",
       "      <td>2.45783</td>\n",
       "      <td>True</td>\n",
       "      <td>2.458700</td>\n",
       "      <td>True</td>\n",
       "      <td>16</td>\n",
       "      <td>True</td>\n",
       "      <td>1</td>\n",
       "      <td>72.461332</td>\n",
       "      <td>True</td>\n",
       "      <td>0.812923</td>\n",
       "      <td>0.774325</td>\n",
       "      <td>True</td>\n",
       "      <td>True</td>\n",
       "    </tr>\n",
       "    <tr>\n",
       "      <th>495</th>\n",
       "      <td>2.45783</td>\n",
       "      <td>True</td>\n",
       "      <td>2.450783</td>\n",
       "      <td>True</td>\n",
       "      <td>13</td>\n",
       "      <td>True</td>\n",
       "      <td>1</td>\n",
       "      <td>44.235832</td>\n",
       "      <td>True</td>\n",
       "      <td>1.323607</td>\n",
       "      <td>0.468422</td>\n",
       "      <td>True</td>\n",
       "      <td>True</td>\n",
       "    </tr>\n",
       "    <tr>\n",
       "      <th>498</th>\n",
       "      <td>2.45783</td>\n",
       "      <td>True</td>\n",
       "      <td>2.468893</td>\n",
       "      <td>True</td>\n",
       "      <td>23</td>\n",
       "      <td>True</td>\n",
       "      <td>1</td>\n",
       "      <td>39.544079</td>\n",
       "      <td>True</td>\n",
       "      <td>1.395288</td>\n",
       "      <td>0.657364</td>\n",
       "      <td>False</td>\n",
       "      <td>False</td>\n",
       "    </tr>\n",
       "  </tbody>\n",
       "</table>\n",
       "<p>235 rows × 13 columns</p>\n",
       "</div>"
      ],
      "text/plain": [
       "          mc_energy  mc_filter  sm_energy  energy_filter  num_voxels  \\\n",
       "event_id                                                               \n",
       "0           2.45783       True   2.442920           True          18   \n",
       "1           2.45783       True   2.456582           True          31   \n",
       "5           2.45783       True   2.470149           True          19   \n",
       "7           2.45783       True   2.459115           True          24   \n",
       "10          2.45783       True   2.464999           True          17   \n",
       "...             ...        ...        ...            ...         ...   \n",
       "490         2.45783       True   2.460758           True          17   \n",
       "491         2.45783       True   2.465461           True          16   \n",
       "493         2.45783       True   2.458700           True          16   \n",
       "495         2.45783       True   2.450783           True          13   \n",
       "498         2.45783       True   2.468893           True          23   \n",
       "\n",
       "          fiduc_filter  num_tracks  track_length  track_filter  blob1_energy  \\\n",
       "event_id                                                                       \n",
       "0                 True           1     83.715654          True      0.886702   \n",
       "1                 True           1     99.315921          True      0.682847   \n",
       "5                 True           1    124.200045          True      0.799349   \n",
       "7                 True           1     58.535004          True      0.795716   \n",
       "10                True           1     45.269588          True      1.443346   \n",
       "...                ...         ...           ...           ...           ...   \n",
       "490               True           1     79.893853          True      1.000756   \n",
       "491               True           1    100.348932          True      1.217858   \n",
       "493               True           1     72.461332          True      0.812923   \n",
       "495               True           1     44.235832          True      1.323607   \n",
       "498               True           1     39.544079          True      1.395288   \n",
       "\n",
       "          blob2_energy  blob_filter  roi_filter  \n",
       "event_id                                         \n",
       "0             0.865757         True       False  \n",
       "1             0.411475         True        True  \n",
       "5             0.543241         True       False  \n",
       "7             0.382879         True        True  \n",
       "10            0.604881         True        True  \n",
       "...                ...          ...         ...  \n",
       "490           0.762827         True        True  \n",
       "491           0.609607         True        True  \n",
       "493           0.774325         True        True  \n",
       "495           0.468422         True        True  \n",
       "498           0.657364        False       False  \n",
       "\n",
       "[235 rows x 13 columns]"
      ]
     },
     "execution_count": 17,
     "metadata": {},
     "output_type": "execute_result"
    }
   ],
   "source": [
    "# Showing just the events that passed the TRACK filter\n",
    "events_df[events_df.track_filter][evt_cols_to_show]"
   ]
  },
  {
   "cell_type": "code",
   "execution_count": 18,
   "metadata": {},
   "outputs": [
    {
     "data": {
      "text/html": [
       "<div>\n",
       "<style scoped>\n",
       "    .dataframe tbody tr th:only-of-type {\n",
       "        vertical-align: middle;\n",
       "    }\n",
       "\n",
       "    .dataframe tbody tr th {\n",
       "        vertical-align: top;\n",
       "    }\n",
       "\n",
       "    .dataframe thead th {\n",
       "        text-align: right;\n",
       "    }\n",
       "</style>\n",
       "<table border=\"1\" class=\"dataframe\">\n",
       "  <thead>\n",
       "    <tr style=\"text-align: right;\">\n",
       "      <th></th>\n",
       "      <th></th>\n",
       "      <th>energy</th>\n",
       "      <th>length</th>\n",
       "      <th>num_voxels</th>\n",
       "      <th>t_ext1_x</th>\n",
       "      <th>t_ext1_y</th>\n",
       "      <th>t_ext1_z</th>\n",
       "      <th>t_ext2_x</th>\n",
       "      <th>t_ext2_y</th>\n",
       "      <th>t_ext2_z</th>\n",
       "      <th>blob1_x</th>\n",
       "      <th>blob1_y</th>\n",
       "      <th>blob1_z</th>\n",
       "      <th>blob1_energy</th>\n",
       "      <th>blob1_num_hits</th>\n",
       "      <th>blob2_x</th>\n",
       "      <th>blob2_y</th>\n",
       "      <th>blob2_z</th>\n",
       "      <th>blob2_energy</th>\n",
       "      <th>blob2_num_hits</th>\n",
       "      <th>ovlp_energy</th>\n",
       "    </tr>\n",
       "    <tr>\n",
       "      <th>event_id</th>\n",
       "      <th>track_id</th>\n",
       "      <th></th>\n",
       "      <th></th>\n",
       "      <th></th>\n",
       "      <th></th>\n",
       "      <th></th>\n",
       "      <th></th>\n",
       "      <th></th>\n",
       "      <th></th>\n",
       "      <th></th>\n",
       "      <th></th>\n",
       "      <th></th>\n",
       "      <th></th>\n",
       "      <th></th>\n",
       "      <th></th>\n",
       "      <th></th>\n",
       "      <th></th>\n",
       "      <th></th>\n",
       "      <th></th>\n",
       "      <th></th>\n",
       "      <th></th>\n",
       "    </tr>\n",
       "  </thead>\n",
       "  <tbody>\n",
       "    <tr>\n",
       "      <th>0</th>\n",
       "      <th>0</th>\n",
       "      <td>2.442920</td>\n",
       "      <td>83.715654</td>\n",
       "      <td>18</td>\n",
       "      <td>316.199402</td>\n",
       "      <td>-311.569519</td>\n",
       "      <td>221.003082</td>\n",
       "      <td>342.226501</td>\n",
       "      <td>-288.589630</td>\n",
       "      <td>153.732697</td>\n",
       "      <td>314.970886</td>\n",
       "      <td>-307.77183</td>\n",
       "      <td>213.355156</td>\n",
       "      <td>0.886702</td>\n",
       "      <td>106</td>\n",
       "      <td>342.885033</td>\n",
       "      <td>-287.995491</td>\n",
       "      <td>155.906279</td>\n",
       "      <td>0.865757</td>\n",
       "      <td>123</td>\n",
       "      <td>0.0</td>\n",
       "    </tr>\n",
       "    <tr>\n",
       "      <th>1</th>\n",
       "      <th>0</th>\n",
       "      <td>2.456582</td>\n",
       "      <td>99.315921</td>\n",
       "      <td>31</td>\n",
       "      <td>181.914307</td>\n",
       "      <td>337.398102</td>\n",
       "      <td>757.257202</td>\n",
       "      <td>128.015320</td>\n",
       "      <td>349.761017</td>\n",
       "      <td>760.370239</td>\n",
       "      <td>179.846760</td>\n",
       "      <td>336.31182</td>\n",
       "      <td>755.671392</td>\n",
       "      <td>0.682847</td>\n",
       "      <td>79</td>\n",
       "      <td>144.576508</td>\n",
       "      <td>358.703522</td>\n",
       "      <td>786.030273</td>\n",
       "      <td>0.411475</td>\n",
       "      <td>75</td>\n",
       "      <td>0.0</td>\n",
       "    </tr>\n",
       "    <tr>\n",
       "      <th rowspan=\"3\" valign=\"top\">4</th>\n",
       "      <th>0</th>\n",
       "      <td>2.220789</td>\n",
       "      <td>81.565220</td>\n",
       "      <td>19</td>\n",
       "      <td>NaN</td>\n",
       "      <td>NaN</td>\n",
       "      <td>NaN</td>\n",
       "      <td>NaN</td>\n",
       "      <td>NaN</td>\n",
       "      <td>NaN</td>\n",
       "      <td>NaN</td>\n",
       "      <td>NaN</td>\n",
       "      <td>NaN</td>\n",
       "      <td>NaN</td>\n",
       "      <td>0</td>\n",
       "      <td>NaN</td>\n",
       "      <td>NaN</td>\n",
       "      <td>NaN</td>\n",
       "      <td>NaN</td>\n",
       "      <td>0</td>\n",
       "      <td>NaN</td>\n",
       "    </tr>\n",
       "    <tr>\n",
       "      <th>1</th>\n",
       "      <td>0.146462</td>\n",
       "      <td>0.000000</td>\n",
       "      <td>1</td>\n",
       "      <td>NaN</td>\n",
       "      <td>NaN</td>\n",
       "      <td>NaN</td>\n",
       "      <td>NaN</td>\n",
       "      <td>NaN</td>\n",
       "      <td>NaN</td>\n",
       "      <td>NaN</td>\n",
       "      <td>NaN</td>\n",
       "      <td>NaN</td>\n",
       "      <td>NaN</td>\n",
       "      <td>0</td>\n",
       "      <td>NaN</td>\n",
       "      <td>NaN</td>\n",
       "      <td>NaN</td>\n",
       "      <td>NaN</td>\n",
       "      <td>0</td>\n",
       "      <td>NaN</td>\n",
       "    </tr>\n",
       "    <tr>\n",
       "      <th>2</th>\n",
       "      <td>0.100052</td>\n",
       "      <td>0.000000</td>\n",
       "      <td>1</td>\n",
       "      <td>NaN</td>\n",
       "      <td>NaN</td>\n",
       "      <td>NaN</td>\n",
       "      <td>NaN</td>\n",
       "      <td>NaN</td>\n",
       "      <td>NaN</td>\n",
       "      <td>NaN</td>\n",
       "      <td>NaN</td>\n",
       "      <td>NaN</td>\n",
       "      <td>NaN</td>\n",
       "      <td>0</td>\n",
       "      <td>NaN</td>\n",
       "      <td>NaN</td>\n",
       "      <td>NaN</td>\n",
       "      <td>NaN</td>\n",
       "      <td>0</td>\n",
       "      <td>NaN</td>\n",
       "    </tr>\n",
       "  </tbody>\n",
       "</table>\n",
       "</div>"
      ],
      "text/plain": [
       "                     energy     length  num_voxels    t_ext1_x    t_ext1_y  \\\n",
       "event_id track_id                                                            \n",
       "0        0         2.442920  83.715654          18  316.199402 -311.569519   \n",
       "1        0         2.456582  99.315921          31  181.914307  337.398102   \n",
       "4        0         2.220789  81.565220          19         NaN         NaN   \n",
       "         1         0.146462   0.000000           1         NaN         NaN   \n",
       "         2         0.100052   0.000000           1         NaN         NaN   \n",
       "\n",
       "                     t_ext1_z    t_ext2_x    t_ext2_y    t_ext2_z     blob1_x  \\\n",
       "event_id track_id                                                               \n",
       "0        0         221.003082  342.226501 -288.589630  153.732697  314.970886   \n",
       "1        0         757.257202  128.015320  349.761017  760.370239  179.846760   \n",
       "4        0                NaN         NaN         NaN         NaN         NaN   \n",
       "         1                NaN         NaN         NaN         NaN         NaN   \n",
       "         2                NaN         NaN         NaN         NaN         NaN   \n",
       "\n",
       "                     blob1_y     blob1_z  blob1_energy  blob1_num_hits  \\\n",
       "event_id track_id                                                        \n",
       "0        0        -307.77183  213.355156      0.886702             106   \n",
       "1        0         336.31182  755.671392      0.682847              79   \n",
       "4        0               NaN         NaN           NaN               0   \n",
       "         1               NaN         NaN           NaN               0   \n",
       "         2               NaN         NaN           NaN               0   \n",
       "\n",
       "                      blob2_x     blob2_y     blob2_z  blob2_energy  \\\n",
       "event_id track_id                                                     \n",
       "0        0         342.885033 -287.995491  155.906279      0.865757   \n",
       "1        0         144.576508  358.703522  786.030273      0.411475   \n",
       "4        0                NaN         NaN         NaN           NaN   \n",
       "         1                NaN         NaN         NaN           NaN   \n",
       "         2                NaN         NaN         NaN           NaN   \n",
       "\n",
       "                   blob2_num_hits  ovlp_energy  \n",
       "event_id track_id                               \n",
       "0        0                    123          0.0  \n",
       "1        0                     75          0.0  \n",
       "4        0                      0          NaN  \n",
       "         1                      0          NaN  \n",
       "         2                      0          NaN  "
      ]
     },
     "execution_count": 18,
     "metadata": {},
     "output_type": "execute_result"
    }
   ],
   "source": [
    "# Showing first tracks\n",
    "tracks_df.head()"
   ]
  },
  {
   "cell_type": "code",
   "execution_count": 19,
   "metadata": {},
   "outputs": [
    {
     "data": {
      "text/html": [
       "<div>\n",
       "<style scoped>\n",
       "    .dataframe tbody tr th:only-of-type {\n",
       "        vertical-align: middle;\n",
       "    }\n",
       "\n",
       "    .dataframe tbody tr th {\n",
       "        vertical-align: top;\n",
       "    }\n",
       "\n",
       "    .dataframe thead th {\n",
       "        text-align: right;\n",
       "    }\n",
       "</style>\n",
       "<table border=\"1\" class=\"dataframe\">\n",
       "  <thead>\n",
       "    <tr style=\"text-align: right;\">\n",
       "      <th></th>\n",
       "      <th></th>\n",
       "      <th></th>\n",
       "      <th>x</th>\n",
       "      <th>y</th>\n",
       "      <th>z</th>\n",
       "      <th>energy</th>\n",
       "    </tr>\n",
       "    <tr>\n",
       "      <th>event_id</th>\n",
       "      <th>track_id</th>\n",
       "      <th>voxel_id</th>\n",
       "      <th></th>\n",
       "      <th></th>\n",
       "      <th></th>\n",
       "      <th></th>\n",
       "    </tr>\n",
       "  </thead>\n",
       "  <tbody>\n",
       "    <tr>\n",
       "      <th rowspan=\"5\" valign=\"top\">0</th>\n",
       "      <th rowspan=\"5\" valign=\"top\">0</th>\n",
       "      <th>0</th>\n",
       "      <td>316.366646</td>\n",
       "      <td>-312.575916</td>\n",
       "      <td>196.901304</td>\n",
       "      <td>0.100109</td>\n",
       "    </tr>\n",
       "    <tr>\n",
       "      <th>1</th>\n",
       "      <td>316.366646</td>\n",
       "      <td>-312.575916</td>\n",
       "      <td>206.801067</td>\n",
       "      <td>0.090170</td>\n",
       "    </tr>\n",
       "    <tr>\n",
       "      <th>2</th>\n",
       "      <td>316.366646</td>\n",
       "      <td>-312.575916</td>\n",
       "      <td>216.700830</td>\n",
       "      <td>0.617759</td>\n",
       "    </tr>\n",
       "    <tr>\n",
       "      <th>3</th>\n",
       "      <td>316.366646</td>\n",
       "      <td>-304.970058</td>\n",
       "      <td>216.700830</td>\n",
       "      <td>0.091499</td>\n",
       "    </tr>\n",
       "    <tr>\n",
       "      <th>4</th>\n",
       "      <td>324.889244</td>\n",
       "      <td>-312.575916</td>\n",
       "      <td>196.901304</td>\n",
       "      <td>0.076200</td>\n",
       "    </tr>\n",
       "  </tbody>\n",
       "</table>\n",
       "</div>"
      ],
      "text/plain": [
       "                                     x           y           z    energy\n",
       "event_id track_id voxel_id                                              \n",
       "0        0        0         316.366646 -312.575916  196.901304  0.100109\n",
       "                  1         316.366646 -312.575916  206.801067  0.090170\n",
       "                  2         316.366646 -312.575916  216.700830  0.617759\n",
       "                  3         316.366646 -304.970058  216.700830  0.091499\n",
       "                  4         324.889244 -312.575916  196.901304  0.076200"
      ]
     },
     "execution_count": 19,
     "metadata": {},
     "output_type": "execute_result"
    }
   ],
   "source": [
    "# Showing first voxels\n",
    "voxels_df.head()"
   ]
  },
  {
   "cell_type": "code",
   "execution_count": null,
   "metadata": {},
   "outputs": [],
   "source": []
  },
  {
   "cell_type": "markdown",
   "metadata": {},
   "source": [
    "# Some graphics"
   ]
  },
  {
   "cell_type": "code",
   "execution_count": 20,
   "metadata": {},
   "outputs": [
    {
     "data": {
      "text/plain": [
       "Text(0.5, 1.0, 'Number of reconstructed tracks')"
      ]
     },
     "execution_count": 20,
     "metadata": {},
     "output_type": "execute_result"
    },
    {
     "data": {
      "image/png": "[encoded data removed]",
      "text/plain": [
       "<Figure size 576x432 with 1 Axes>"
      ]
     },
     "metadata": {
      "needs_background": "light"
     },
     "output_type": "display_data"
    }
   ],
   "source": [
    "max_num_trks = 10\n",
    "plt.hist(events_df.num_tracks, max_num_trks, [0, max_num_trks])\n",
    "plt.xlabel('Num Tracks')\n",
    "plt.ylabel('Num. events')\n",
    "plt.title('Number of reconstructed tracks')"
   ]
  },
  {
   "cell_type": "code",
   "execution_count": 21,
   "metadata": {},
   "outputs": [
    {
     "data": {
      "text/plain": [
       "Text(0.5, 1.0, 'Track - Length')"
      ]
     },
     "execution_count": 21,
     "metadata": {},
     "output_type": "execute_result"
    },
    {
     "data": {
      "image/png": "[encoded data removed]",
      "text/plain": [
       "<Figure size 1296x360 with 3 Axes>"
      ]
     },
     "metadata": {
      "needs_background": "light"
     },
     "output_type": "display_data"
    }
   ],
   "source": [
    "# Plotting energy, length and number of voxels of single track events\n",
    "evts_to_show = events_df[events_df.num_tracks == 1]\n",
    "\n",
    "fig = plt.figure(figsize = (18, 5))\n",
    "E_bins, E_range           = 20, [2.42, 2.50]\n",
    "voxels_bins, voxels_range = 20, [0, 50]\n",
    "length_bins, length_range = 20, [0, 200]\n",
    "\n",
    "# First track plots\n",
    "ax1 = fig.add_subplot(1, 3, 1)\n",
    "plt.hist(evts_to_show.sm_energy, E_bins, E_range)\n",
    "plt.title('Track Energy [MeV]')\n",
    "\n",
    "ax2 = fig.add_subplot(1, 3, 2)\n",
    "plt.hist(evts_to_show.num_voxels, voxels_bins, voxels_range)\n",
    "plt.title('Track - Num Voxels')\n",
    "\n",
    "ax3 = fig.add_subplot(1, 3, 3)\n",
    "plt.hist(evts_to_show.track_length, length_bins, length_range)\n",
    "plt.title('Track - Length')"
   ]
  },
  {
   "cell_type": "code",
   "execution_count": 22,
   "metadata": {},
   "outputs": [
    {
     "data": {
      "text/plain": [
       "Text(0.5, 1.0, 'tExtreme-Blob All distance [mm]')"
      ]
     },
     "execution_count": 22,
     "metadata": {},
     "output_type": "execute_result"
    },
    {
     "data": {
      "image/png": "[encoded data removed]",
      "text/plain": [
       "<Figure size 1296x360 with 3 Axes>"
      ]
     },
     "metadata": {
      "needs_background": "light"
     },
     "output_type": "display_data"
    }
   ],
   "source": [
    "from fanal.utils.types import XYZ\n",
    "\n",
    "# Plotting distance between True extrema and Blob positions\n",
    "# of events passing the track_filter\n",
    "evts_to_show = events_df[events_df.track_filter]\n",
    "trks_to_show = tracks_df.loc[evts_to_show.index]\n",
    "\n",
    "# Getting distances\n",
    "distances_1 = XYZ(trks_to_show.t_ext1_x, trks_to_show.t_ext1_y, trks_to_show.t_ext1_z). \\\n",
    "              distance(XYZ(trks_to_show.blob1_x, trks_to_show.blob1_y, trks_to_show.blob1_z))\n",
    "\n",
    "distances_2 = XYZ(trks_to_show.t_ext2_x, trks_to_show.t_ext2_y, trks_to_show.t_ext2_z). \\\n",
    "              distance(XYZ(trks_to_show.blob2_x, trks_to_show.blob2_y, trks_to_show.blob2_z))\n",
    "\n",
    "distances   = pd.concat([distances_1, distances_2])\n",
    "\n",
    "# PLOTTING\n",
    "fig = plt.figure(figsize  = (18, 5))\n",
    "dist_bins, dist_range     = 20, [0., 50.]\n",
    "\n",
    "# First distance\n",
    "ax1 = fig.add_subplot(1, 3, 1)\n",
    "plt.hist(distances_1, dist_bins, dist_range)\n",
    "plt.title('tExtreme-Blob 1 distance [mm]')\n",
    "\n",
    "# Second distance\n",
    "ax2 = fig.add_subplot(1, 3, 2)\n",
    "plt.hist(distances_2, dist_bins, dist_range)\n",
    "plt.title('tExtreme-Blob 2 distance [mm]')\n",
    "\n",
    "# All distances\n",
    "ax3 = fig.add_subplot(1, 3, 3)\n",
    "plt.hist(distances, dist_bins, dist_range)\n",
    "plt.title('tExtreme-Blob All distance [mm]')\n"
   ]
  },
  {
   "cell_type": "code",
   "execution_count": 23,
   "metadata": {},
   "outputs": [
    {
     "data": {
      "text/plain": [
       "Text(0.5, 1.0, 'Blob Energies [MeV]')"
      ]
     },
     "execution_count": 23,
     "metadata": {},
     "output_type": "execute_result"
    },
    {
     "data": {
      "image/png": "[encoded data removed]",
      "text/plain": [
       "<Figure size 1080x864 with 4 Axes>"
      ]
     },
     "metadata": {
      "needs_background": "light"
     },
     "output_type": "display_data"
    },
    {
     "data": {
      "image/png": "[encoded data removed]",
      "text/plain": [
       "<Figure size 504x432 with 1 Axes>"
      ]
     },
     "metadata": {
      "needs_background": "light"
     },
     "output_type": "display_data"
    }
   ],
   "source": [
    "# Plotting blob energies of events passing the track_filter\n",
    "evts_to_show = events_df[events_df.track_filter]\n",
    "trks_to_show = tracks_df.loc[evts_to_show.index]\n",
    "\n",
    "fig = plt.figure(figsize = (15,12))\n",
    "hit_bins, hit_range = 30, [0., 220]\n",
    "E_bins, E_range     = 30, [0., 1.50]\n",
    "\n",
    "ax1 = fig.add_subplot(2, 2, 1)\n",
    "plt.hist(trks_to_show.blob1_num_hits, hit_bins, hit_range)\n",
    "plt.xlabel('Number of hits')\n",
    "plt.title(f'Blob1 Num hits')\n",
    "\n",
    "ax2 = fig.add_subplot(2, 2, 2)\n",
    "plt.hist(trks_to_show.blob2_num_hits, hit_bins, hit_range)\n",
    "plt.xlabel('Number of hits')\n",
    "plt.title(f'Blob2 Num hits')\n",
    "\n",
    "ax3 = fig.add_subplot(2, 2, 3)\n",
    "plt.hist(evts_to_show.blob1_energy, E_bins, E_range)\n",
    "plt.xlabel('Energy [MeV]')\n",
    "plt.title(f'Blob1 Energy [MeV]')\n",
    "\n",
    "ax4 = fig.add_subplot(2, 2, 4)\n",
    "plt.hist(evts_to_show.blob2_energy, E_bins, E_range)\n",
    "plt.xlabel('Energy [MeV]')\n",
    "plt.title(f'Blob2 Energy [MeV]')\n",
    "\n",
    "fig = plt.figure(figsize = (7,6))\n",
    "plt.hist2d(evts_to_show.blob1_energy, evts_to_show.blob2_energy, E_bins,\n",
    "           [E_range, E_range], norm=LogNorm())\n",
    "plt.xlabel('Highest Blob Energy [MeV]')\n",
    "plt.ylabel('Lowest Blob Energy [MeV]')\n",
    "plt.title(f'Blob Energies [MeV]')"
   ]
  },
  {
   "cell_type": "code",
   "execution_count": 24,
   "metadata": {},
   "outputs": [
    {
     "data": {
      "text/plain": [
       "Text(0.5, 1.0, 'Event Energy')"
      ]
     },
     "execution_count": 24,
     "metadata": {},
     "output_type": "execute_result"
    },
    {
     "data": {
      "image/png": "[encoded data removed]",
      "text/plain": [
       "<Figure size 576x432 with 1 Axes>"
      ]
     },
     "metadata": {
      "needs_background": "light"
     },
     "output_type": "display_data"
    }
   ],
   "source": [
    "# Plotting event energy of events passing the ROI filter\n",
    "evts_to_show = events_df[events_df.roi_filter]\n",
    "\n",
    "E_range = [2.445, 2.470]\n",
    "E_bins = int((E_range[1] - E_range[0]) / units.keV)\n",
    "\n",
    "plt.hist(evts_to_show.sm_energy, E_bins, E_range)\n",
    "plt.xlabel('Event Energy [MeV]')\n",
    "plt.title((f'Event Energy'))"
   ]
  },
  {
   "cell_type": "code",
   "execution_count": null,
   "metadata": {},
   "outputs": [],
   "source": []
  },
  {
   "cell_type": "markdown",
   "metadata": {},
   "source": [
    "# Printing and Plotting"
   ]
  },
  {
   "cell_type": "markdown",
   "metadata": {},
   "source": [
    "#### Show functions"
   ]
  },
  {
   "cell_type": "code",
   "execution_count": 25,
   "metadata": {},
   "outputs": [],
   "source": [
    "from fanal.utils.mc_utils    import print_mc_event\n",
    "from fanal.utils.rec_utils   import print_rec_event\n",
    "from fanal.utils.plot_utils  import plot_mc_event\n",
    "from fanal.utils.plot_utils  import plot_rec_event"
   ]
  },
  {
   "cell_type": "code",
   "execution_count": 26,
   "metadata": {},
   "outputs": [],
   "source": [
    "def show_event(event_id     : int,\n",
    "               input_fname  : str,\n",
    "               output_fname : str,\n",
    "               event_type   : str,\n",
    "               print_mc     : bool = True,\n",
    "               print_rec    : bool = True,\n",
    "               plot_mc      : bool = True,\n",
    "               plot_rec     : bool = True\n",
    "              ):\n",
    "    print(f\"\\n\\n*** SHOWING EVENT ID: {event_id} ***\\n\")\n",
    "    \n",
    "    if print_mc : print_mc_event (event_id, input_fname, with_hits=False)\n",
    "    if print_rec: print_rec_event(event_id, output_fname)\n",
    "    if plot_mc  : plot_mc_event  (event_id, input_fname, event_type)\n",
    "    if plot_rec : plot_rec_event (event_id, output_fname)"
   ]
  },
  {
   "cell_type": "markdown",
   "metadata": {},
   "source": [
    "#### Selecting event ids to show"
   ]
  },
  {
   "cell_type": "code",
   "execution_count": 27,
   "metadata": {},
   "outputs": [
    {
     "name": "stdout",
     "output_type": "stream",
     "text": [
      "Event Ids to show: 170\n"
     ]
    }
   ],
   "source": [
    "# Single event\n",
    "event_ids = 170\n",
    "\n",
    "# Events that passed the ROI filter\n",
    "#event_ids = events_df[events_df.roi_filter].index.tolist()\n",
    "\n",
    "# Events that passed the energy filter but not the fiducial one\n",
    "#event_ids = events_df[(events_df.energy_filter == True) &\n",
    "#                      (events_df.fiduc_filter == False)].index.tolist()\n",
    "\n",
    "# Events with blob oerlap energy > 0\n",
    "#event_ids = tracks_df[tracks_df.ovlp_energy > 0.].index.get_level_values('event_id').tolist()\n",
    "\n",
    "print(\"Event Ids to show:\", event_ids)"
   ]
  },
  {
   "cell_type": "markdown",
   "metadata": {},
   "source": [
    "#### Filenames & Event type"
   ]
  },
  {
   "cell_type": "code",
   "execution_count": 28,
   "metadata": {},
   "outputs": [
    {
     "name": "stdout",
     "output_type": "stream",
     "text": [
      "Input  file name: /Users/Javi/Development/FANAL/data/next100/bb0nu/sim/*.h5\n",
      "Output file name: /Users/Javi/Development/FANAL/data/next100/bb0nu/fanal/fanal.next100.bb0nu.fwhm_07.voxel_10x10x10.h5\n",
      "Event type: bb0nu\n"
     ]
    }
   ],
   "source": [
    "input_fname  = config_df.loc['input_fname'].value\n",
    "output_fname = config_df.loc['output_fname'].value\n",
    "\n",
    "print(f\"Input  file name: {input_fname}\")\n",
    "print(f\"Output file name: {output_fname}\")\n",
    "\n",
    "event_type = config_df.loc['event_type'].value\n",
    "print(f\"Event type: {event_type}\")"
   ]
  },
  {
   "cell_type": "markdown",
   "metadata": {},
   "source": [
    "#### Showing events"
   ]
  },
  {
   "cell_type": "code",
   "execution_count": 29,
   "metadata": {
    "scrolled": false
   },
   "outputs": [
    {
     "name": "stdout",
     "output_type": "stream",
     "text": [
      "\n",
      "\n",
      "*** SHOWING EVENT ID: 170 ***\n",
      "\n",
      "\n",
      "Printing event 170 reconstructed contents ...\n",
      "\n",
      "* Event id: 170\n",
      "  mcParts: 4   mcHits: 271   mcE: 2457.830 keV  ->  MC Filter: True\n",
      "  smE: 2449.298 keV  ->  Energy Filter: True\n",
      "  Num voxels: 18  of size:  (6.8, 6.8, 6.8) mm\n",
      "  vetoE: 0.000  ->  Fiduc. Filter: True\n",
      "  Num tracks: 1  ->  Track Length: 47.9 mm   ->  Track Filter: True\n",
      "  Blob1 E: 1169.971 keV   Blob2 E: 747.250 keV   ->  Blob Filter: False\n",
      "  ROI Filter: False\n",
      "\n",
      "* Tracks:\n",
      "\n",
      "* Evt Id: 170 , Track id: 0\n",
      "  Energy: 2449.298 keV   Length: 47.861 mm   Num voxels: 18.0\n",
      "  True Ext1: (-108.0, 124.4, 913.9)  True Ext2: (-119.1, 87.6, 915.5)\n",
      "  Blob1: (-109.7, 114.6, 916.9)   Energy: 1169.971 keV   Num hits: 135.0\n",
      "  Blob2: (-119.7, 86.8, 913.7)   Energy: 747.250 keV   Num hits: 75.0\n",
      "  Blobs ovlp energy: 20.802 keV \n",
      "\n",
      "* Voxels:\n",
      "                            x           y           z    energy\n",
      "track_id voxel_id                                              \n",
      "0        0        -124.424887   88.289107  912.764801  0.044300\n",
      "         1        -124.424887   96.323070  912.764801  0.071850\n",
      "         2        -124.424887   96.323070  919.726735  0.034532\n",
      "         3        -124.424887  104.357033  912.764801  0.418708\n",
      "         4        -124.424887  104.357033  919.726735  0.191005\n",
      "         5        -124.424887  112.390996  905.802867  0.084231\n",
      "         6        -124.424887  112.390996  919.726735  0.045461\n",
      "         7        -117.630924   88.289107  912.764801  0.446794\n",
      "         8        -117.630924   88.289107  919.726735  0.030233\n",
      "         9        -117.630924   96.323070  919.726735  0.014053\n",
      "         10       -117.630924  112.390996  905.802867  0.095892\n",
      "         11       -117.630924  120.424959  905.802867  0.022222\n",
      "         12       -117.630924  120.424959  912.764801  0.073395\n",
      "         13       -117.630924  120.424959  919.726735  0.018185\n",
      "         14       -110.836961  112.390996  912.764801  0.092629\n",
      "         15       -110.836961  112.390996  919.726735  0.059162\n",
      "         16       -110.836961  120.424959  912.764801  0.618594\n",
      "         17       -110.836961  120.424959  919.726735  0.088052\n"
     ]
    }
   ],
   "source": [
    "event_ids = [event_ids] if isinstance(event_ids, int) else event_ids\n",
    "for event_id in event_ids:\n",
    "    show_event(event_id,\n",
    "               input_fname  = input_fname,\n",
    "               output_fname = output_fname,\n",
    "               event_type   = event_type,\n",
    "               print_mc     = False,\n",
    "               print_rec    = True,\n",
    "               plot_mc      = False,\n",
    "               plot_rec     = False)"
   ]
  },
  {
   "cell_type": "code",
   "execution_count": null,
   "metadata": {},
   "outputs": [],
   "source": []
  },
  {
   "cell_type": "code",
   "execution_count": null,
   "metadata": {},
   "outputs": [],
   "source": []
  }
 ],
 "metadata": {
  "kernelspec": {
   "display_name": "Python 3",
   "language": "python",
   "name": "python3"
  },
  "language_info": {
   "codemirror_mode": {
    "name": "ipython",
    "version": 3
   },
   "file_extension": ".py",
   "mimetype": "text/x-python",
   "name": "python",
   "nbconvert_exporter": "python",
   "pygments_lexer": "ipython3",
   "version": "3.7.9"
  }
 },
 "nbformat": 4,
 "nbformat_minor": 2
}
