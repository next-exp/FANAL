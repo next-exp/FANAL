{
 "cells": [
  {
   "cell_type": "markdown",
   "metadata": {},
   "source": [
    "<p style=\"font-family: Arial; font-size:3.7em; color:purple; font-style:bold\">\n",
    "<br>FANAL RESULTS SHOWCASE<br></p>"
   ]
  },
  {
   "cell_type": "markdown",
   "metadata": {},
   "source": [
    "This notebook illustrates the results got from FANAL analysis.\n",
    "\n",
    "It provides contents of generated DataFrames with some associated plots."
   ]
  },
  {
   "cell_type": "markdown",
   "metadata": {},
   "source": [
    "#### Setting general stuff"
   ]
  },
  {
   "cell_type": "code",
   "execution_count": null,
   "metadata": {},
   "outputs": [],
   "source": [
    "from IPython.core.display import HTML\n",
    "css = open('css/style-table.css').read() + open('css/style-notebook.css').read()\n",
    "HTML('<style>{}</style>'.format(css))"
   ]
  },
  {
   "cell_type": "code",
   "execution_count": null,
   "metadata": {},
   "outputs": [],
   "source": [
    "%load_ext autoreload\n",
    "%autoreload 2"
   ]
  },
  {
   "cell_type": "code",
   "execution_count": null,
   "metadata": {},
   "outputs": [],
   "source": [
    "%matplotlib inline"
   ]
  },
  {
   "cell_type": "markdown",
   "metadata": {},
   "source": [
    "#### Importings"
   ]
  },
  {
   "cell_type": "code",
   "execution_count": null,
   "metadata": {},
   "outputs": [],
   "source": [
    "import os\n",
    "import sys\n",
    "import numpy  as np\n",
    "import tables as tb\n",
    "import pandas as pd\n",
    "import matplotlib.pyplot as plt\n",
    "from   matplotlib.colors import LogNorm\n",
    "\n",
    "#%matplotlib widget"
   ]
  },
  {
   "cell_type": "code",
   "execution_count": null,
   "metadata": {},
   "outputs": [],
   "source": [
    "# Specific IC stuff\n",
    "\n",
    "import invisible_cities.core.system_of_units  as units"
   ]
  },
  {
   "cell_type": "code",
   "execution_count": null,
   "metadata": {},
   "outputs": [],
   "source": [
    "# Specific FANAL stuff\n",
    "\n",
    "from fanal.containers.events import Event\n",
    "from fanal.containers.events import EventCounter\n",
    "from fanal.containers.tracks import Track"
   ]
  },
  {
   "cell_type": "code",
   "execution_count": null,
   "metadata": {},
   "outputs": [],
   "source": [
    "plt.rcParams[\"figure.figsize\"] = 8, 6\n",
    "plt.rcParams[\"font.size\"     ] = 14"
   ]
  },
  {
   "cell_type": "markdown",
   "metadata": {},
   "source": [
    "# LOADING DATA"
   ]
  },
  {
   "cell_type": "code",
   "execution_count": null,
   "metadata": {},
   "outputs": [],
   "source": [
    "#results_fname = '/Users/Javi/Development/FANAL/fanal/fanal.tst.h5'\n",
    "\n",
    "iPATH         = \"../data/next100\"\n",
    "#results_fname = iPATH + \"/Bi214/fanal/fanal.next100.Bi214.fwhm_05.voxel_3x3x3.h5\"\n",
    "#results_fname = iPATH + \"/Bi214/fanal/fanal.next100.Bi214.fwhm_07.voxel_10x10x10.h5\"\n",
    "#results_fname = iPATH + \"/Tl208/fanal/fanal.next100.Tl208.fwhm_05.voxel_3x3x3.h5\"\n",
    "#results_fname = iPATH + \"/Tl208/fanal/fanal.next100.Tl208.fwhm_07.voxel_10x10x10.h5\"\n",
    "#results_fname = iPATH + \"/bb0nu/fanal/fanal.next100.bb0nu.fwhm_05.voxel_3x3x3.h5\"\n",
    "results_fname = iPATH + \"/bb0nu/fanal/fanal.next100.bb0nu.fwhm_07.voxel_10x10x10.h5\""
   ]
  },
  {
   "cell_type": "code",
   "execution_count": null,
   "metadata": {},
   "outputs": [],
   "source": [
    "config_df  = pd.read_hdf(results_fname, \"FANAL\" + '/config')\n",
    "events_df  = pd.read_hdf(results_fname, \"FANAL\" + '/events')\n",
    "tracks_df  = pd.read_hdf(results_fname, \"FANAL\" + '/tracks')\n",
    "voxels_df  = pd.read_hdf(results_fname, \"FANAL\" + '/voxels')\n",
    "results_df = pd.read_hdf(results_fname, \"FANAL\" + '/results')"
   ]
  },
  {
   "cell_type": "code",
   "execution_count": null,
   "metadata": {},
   "outputs": [],
   "source": [
    "print(\"Configuration run ...\")\n",
    "config_df"
   ]
  },
  {
   "cell_type": "markdown",
   "metadata": {},
   "source": [
    "# EVENT counters"
   ]
  },
  {
   "cell_type": "code",
   "execution_count": null,
   "metadata": {},
   "outputs": [],
   "source": [
    "results_df"
   ]
  },
  {
   "cell_type": "code",
   "execution_count": null,
   "metadata": {},
   "outputs": [],
   "source": [
    "print(EventCounter(**results_df.events))"
   ]
  },
  {
   "cell_type": "code",
   "execution_count": null,
   "metadata": {},
   "outputs": [],
   "source": [
    "# Accessing a single value\n",
    "print(f\"Num events that passed the ROI filter: {results_df.loc['roi_filter'].events}\")"
   ]
  },
  {
   "cell_type": "code",
   "execution_count": null,
   "metadata": {},
   "outputs": [],
   "source": [
    "results_df.plot.bar(title = 'ANALYSIS RESULTS', rot=45, log=True)"
   ]
  },
  {
   "cell_type": "code",
   "execution_count": null,
   "metadata": {},
   "outputs": [],
   "source": []
  },
  {
   "cell_type": "markdown",
   "metadata": {},
   "source": [
    "# DataFrames"
   ]
  },
  {
   "cell_type": "code",
   "execution_count": null,
   "metadata": {},
   "outputs": [],
   "source": [
    "evt_cols_to_show = ['mc_energy', 'mc_filter', 'sm_energy', 'energy_filter', 'num_voxels', 'fiduc_filter',\n",
    "                    'num_tracks', 'track_length', 'track_filter', 'blob1_energy', 'blob2_energy',\n",
    "                    'blob_filter', 'roi_filter']"
   ]
  },
  {
   "cell_type": "code",
   "execution_count": null,
   "metadata": {},
   "outputs": [],
   "source": [
    "# Showing the desired columns from first events\n",
    "events_df[evt_cols_to_show].head()"
   ]
  },
  {
   "cell_type": "code",
   "execution_count": null,
   "metadata": {},
   "outputs": [],
   "source": [
    "# Showing just the events that passed the TRACK filter\n",
    "events_df[events_df.track_filter][evt_cols_to_show]"
   ]
  },
  {
   "cell_type": "code",
   "execution_count": null,
   "metadata": {},
   "outputs": [],
   "source": [
    "# Showing first tracks\n",
    "tracks_df.head()"
   ]
  },
  {
   "cell_type": "code",
   "execution_count": null,
   "metadata": {},
   "outputs": [],
   "source": [
    "# Showing first voxels\n",
    "voxels_df.head()"
   ]
  },
  {
   "cell_type": "code",
   "execution_count": null,
   "metadata": {},
   "outputs": [],
   "source": []
  },
  {
   "cell_type": "markdown",
   "metadata": {},
   "source": [
    "# Some graphics"
   ]
  },
  {
   "cell_type": "code",
   "execution_count": null,
   "metadata": {},
   "outputs": [],
   "source": [
    "max_num_trks = 10\n",
    "plt.hist(events_df.num_tracks, max_num_trks, [0, max_num_trks])\n",
    "plt.xlabel('Num Tracks')\n",
    "plt.ylabel('Num. events')\n",
    "plt.title('Number of reconstructed tracks')"
   ]
  },
  {
   "cell_type": "code",
   "execution_count": null,
   "metadata": {},
   "outputs": [],
   "source": [
    "# Plotting energy, length and number of voxels of single track events\n",
    "evts_to_show = events_df[events_df.num_tracks == 1]\n",
    "\n",
    "fig = plt.figure(figsize = (18, 5))\n",
    "E_bins, E_range           = 20, [2.42, 2.50]\n",
    "voxels_bins, voxels_range = 20, [0, 50]\n",
    "length_bins, length_range = 20, [0, 200]\n",
    "\n",
    "# First track plots\n",
    "ax1 = fig.add_subplot(1, 3, 1)\n",
    "plt.hist(evts_to_show.sm_energy, E_bins, E_range)\n",
    "plt.title('Track Energy [MeV]', size=12)\n",
    "\n",
    "ax2 = fig.add_subplot(1, 3, 2)\n",
    "plt.hist(evts_to_show.num_voxels, voxels_bins, voxels_range)\n",
    "plt.title('Track - Num Voxels', size=12)\n",
    "\n",
    "ax3 = fig.add_subplot(1, 3, 3)\n",
    "plt.hist(evts_to_show.track_length, length_bins, length_range)\n",
    "plt.title('Track - Length', size=12)"
   ]
  },
  {
   "cell_type": "code",
   "execution_count": null,
   "metadata": {},
   "outputs": [],
   "source": [
    "from fanal.utils.general_utils import distance\n",
    "# Plotting distance between True extrema and Blob positions\n",
    "# of events passing the track_filter\n",
    "evts_to_show = events_df[events_df.track_filter]\n",
    "trks_to_show = tracks_df.loc[evts_to_show.index]\n",
    "\n",
    "# Getting distances\n",
    "distances_1 = []\n",
    "distances_2 = []\n",
    "for _, trk in trks_to_show.iterrows():\n",
    "    distances_1.append(distance(np.array([trk.t_ext1_x, trk.t_ext1_y, trk.t_ext1_z]),\n",
    "                                np.array([trk.blob1_x , trk.blob1_y , trk.blob1_z ])))\n",
    "    distances_2.append(distance(np.array([trk.t_ext2_x, trk.t_ext2_y, trk.t_ext2_z]),\n",
    "                                np.array([trk.blob2_x , trk.blob2_y , trk.blob2_z ])))\n",
    "distances = distances_1 + distances_2\n",
    "\n",
    "# PLOTTING\n",
    "fig = plt.figure(figsize  = (18, 5))\n",
    "dist_bins, dist_range     = 20, [0., 50.]\n",
    "\n",
    "# First distance\n",
    "ax1 = fig.add_subplot(1, 3, 1)\n",
    "plt.hist(distances_1, dist_bins, dist_range)\n",
    "plt.title('tExtreme-Blob 1 distance [mm]', size=12)\n",
    "\n",
    "# Second distance\n",
    "ax2 = fig.add_subplot(1, 3, 2)\n",
    "plt.hist(distances_2, dist_bins, dist_range)\n",
    "plt.title('tExtreme-Blob 2 distance [mm]', size=12)\n",
    "\n",
    "# All distances\n",
    "ax3 = fig.add_subplot(1, 3, 3)\n",
    "plt.hist(distances, dist_bins, dist_range)\n",
    "plt.title('tExtreme-Blob All distance [mm]', size=12)\n"
   ]
  },
  {
   "cell_type": "code",
   "execution_count": null,
   "metadata": {},
   "outputs": [],
   "source": [
    "# Plotting blob energies of events passing the track_filter\n",
    "evts_to_show = events_df[events_df.track_filter]\n",
    "trks_to_show = tracks_df.loc[evts_to_show.index]\n",
    "\n",
    "fig = plt.figure(figsize = (15,12))\n",
    "hit_bins, hit_range = 30, [0., 220]\n",
    "E_bins, E_range     = 30, [0., 1.50]\n",
    "\n",
    "ax1 = fig.add_subplot(2, 2, 1)\n",
    "plt.hist(trks_to_show.blob1_num_hits, hit_bins, hit_range)\n",
    "plt.xlabel('Number of hits')\n",
    "plt.title(f'Blob1 Num hits', size=14)\n",
    "\n",
    "ax2 = fig.add_subplot(2, 2, 2)\n",
    "plt.hist(trks_to_show.blob2_num_hits, hit_bins, hit_range)\n",
    "plt.xlabel('Number of hits')\n",
    "plt.title(f'Blob2 Num hits', size=14)\n",
    "\n",
    "ax3 = fig.add_subplot(2, 2, 3)\n",
    "plt.hist(evts_to_show.blob1_energy, E_bins, E_range)\n",
    "plt.xlabel('Energy [MeV]')\n",
    "plt.title(f'Blob1 Energy [MeV]', size=14)\n",
    "\n",
    "ax4 = fig.add_subplot(2, 2, 4)\n",
    "plt.hist(evts_to_show.blob2_energy, E_bins, E_range)\n",
    "plt.xlabel('Energy [MeV]')\n",
    "plt.title(f'Blob2 Energy [MeV]', size=14)\n",
    "\n",
    "fig = plt.figure(figsize = (7,6))\n",
    "plt.hist2d(evts_to_show.blob1_energy, evts_to_show.blob2_energy, E_bins,\n",
    "           [E_range, E_range], norm=LogNorm())\n",
    "plt.xlabel('Highest Blob Energy [MeV]')\n",
    "plt.ylabel('Lowest Blob Energy [MeV]')\n",
    "plt.title(f'Blob Energies [MeV]', size=14)"
   ]
  },
  {
   "cell_type": "code",
   "execution_count": null,
   "metadata": {},
   "outputs": [],
   "source": [
    "# Plotting event energy of events passing the ROI filter\n",
    "evts_to_show = events_df[events_df.roi_filter]\n",
    "\n",
    "E_range = [2.445, 2.470]\n",
    "E_bins = int((E_range[1] - E_range[0]) / units.keV)\n",
    "\n",
    "plt.hist(evts_to_show.sm_energy, E_bins, E_range)\n",
    "plt.xlabel('Event Energy [MeV]')\n",
    "plt.title((f'Event Energy'), size=14)"
   ]
  },
  {
   "cell_type": "code",
   "execution_count": null,
   "metadata": {},
   "outputs": [],
   "source": []
  },
  {
   "cell_type": "code",
   "execution_count": null,
   "metadata": {},
   "outputs": [],
   "source": []
  },
  {
   "cell_type": "markdown",
   "metadata": {},
   "source": [
    "# Printing and Plotting"
   ]
  },
  {
   "cell_type": "markdown",
   "metadata": {},
   "source": [
    "#### Show functions"
   ]
  },
  {
   "cell_type": "code",
   "execution_count": null,
   "metadata": {},
   "outputs": [],
   "source": [
    "from fanal.utils.mc_utils    import print_mc_event\n",
    "from fanal.utils.mc_utils    import plot_mc_event"
   ]
  },
  {
   "cell_type": "code",
   "execution_count": null,
   "metadata": {},
   "outputs": [],
   "source": [
    "# Printing DF contents\n",
    "def print_df_content(event_id):\n",
    "    print(f\"\\nPrinting event {event_id} DataFrames contents ...\\n\")\n",
    "    # Event data\n",
    "    print(Event(event_id, **events_df.loc[event_id]))\n",
    "    \n",
    "    # Tracks data\n",
    "    try:\n",
    "        evt_tracks = tracks_df.loc[event_id]\n",
    "        print(\"* Tracks:\\n\")\n",
    "        for track_id, track in evt_tracks.iterrows():\n",
    "            print(Track(event_id, track_id, **evt_tracks.iloc[track_id]))\n",
    "    except KeyError:\n",
    "        print(\"* NO Tracks:\\n\")\n",
    "        \n",
    "    # Voxels data\n",
    "    try:\n",
    "        evt_voxels = voxels_df.loc[event_id]\n",
    "        print(\"\\n* Voxels:\")\n",
    "        #for i, track in evt_tracks.iterrows():\n",
    "        #    print(Track(event_id, i, **evt_tracks.iloc[i]))\n",
    "        print(evt_voxels)\n",
    "    except KeyError:\n",
    "        print(\"* NO Voxels:\\n\")"
   ]
  },
  {
   "cell_type": "code",
   "execution_count": null,
   "metadata": {},
   "outputs": [],
   "source": [
    "# Plotting DF contents\n",
    "def plot_df_content(event_id):\n",
    "    # TODO\n",
    "    pass"
   ]
  },
  {
   "cell_type": "code",
   "execution_count": null,
   "metadata": {},
   "outputs": [],
   "source": [
    "def show_event(event_id,\n",
    "               print_mc : bool = True,\n",
    "               print_df : bool = True,\n",
    "               plot_mc  : bool = True,\n",
    "               plot_df  : bool = True\n",
    "              ):\n",
    "    print(f\"\\n\\n*** SHOWING EVENT ID: {event_id} ***\\n\")\n",
    "    \n",
    "    if print_mc: print_mc_event(event_id, input_fname, with_hits=False)\n",
    "    if print_df: print_df_content(event_id)\n",
    "    if plot_mc : plot_mc_event(event_id, input_fname, config_df.loc['event_type'].value)\n",
    "    if plot_df : plot_df_content(event_id)"
   ]
  },
  {
   "cell_type": "markdown",
   "metadata": {},
   "source": [
    "#### Input MC filename"
   ]
  },
  {
   "cell_type": "code",
   "execution_count": null,
   "metadata": {},
   "outputs": [],
   "source": [
    "input_fname = config_df.loc['input_fname'].value\n",
    "print(f\"Input file name: {input_fname}\")"
   ]
  },
  {
   "cell_type": "markdown",
   "metadata": {},
   "source": [
    "#### Selecting event ids to show"
   ]
  },
  {
   "cell_type": "code",
   "execution_count": null,
   "metadata": {},
   "outputs": [],
   "source": [
    "# Single event\n",
    "event_ids = 170\n",
    "\n",
    "# Events that passed the ROI filter\n",
    "#event_ids = events_df[events_df.roi_filter].index.tolist()\n",
    "\n",
    "# Events that passed the energy filter but not the fiducial one\n",
    "#event_ids = events_df[(events_df.energy_filter == True) &\n",
    "#                      (events_df.fiduc_filter == False)].index.tolist()\n",
    "\n",
    "# Events with blob oerlap energy > 0\n",
    "#event_ids = tracks_df[tracks_df.ovlp_energy > 0.].index.get_level_values('event_id').tolist()"
   ]
  },
  {
   "cell_type": "code",
   "execution_count": null,
   "metadata": {},
   "outputs": [],
   "source": [
    "print(\"Event Ids to show:\", event_ids)"
   ]
  },
  {
   "cell_type": "markdown",
   "metadata": {},
   "source": [
    "#### Showing events"
   ]
  },
  {
   "cell_type": "code",
   "execution_count": null,
   "metadata": {
    "scrolled": false
   },
   "outputs": [],
   "source": [
    "print_mc = True\n",
    "print_df = True\n",
    "plot_mc  = True\n",
    "plot_df  = False\n",
    "\n",
    "if type(event_ids) == int:\n",
    "    show_event(event_ids, print_mc, print_df, plot_mc, plot_df)\n",
    "else:\n",
    "    for event_id in event_ids:\n",
    "        show_event(event_id, print_mc, print_df, plot_mc, plot_df)"
   ]
  },
  {
   "cell_type": "code",
   "execution_count": null,
   "metadata": {},
   "outputs": [],
   "source": []
  }
 ],
 "metadata": {
  "kernelspec": {
   "display_name": "Python 3",
   "language": "python",
   "name": "python3"
  },
  "language_info": {
   "codemirror_mode": {
    "name": "ipython",
    "version": 3
   },
   "file_extension": ".py",
   "mimetype": "text/x-python",
   "name": "python",
   "nbconvert_exporter": "python",
   "pygments_lexer": "ipython3",
   "version": "3.7.9"
  }
 },
 "nbformat": 4,
 "nbformat_minor": 2
}
